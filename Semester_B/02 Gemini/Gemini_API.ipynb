{
  "cells": [
    {
      "cell_type": "markdown",
      "metadata": {
        "id": "nGCSuqa3AAQr"
      },
      "source": [
        "### Install the Python SDK\n",
        "\n",
        "The Python SDK for the Gemini API, is contained in the [`google-generativeai`](https://pypi.org/project/google-generativeai/) package. Install the dependency using pip:\n",
        "\n",
        "https://colab.research.google.com/github/google/generative-ai-docs/blob/main/site/en/tutorials/python_quickstart.ipynb#scrollTo=G-zBkueElVEO\n",
        "\n",
        "https://ai.google.dev/tutorials/python_quickstart\n"
      ]
    },
    {
      "cell_type": "code",
      "execution_count": 1,
      "metadata": {
        "id": "wdah2H_o_4f0",
        "colab": {
          "base_uri": "https://localhost:8080/"
        },
        "outputId": "6dd764b6-e976-4284-c1bf-6e41ea7b2a7c"
      },
      "outputs": [
        {
          "output_type": "stream",
          "name": "stdout",
          "text": [
            "\u001b[?25l     \u001b[90m━━━━━━━━━━━━━━━━━━━━━━━━━━━━━━━━━━━━━━━━\u001b[0m \u001b[32m0.0/158.8 kB\u001b[0m \u001b[31m?\u001b[0m eta \u001b[36m-:--:--\u001b[0m\r\u001b[2K     \u001b[91m━━━━━━━━━━━━━━━━━━━━━━━━━━━━\u001b[0m\u001b[90m╺\u001b[0m\u001b[90m━━━━━━━━━━━\u001b[0m \u001b[32m112.6/158.8 kB\u001b[0m \u001b[31m3.3 MB/s\u001b[0m eta \u001b[36m0:00:01\u001b[0m\r\u001b[2K     \u001b[90m━━━━━━━━━━━━━━━━━━━━━━━━━━━━━━━━━━━━━━━━\u001b[0m \u001b[32m158.8/158.8 kB\u001b[0m \u001b[31m3.0 MB/s\u001b[0m eta \u001b[36m0:00:00\u001b[0m\n",
            "\u001b[?25h"
          ]
        }
      ],
      "source": [
        "!pip install -q -U google-generativeai"
      ]
    },
    {
      "cell_type": "markdown",
      "metadata": {
        "id": "evA6zTg0AF_y"
      },
      "source": [
        "\n",
        "# This is formatted as code\n",
        "\n",
        "\n",
        "### Import packages"
      ]
    },
    {
      "cell_type": "markdown",
      "metadata": {
        "id": "3gilna-rAHCK"
      },
      "source": [
        "Import the necessary packages."
      ]
    },
    {
      "cell_type": "code",
      "execution_count": 2,
      "metadata": {
        "id": "YN-Ju3YqAJCS"
      },
      "outputs": [],
      "source": [
        "import os\n",
        "import json\n",
        "import pandas as pd\n",
        "import time\n",
        "import re\n",
        "import csv\n",
        "import concurrent.futures\n",
        "import pathlib\n",
        "import textwrap\n",
        "\n",
        "import google.generativeai as genai\n",
        "\n",
        "from IPython.display import display\n",
        "from IPython.display import Markdown\n",
        "\n",
        "\n",
        "def to_markdown(text):\n",
        "  text = text.replace('•', '  *')\n",
        "  return Markdown(textwrap.indent(text, '> ', predicate=lambda _: True))\n",
        "\n",
        "  # Used to securely store your API key\n",
        "from google.colab import userdata"
      ]
    },
    {
      "cell_type": "markdown",
      "metadata": {
        "id": "4WyM5v5IAQiq"
      },
      "source": [
        "### Setup your API key\n",
        "\n",
        "Before you can use the Gemini API, you must first obtain an API key. If you don't already have one, create a key with one click in Google AI Studio.\n",
        "\n",
        "<a class=\"button button-primary\" href=\"https://makersuite.google.com/app/apikey\" target=\"_blank\" rel=\"noopener noreferrer\">Get an API key</a>\n",
        "\n",
        "\n",
        "In Colab, add the key to the secrets manager under the \"🔑\" in the left panel. Give it the name `GOOGLE_API_KEY`.\n",
        "\n",
        "Once you have the API key, pass it to the SDK. You can do this in two ways:\n",
        "\n",
        "* Put the key in the `GOOGLE_API_KEY` environment variable (the SDK will automatically pick it up from there).\n",
        "* Pass the key to `genai.configure(api_key=...)`\n"
      ]
    },
    {
      "cell_type": "code",
      "execution_count": 3,
      "metadata": {
        "id": "5CE2WIa8AbCx"
      },
      "outputs": [],
      "source": [
        "# Or use `os.getenv('GOOGLE_API_KEY')` to fetch an environment variable.\n",
        "GOOGLE_API_KEY=userdata.get('GOOGLE_API_KEY')\n",
        "\n",
        "genai.configure(api_key=GOOGLE_API_KEY)"
      ]
    },
    {
      "cell_type": "markdown",
      "metadata": {
        "id": "nhh3kIopARlM"
      },
      "source": [
        "## List models\n",
        "\n",
        "Now you're ready to call the Gemini API. Use `list_models` to see the available Gemini models:\n",
        "\n",
        "* `gemini-pro`: optimized for text-only prompts.\n",
        "* `gemini-pro-vision`: optimized for text-and-images prompts."
      ]
    },
    {
      "cell_type": "code",
      "execution_count": 4,
      "metadata": {
        "colab": {
          "base_uri": "https://localhost:8080/",
          "height": 225
        },
        "id": "N-gvKH_DAhT5",
        "outputId": "23bb8f9f-9f51-4fbc-f509-9c786e3cfc72"
      },
      "outputs": [
        {
          "output_type": "stream",
          "name": "stdout",
          "text": [
            "models/gemini-1.0-pro\n",
            "models/gemini-1.0-pro-001\n",
            "models/gemini-1.0-pro-latest\n",
            "models/gemini-1.0-pro-vision-latest\n",
            "models/gemini-1.5-flash\n",
            "models/gemini-1.5-flash-001\n",
            "models/gemini-1.5-flash-latest\n",
            "models/gemini-1.5-pro\n",
            "models/gemini-1.5-pro-001\n",
            "models/gemini-1.5-pro-latest\n",
            "models/gemini-pro\n",
            "models/gemini-pro-vision\n"
          ]
        }
      ],
      "source": [
        "for m in genai.list_models():\n",
        "  if 'generateContent' in m.supported_generation_methods:\n",
        "    print(m.name)"
      ]
    },
    {
      "cell_type": "markdown",
      "metadata": {
        "id": "fVQAtLWEAnt7"
      },
      "source": [
        "Note: For detailed information about the available models, including their capabilities and rate limits, see [Gemini models](https://ai.google.dev/models/gemini). There are options for requesting [rate limit increases](https://ai.google.dev/docs/increase_quota). The rate limit for Gemini-Pro models is 60 requests per minute (RPM).\n",
        "\n",
        "The `genai` package also supports the PaLM  family of models, but only the Gemini models support the generic, multimodal capabilities of the `generateContent` method."
      ]
    },
    {
      "cell_type": "markdown",
      "metadata": {
        "id": "8V2PmdVxAtgk"
      },
      "source": [
        "## Generate text from text inputs\n",
        "\n",
        "For text-only prompts, use the `gemini-pro` model:"
      ]
    },
    {
      "cell_type": "code",
      "execution_count": 5,
      "metadata": {
        "id": "jO-uiISLAoiD"
      },
      "outputs": [],
      "source": [
        "# Create the model\n",
        "# See https://ai.google.dev/api/python/google/generativeai/GenerativeModel\n",
        "generation_config = {\n",
        "  \"temperature\": 1,\n",
        "  \"top_p\": 0.95,\n",
        "  \"top_k\": 64,\n",
        "  \"max_output_tokens\": 8192,\n",
        "  \"response_mime_type\": \"text/plain\",\n",
        "}\n",
        "safety_settings = [\n",
        "  {\n",
        "    \"category\": \"HARM_CATEGORY_HARASSMENT\",\n",
        "    \"threshold\": \"BLOCK_NONE\",\n",
        "  },\n",
        "  {\n",
        "    \"category\": \"HARM_CATEGORY_HATE_SPEECH\",\n",
        "    \"threshold\": \"BLOCK_NONE\",\n",
        "  },\n",
        "  {\n",
        "    \"category\": \"HARM_CATEGORY_SEXUALLY_EXPLICIT\",\n",
        "    \"threshold\": \"BLOCK_NONE\",\n",
        "  },\n",
        "  {\n",
        "    \"category\": \"HARM_CATEGORY_DANGEROUS_CONTENT\",\n",
        "    \"threshold\": \"BLOCK_NONE\",\n",
        "  },\n",
        "]\n",
        "\n",
        "model = genai.GenerativeModel(\n",
        "  model_name=\"gemini-1.0-pro\",\n",
        "  safety_settings=safety_settings\n",
        "  #generation_config=generation_config,\n",
        ")\n",
        "\n",
        "\n",
        "#model = genai.GenerativeModel('models/gemini-1.0-pro')"
      ]
    },
    {
      "cell_type": "markdown",
      "metadata": {
        "id": "2zOmFWqCBjki"
      },
      "source": [
        "### Data:\n",
        "Our data will be taken from 162 snort rules that have already been manually labeled to techniques from MITRE ATT&CK."
      ]
    },
    {
      "cell_type": "code",
      "execution_count": 6,
      "metadata": {
        "colab": {
          "base_uri": "https://localhost:8080/"
        },
        "id": "_xfXZdYzBXoU",
        "outputId": "8ad089cc-717c-4465-c390-338ca2bd28a5"
      },
      "outputs": [
        {
          "output_type": "stream",
          "name": "stdout",
          "text": [
            "Cloning into 'Labeling_IDS_to_MITRE'...\n",
            "remote: Enumerating objects: 380, done.\u001b[K\n",
            "remote: Counting objects: 100% (380/380), done.\u001b[K\n",
            "remote: Compressing objects: 100% (269/269), done.\u001b[K\n",
            "remote: Total 380 (delta 195), reused 280 (delta 96), pack-reused 0\u001b[K\n",
            "Receiving objects: 100% (380/380), 8.03 MiB | 7.83 MiB/s, done.\n",
            "Resolving deltas: 100% (195/195), done.\n"
          ]
        }
      ],
      "source": [
        "!git clone https://github.com/trickdeath0/Labeling_IDS_to_MITRE.git"
      ]
    },
    {
      "cell_type": "code",
      "execution_count": 7,
      "metadata": {
        "colab": {
          "base_uri": "https://localhost:8080/"
        },
        "id": "kjfmOSZoBs0B",
        "outputId": "9c5e952d-573c-4fb2-d331-7213f95cee2a"
      },
      "outputs": [
        {
          "output_type": "stream",
          "name": "stdout",
          "text": [
            "     Sid                                  URL       technique ids  \\\n",
            "0  50094  https://snort.org/rule_docs/1-50094           ['T1187']   \n",
            "1  38563  https://snort.org/rule_docs/1-38563           ['T1056']   \n",
            "2    976    https://snort.org/rule_docs/1-976           ['T1204']   \n",
            "3   1129   https://snort.org/rule_docs/1-1129           ['T1218']   \n",
            "4  27967  https://snort.org/rule_docs/1-27967  ['T1505', 'T1219']   \n",
            "\n",
            "                                                Rule  \n",
            "0  alert tcp any $HTTP_PORTS -> any any ( msg:\"IN...  \n",
            "1  alert tcp $EXTERNAL_NET $HTTP_PORTS -> $HOME_N...  \n",
            "2  alert tcp $EXTERNAL_NET any -> $HTTP_SERVERS $...  \n",
            "3  alert tcp $EXTERNAL_NET any -> $HTTP_SERVERS $...  \n",
            "4  alert tcp $EXTERNAL_NET any -> $HOME_NET $HTTP...  \n",
            "\n",
            "len(data)=300\n"
          ]
        }
      ],
      "source": [
        "# data = pd.read_csv('/content/Labeling_IDS_to_MITRE/Semester_B/01 stratification/ground_truth.csv') # Nir experiment\n",
        "data = pd.read_csv('/content/Labeling_IDS_to_MITRE/Semester_B/01 stratification/test_data_fix.csv') # Our experiment\n",
        "print(data.head())\n",
        "rules_list = data['Rule']\n",
        "true_labels = data['technique ids']\n",
        "\n",
        "#print(data['Sid'][0+41])\n",
        "print(f\"\\n{len(data)=}\")"
      ]
    },
    {
      "cell_type": "code",
      "execution_count": 8,
      "metadata": {
        "id": "GN3E79jbE-3u"
      },
      "outputs": [],
      "source": [
        "def clean_response(text):\n",
        "    text = text.data.replace(\">\", \"\").strip()  # Remove leading \">\", whitespace\n",
        "    try:\n",
        "      text = text.replace(\"```json\", \"\")\n",
        "      text = text.replace(\"```\", \"\")\n",
        "    except:\n",
        "      pass\n",
        "    return text\n"
      ]
    },
    {
      "cell_type": "markdown",
      "source": [
        "# **Zero Shot (ZS):**\n",
        "At this stage, the LLMs will receive a prompt that does not include the list of techniques from MITRE ATT&CK in order to examine the results of the models based on prior knowledge that has been trained. According to our request, the LLMs will classify the techniques according to the content of the rule."
      ],
      "metadata": {
        "id": "LPrCg0HfHfIW"
      }
    },
    {
      "cell_type": "code",
      "source": [
        "def ZS(snort_rule):\n",
        "\n",
        "  prompt = f\"\"\"Rule: {snort_rule}\n",
        "  Return a MITRE technique ID (with quotation marks) that related to the rule\"\"\"\n",
        "\n",
        "  message = model.generate_content(prompt)\n",
        "\n",
        "  return message"
      ],
      "metadata": {
        "id": "EfW-gAONHuN0"
      },
      "execution_count": null,
      "outputs": []
    },
    {
      "cell_type": "markdown",
      "metadata": {
        "id": "VnatnaJWBVxS"
      },
      "source": [
        "# **Prompting without techniques guide and without example (WTGWE):**\n",
        "At this stage, the LLMs will receive a prompt that does not include the list of techniques from MITRE ATT&CK in order to examine the results of the models based on prior knowledge that has been trained. According to our request, the LLMs will classify the techniques according to the content of the rule.\n"
      ]
    },
    {
      "cell_type": "markdown",
      "metadata": {
        "id": "PDsDx3w3hWsg"
      },
      "source": [
        "**Prompt1:**:\n",
        "\n",
        "      prompt = f\"\"\"You are an information security expert. Your task is to label IDS rules for MITRE ATT&CK techniques based on your cybersecurity knowledge. For the task, you are going to get a single Snort IDS rule and you will need to return the most relevant techniques from MITRE ATT&CK that are related to the rule.\n",
        "      Try to search based on keywords and based on the knowledge you have. For each technique include the following information as JSON in this order: 'Sid', 'Technique ID', 'Technique Name', 'Quotes', 'Explanation'.\n",
        "      Note: The value of the citation field should contain quotation marks from the data sets relevant to the mapped technique are the main reason you chose this technique to be correct. The value of the explanation should be your explanation of why you decided to give the technique and how it relates to the rule. The technique ID should be the official MITRE technique ID.\n",
        "      Please don't write anything but the JSON. Rule: {snort_rule}\"\"\"\n",
        "\n",
        "\n",
        "**prompt2:**:\n",
        "\n",
        "      prompt2 = f\"\"\"I'm going to give you a Snort rule. Read the Snort rule carefully, because I'm going to given you a task about it. Here is the Snort rule: <snort_rule>{snort_rule}</snort_rule>\n",
        "\n",
        "      First, find the techniques from MITRE ATT&CK that are most relevant to the Snort rule.\n",
        "\n",
        "      Then, answer the task, for each technique include the following information as JSON in this order: 'Sid', 'Technique ID', 'Technique Name', 'Quotes', 'Explanation'.\n",
        "\n",
        "      Note: The value of the citation field should contain quotation marks from the data sets relevant to the mapped technique are the main reason you chose this technique to be correct. The value of the explanation should be your explanation of why you decided to give the technique and how it relates to the rule. The technique ID should be the official MITRE technique ID.\n",
        "\n",
        "      Thus, the format of your overall response should look like what's shown between the <examples></examples> tags. Make sure to follow the formatting and spacing exactly.\n",
        "\n",
        "\n",
        "      <examples>\n",
        "        [\n",
        "          \"sid\": \"2274\",\n",
        "          \"Technique ID\": \"T1110\",\n",
        "          \"Technique name\": \"Brute Force\",\n",
        "          \"Quotes\": [\n",
        "            \"\\\"PROTOCOL-POP login brute force attempt\\\"\",\n",
        "            \"track by_dst,count 30,seconds 30\"\n",
        "          ],\n",
        "          \"Explanation\": \"The rule is looking for excessive \\\"USER\\\" commands within a short period of time, which are common indicators of brute-force attacks targeting the POP3 service.\"\n",
        "        ]\n",
        "        </examples>\n",
        "\n",
        "        Do not include anything besides write the JSON.\n",
        "        \"\"\"\n",
        "\n",
        "\n",
        "**prompt3:**:\n",
        "\n",
        "        prompt3 = f\"\"\"You work in a company that deals with information security, your role in the company is to label techniques from MITRE ATT&CK to the rules of IDS systems. The labeling between a rule and a technique indicates that the attacker operated with a technique that you found to be suitable for the rule that alerted the IDS system. Now we will test your knowledge labeling IDS rules for MITRE ATT&CK techniques. For your task, you're going to have a single Snort IDS rule and you'll need to label the most relevant techniques from MITRE ATT&CK associated with the rule. From the rule you receive, your labeling should be based on your knowledge and the information found within the 'msg' in the rule received. For each technique you call the rule, include the following information as JSON format in this order: 'Sid', 'Technique ID', 'Technique Name', 'Quotes', 'Explanation'.  Note: The value of the 'Quotes' field should contain quotation marks from the data sets relevant to the mapped technique. The value of the 'Explanation' should be your explanation of why you decided to give the technique and how it relates to the rule. The 'Technique ID' should be the official MITRE technique ID.\n",
        "        Please don't write anything but the JSON. Rule: {snort_rule}\"\"\")\n",
        "\n",
        "\n",
        "**prompt4:**\n",
        "\n",
        "        prompt4 = f'''You are going to receive a Snort rule and your task is to find as many MITRE ATT&CK techniques as possible that are associated with the rule. Note: You should categorize the techniques to 1 or 2. Technique of type 1 is a technique that you can associate with the rule directly based on the rule. Technique of type 2 is a technique that can be associated with the rule indirectly, based on your knowledge and understanding. The categorization value should be the value 1 or 2, based on the explanation given above. The quotes field value should contain quotes from the rules data that are relevant to the technique mapped and they are the main reason you believe the mapping to this technique is correct. The explanation’s value should be your explanation for why you decided to give the technique and how it is associated with the rule. The technique id should be the official MITRE technique id. For each technique include the following information as JSON: sid, Technique id, Technique name, Categorization, Quotes, Explanation. After each rule I will provide you with, answer according to the provided format. Please do not write anything else but the JSON. Rule: {snort_rule}''')\n",
        "\n",
        "\n",
        "**prompt5 fix:**\n",
        "\n",
        "        prompt5 = f\"\"\"You are an information security expert. Your task is to label IDS rules for MITER ATT&CK techniques based on your cybersecurity knowledge. For the task, you are going to get a single Snort IDS rule and you will need to return no more than 2 most relevant techniques from MITER ATT&CK that are related to the rule.\n",
        "        Try to search based on keywords and based on the knowledge you have. For each technique include the following information as JSON in this order: 'Sid', 'Technique ID', 'Technique Name', 'Quotes', 'Explanation'.\n",
        "        Note: The value of the citation field should contain quotation marks from the data sets relevant to the mapped technique are the main reason you chose this technique to be correct. The value of the explanation should be your explanation of why you decided to give the technique and how it relates to the rule. The technique ID should be the official MITER technique ID.\n",
        "        Please don't write anything but the JSON. Rule: {snort_rule}\"\"\""
      ]
    },
    {
      "cell_type": "code",
      "execution_count": null,
      "metadata": {
        "id": "nEo0jmQhA0Kj"
      },
      "outputs": [],
      "source": [
        "def WTGWE(snort_rule):\n",
        "\n",
        "  prompt = f\"\"\"You are an information security expert. Your task is to label IDS rules for MITER ATT&CK techniques based on your cybersecurity knowledge. For the task, you are going to get a single Snort IDS rule and you will need to return no more than 2 most relevant techniques from MITER ATT&CK that are related to the rule.\n",
        "        Try to search based on keywords and based on the knowledge you have. For each technique include the following information as JSON in this order: 'Sid', 'Technique ID', 'Technique Name', 'Quotes', 'Explanation'.\n",
        "        Note: The value of the citation field should contain quotation marks from the data sets relevant to the mapped technique are the main reason you chose this technique to be correct. The value of the explanation should be your explanation of why you decided to give the technique and how it relates to the rule. The technique ID should be the official MITER technique ID.\n",
        "        Please don't write anything but the JSON. Rule: {snort_rule}\"\"\"\n",
        "\n",
        "  message = model.generate_content(prompt)\n",
        "\n",
        "  return message\n"
      ]
    },
    {
      "cell_type": "markdown",
      "metadata": {
        "id": "ZOeuevpEthmI"
      },
      "source": [
        "# **Prompting without techniques guide and with 1 example (WTG1E):**\n",
        "At this stage, the LLMs will receive a prompt that does not include the list of techniques from MITRE ATT&CK in order to examine the results of the models based on prior knowledge that has been trained. According to our request, the LLMs will classify the techniques according to the content of the rule.\n",
        "\n",
        "In addition, the prompt has one example (one shot)"
      ]
    },
    {
      "cell_type": "code",
      "execution_count": null,
      "metadata": {
        "id": "FL0QJet6tlF5"
      },
      "outputs": [],
      "source": [
        "def WTG1E(snort_rule):\n",
        "\n",
        "  prompt = f\"\"\"Q: You are an information security expert. Your task is to label IDS rules for MITER ATT&CK techniques based on your cybersecurity knowledge. For the task, you are going to get a single Snort IDS rule and you will need to return no more than 2 most relevant techniques from MITER ATT&CK that are related to the rule.\n",
        "        Try to search based on keywords and based on the knowledge you have. For each technique include the following information as JSON in this order: 'Sid', 'Technique ID', 'Technique Name', 'Quotes', 'Explanation'.\n",
        "        Note: The value of the citation field should contain quotation marks from the data sets relevant to the mapped technique are the main reason you chose this technique to be correct. The value of the explanation should be your explanation of why you decided to give the technique and how it relates to the rule. The technique ID should be the official MITER technique ID.\n",
        "        Please don't write anything but the JSON. Rule: \"alert tcp $EXTERNAL_NET $HTTP_PORTS -> $HOME_NET any ( msg:\"\"MALWARE-CNC Win.Trojan.GateKeylogger fake 404 response\"\"; flow:to_client,established; http_stat_code; content:\"\"200\"\"; http_stat_msg; content:\"\"OK\"\"; pkt_data; content:\"\">404 Not Found<\"\",fast_pattern,nocase; content:\"\" requested URL / was not found \"\"; metadata:impact_flag red,ruleset community; service:http; T1056; classtype:trojan-activity; sid:38563; rev:4; )\"\n",
        "    A: [\n",
        "        \"sid\": \"38563\",\n",
        "        \"Technique ID\": \"T1056\",\n",
        "        \"Technique name\": \"Input Capture\",\n",
        "        \"Quotes\": \"\\\"Input Capture techniques involve intercepting and capturing user input data, such as keystrokes, to obtain sensitive information. The rule indicates the presence of a Trojan (GateKeylogger) that mimics a '404 Not Found' error to disguise its communication with a command and control server, which is a common method used by keyloggers to stealthily capture input data.\\\"\",\n",
        "        \"Explanation\": \"This event is generated when activity relating to malware is detected.\"\n",
        "    ]\n",
        "\n",
        "    Q: You are an information security expert. Your task is to label IDS rules for MITER ATT&CK techniques based on your cybersecurity knowledge. For the task, you are going to get a single Snort IDS rule and you will need to return no more than 2 most relevant techniques from MITER ATT&CK that are related to the rule.\n",
        "        Try to search based on keywords and based on the knowledge you have. For each technique include the following information as JSON in this order: 'Sid', 'Technique ID', 'Technique Name', 'Quotes', 'Explanation'.\n",
        "        Note: The value of the citation field should contain quotation marks from the data sets relevant to the mapped technique are the main reason you chose this technique to be correct. The value of the explanation should be your explanation of why you decided to give the technique and how it relates to the rule. The technique ID should be the official MITER technique ID.\n",
        "        Please don't write anything but the JSON. Rule: {snort_rule}\n",
        "    A: \"\"\"\n",
        "\n",
        "  message = model.generate_content(prompt)\n",
        "\n",
        "  return message"
      ]
    },
    {
      "cell_type": "markdown",
      "metadata": {
        "id": "kXZc9FsDt6NI"
      },
      "source": [
        "# **Prompting without techniques guide and with 2 example (WTG2E):**\n",
        "At this stage, the LLMs will receive a prompt that does not include the list of techniques from MITRE ATT&CK in order to examine the results of the models based on prior knowledge that has been trained. According to our request, the LLMs will classify the techniques according to the content of the rule.\n",
        "\n",
        "In addition, the prompt has two example (two shot)"
      ]
    },
    {
      "cell_type": "code",
      "execution_count": null,
      "metadata": {
        "id": "PMJZi1pRt-FG"
      },
      "outputs": [],
      "source": [
        "def WTG2E(snort_rule):\n",
        "\n",
        "  prompt = f\"\"\"Q: You are an information security expert. Your task is to label IDS rules for MITER ATT&CK techniques based on your cybersecurity knowledge. For the task, you are going to get a single Snort IDS rule and you will need to return no more than 2 most relevant techniques from MITER ATT&CK that are related to the rule.\n",
        "        Try to search based on keywords and based on the knowledge you have. For each technique include the following information as JSON in this order: 'Sid', 'Technique ID', 'Technique Name', 'Quotes', 'Explanation'.\n",
        "        Note: The value of the citation field should contain quotation marks from the data sets relevant to the mapped technique are the main reason you chose this technique to be correct. The value of the explanation should be your explanation of why you decided to give the technique and how it relates to the rule. The technique ID should be the official MITER technique ID.\n",
        "        Please don't write anything but the JSON. Rule: \"alert tcp $EXTERNAL_NET $HTTP_PORTS -> $HOME_NET any ( msg:\"\"MALWARE-CNC Win.Trojan.GateKeylogger fake 404 response\"\"; flow:to_client,established; http_stat_code; content:\"\"200\"\"; http_stat_msg; content:\"\"OK\"\"; pkt_data; content:\"\">404 Not Found<\"\",fast_pattern,nocase; content:\"\" requested URL / was not found \"\"; metadata:impact_flag red,ruleset community; service:http; T1056; classtype:trojan-activity; sid:38563; rev:4; )\"\n",
        "    A: [\n",
        "        \"sid\": \"38563\",\n",
        "        \"Technique ID\": \"T1056\",\n",
        "        \"Technique name\": \"Input Capture\",\n",
        "        \"Quotes\": \"\\\"Input Capture techniques involve intercepting and capturing user input data, such as keystrokes, to obtain sensitive information. The rule indicates the presence of a Trojan (GateKeylogger) that mimics a '404 Not Found' error to disguise its communication with a command and control server, which is a common method used by keyloggers to stealthily capture input data.\\\"\",\n",
        "        \"Explanation\": \"This event is generated when activity relating to malware is detected.\"\n",
        "    ]\n",
        "\n",
        "    Q: You are an information security expert. Your task is to label IDS rules for MITER ATT&CK techniques based on your cybersecurity knowledge. For the task, you are going to get a single Snort IDS rule and you will need to return no more than 2 most relevant techniques from MITER ATT&CK that are related to the rule.\n",
        "        Try to search based on keywords and based on the knowledge you have. For each technique include the following information as JSON in this order: 'Sid', 'Technique ID', 'Technique Name', 'Quotes', 'Explanation'.\n",
        "        Note: The value of the citation field should contain quotation marks from the data sets relevant to the mapped technique are the main reason you chose this technique to be correct. The value of the explanation should be your explanation of why you decided to give the technique and how it relates to the rule. The technique ID should be the official MITER technique ID.\n",
        "        Please don't write anything but the JSON. Rule: \"alert tcp $EXTERNAL_NET any -> $HOME_NET $HTTP_PORTS ( msg:\"\"SERVER-OTHER Apache Log4j logging remote code execution attempt\"\"; flow:to_server,established; http_header; content:\"\"upper\"\",fast_pattern,nocase; pcre:\"\"/(%(25)?24|\\x24)(%(25)?7b|\\x7b)upper(%(25)?3a|\\x3a)/i\"\"; metadata:policy balanced-ips drop,policy connectivity-ips drop,policy max-detect-ips drop,policy security-ips drop,ruleset community; service:http; classtype:attempted-user; gid:1; sid:58738; rev:5; )\"\n",
        "    A: [\n",
        "        \"sid\": \"23934\",\n",
        "        \"Technique ID\": \"T1190\",\n",
        "        \"Technique name\": \"Exploit Public-Facing Application\",\n",
        "        \"Quotes\": \"Adversaries may attempt to exploit a weakness in an Internet-facing host or system to initially access a network.\",\n",
        "        \"Explanation\": \"This rule looks for attempts to exploit a remote code execution vulnerability in Log4j's \"Lookup\" functionality.\"\n",
        "    ]\n",
        "\n",
        "    Q: You are an information security expert. Your task is to label IDS rules for MITER ATT&CK techniques based on your cybersecurity knowledge. For the task, you are going to get a single Snort IDS rule and you will need to return no more than 2 most relevant techniques from MITER ATT&CK that are related to the rule.\n",
        "        Try to search based on keywords and based on the knowledge you have. For each technique include the following information as JSON in this order: 'Sid', 'Technique ID', 'Technique Name', 'Quotes', 'Explanation'.\n",
        "        Note: The value of the citation field should contain quotation marks from the data sets relevant to the mapped technique are the main reason you chose this technique to be correct. The value of the explanation should be your explanation of why you decided to give the technique and how it relates to the rule. The technique ID should be the official MITER technique ID.\n",
        "        Please don't write anything but the JSON. Rule: {snort_rule}\n",
        "    A: \"\"\"\n",
        "\n",
        "\n",
        "  message = model.generate_content(prompt)\n",
        "\n",
        "  return message"
      ]
    },
    {
      "cell_type": "markdown",
      "metadata": {
        "id": "9BUVU20puL_k"
      },
      "source": [
        "# **Prompting with techniques guide and without example (TGWE):**\n",
        "In the next step, we will provide the LLMs with the list of all the techniques from MITRE ATT&CK, to guarantee that the models are targeted to the present techniques, even the infrequently used ones. Each technique will include the technique number, the name of the technique and its description. The techniques will be provided to the models in the form of batches (due to the memory limit of the models) and after each batch we will ask him to classify the appropriate techniques from the list he received (if exist), finally we will unite the model's answers for each individual rule.\n"
      ]
    },
    {
      "cell_type": "markdown",
      "metadata": {
        "id": "VFWxZ-O8vCKQ"
      },
      "source": [
        "pre colletion data for TG"
      ]
    },
    {
      "cell_type": "code",
      "execution_count": 9,
      "metadata": {
        "id": "t8AoOjjWu1Rp",
        "colab": {
          "base_uri": "https://localhost:8080/"
        },
        "outputId": "eb16e2ac-af69-481c-c55d-fe0550517700"
      },
      "outputs": [
        {
          "output_type": "stream",
          "name": "stdout",
          "text": [
            "11\n"
          ]
        }
      ],
      "source": [
        "def recursive_enter(path: str, file_list: list = None) -> list:\n",
        "    if file_list is None:\n",
        "        file_list = []\n",
        "\n",
        "    try:\n",
        "        os.chdir(path)  # Change path\n",
        "\n",
        "        items = os.listdir()  # List everything in the directory\n",
        "        for item in items:\n",
        "            full_path = os.path.join(path, item)\n",
        "\n",
        "            if full_path.endswith(\".json\"):\n",
        "                with open(full_path) as f:\n",
        "                    file_list.append(json.load(f))\n",
        "\n",
        "    except Exception as e:\n",
        "        print(f\"An error occurred: {e}\")\n",
        "\n",
        "    return file_list\n",
        "\n",
        "tacticFolder = \"/content/Labeling_IDS_to_MITRE/Semester_A/Extract data from MITRE ATTACK/techniques_split\"\n",
        "file_list = []\n",
        "MITRE_Technique = recursive_enter(tacticFolder, file_list)\n",
        "print(len(MITRE_Technique))\n",
        "os.chdir(\"/content/\")\n",
        "\n",
        "All_MITRE_Technique_json = None\n",
        "All_MITRE_Technique_json_path = \"/content/Labeling_IDS_to_MITRE/Semester_A/Extract data from MITRE ATTACK/combined_techniques_split.json\"\n",
        "# Open and read the JSON file\n",
        "with open(All_MITRE_Technique_json_path, 'r') as file:\n",
        "    All_MITRE_Technique_json = json.load(file)"
      ]
    },
    {
      "cell_type": "code",
      "execution_count": 10,
      "metadata": {
        "id": "RMit2X0DvIV0"
      },
      "outputs": [],
      "source": [
        "def TGWE(snort_rule, techniques, limit):\n",
        "  if limit:\n",
        "    str_limit = \"maximum 2\"\n",
        "  else:\n",
        "    str_limit = \"the\"\n",
        "\n",
        "  prePrompt = f\"\"\"You are an information security expert. Now I will provide you information about techniques from MITRE ATT&CK, you will use the information for a task you will receive later. Do not reply to the information you receive.\"\"\"\n",
        "\n",
        "  dataPrompt = f\"The information:\\n {str(techniques)}\"\n",
        "\n",
        "  response_data = f\"\"\"You are an information security expert. Your task is to label IDS rules for MITRE ATT&CK techniques based on your cybersecurity knowledge. For the task, you are going to get a single Snort IDS rule and you will need to return {str_limit} most relevant techniques from MITRE ATT&CK that are related to the rule.\n",
        "    Try to search based on keywords and based on the knowledge you have. For each technique include the following information as JSON in this order: 'Sid', 'Technique ID', 'Technique Name', 'Quotes', 'Explanation'.\n",
        "    Note: The value of the citation field should contain quotation marks from the data sets relevant to the mapped technique are the main reason you chose this technique to be correct. The value of the explanation should be your explanation of why you decided to give the technique and how it relates to the rule. The technique ID should be the official MITRE technique ID.\n",
        "    Please don't write anything but the JSON. Rule: {snort_rule}\"\"\"\n",
        "\n",
        "  tg_data_list = [prePrompt, dataPrompt, response_data]\n",
        "\n",
        "  try:\n",
        "    response = model.generate_content(tg_data_list)\n",
        "    #print(response.parts)\n",
        "  except:\n",
        "    #print(response.parts)\n",
        "    response = model.generate_content(\"Return empty JSON {}\")\n",
        "  finally:\n",
        "    return response\n"
      ]
    },
    {
      "cell_type": "markdown",
      "metadata": {
        "id": "U8gJFCcpvinU"
      },
      "source": [
        "# **Prompting with techniques guide and with 1 example (TG1E):**\n",
        "In the next step, we will provide the LLMs with the list of all the techniques from MITRE ATT&CK, to guarantee that the models are targeted to the present techniques, even the infrequently used ones. Each technique will include the technique number, the name of the technique and its description. The techniques will be provided to the models in the form of batches (due to the memory limit of the models) and after each batch we will ask him to classify the appropriate techniques from the list he received (if exist), finally we will unite the model's answers for each individual rule.\n",
        "\n",
        "In addition, the prompt has one example (one shot)"
      ]
    },
    {
      "cell_type": "code",
      "execution_count": null,
      "metadata": {
        "id": "jFnofVLPvlDy"
      },
      "outputs": [],
      "source": [
        "def TG1E(snort_rule, techniques, limit):\n",
        "  if limit:\n",
        "    str_limit = \"maximum 2\"\n",
        "  else:\n",
        "    str_limit = \"the\"\n",
        "\n",
        "  prePrompt = f\"\"\"You are an information security expert. Now I will provide you information about techniques from MITRE ATT&CK, you will use the information for a task you will receive later. Do not reply to the information you receive.\"\"\"\n",
        "\n",
        "  dataPrompt = f\"The information:\\n {str(techniques)}\"\n",
        "\n",
        "  response_data = f\"\"\"Q: You are an information security expert. Your task is to label IDS rules for MITRE ATT&CK techniques based on your cybersecurity knowledge. For the task, you are going to get a single Snort IDS rule and you will need to return {str_limit} most relevant techniques from MITRE ATT&CK that are related to the rule.\n",
        "    Try to search based on keywords and based on the knowledge you have. For each technique include the following information as JSON in this order: 'Sid', 'Technique ID', 'Technique Name', 'Quotes', 'Explanation'.\n",
        "    Note: The value of the citation field should contain quotation marks from the data sets relevant to the mapped technique are the main reason you chose this technique to be correct. The value of the explanation should be your explanation of why you decided to give the technique and how it relates to the rule. The technique ID should be the official MITRE technique ID.\n",
        "    Please don't write anything but the JSON. Rule: \"alert tcp $EXTERNAL_NET $HTTP_PORTS -> $HOME_NET any ( msg:\"\"MALWARE-CNC Win.Trojan.GateKeylogger fake 404 response\"\"; flow:to_client,established; http_stat_code; content:\"\"200\"\"; http_stat_msg; content:\"\"OK\"\"; pkt_data; content:\"\">404 Not Found<\"\",fast_pattern,nocase; content:\"\" requested URL / was not found \"\"; metadata:impact_flag red,ruleset community; service:http; T1056; classtype:trojan-activity; sid:38563; rev:4; )\"\n",
        "    A: [\n",
        "        \"sid\": \"38563\",\n",
        "        \"Technique ID\": \"T1056\",\n",
        "        \"Technique name\": \"Input Capture\",\n",
        "        \"Quotes\": \"\\\"Input Capture techniques involve intercepting and capturing user input data, such as keystrokes, to obtain sensitive information. The rule indicates the presence of a Trojan (GateKeylogger) that mimics a '404 Not Found' error to disguise its communication with a command and control server, which is a common method used by keyloggers to stealthily capture input data.\\\"\",\n",
        "        \"Explanation\": \"This event is generated when activity relating to malware is detected.\"\n",
        "    ]\n",
        "\n",
        "    Q: You are an information security expert. Your task is to label IDS rules for MITRE ATT&CK techniques based on your cybersecurity knowledge. For the task, you are going to get a single Snort IDS rule and you will need to return {str_limit} most relevant techniques from MITRE ATT&CK that are related to the rule.\n",
        "    Try to search based on keywords and based on the knowledge you have. For each technique include the following information as JSON in this order: 'Sid', 'Technique ID', 'Technique Name', 'Quotes', 'Explanation'.\n",
        "    Note: The value of the citation field should contain quotation marks from the data sets relevant to the mapped technique are the main reason you chose this technique to be correct. The value of the explanation should be your explanation of why you decided to give the technique and how it relates to the rule. The technique ID should be the official MITRE technique ID.\n",
        "    Please don't write anything but the JSON. Rule: {snort_rule}\n",
        "    A: \"\"\"\n",
        "\n",
        "  tg_data_list = [prePrompt, dataPrompt, response_data]\n",
        "\n",
        "  try:\n",
        "    response = model.generate_content(tg_data_list)\n",
        "    #print(response.parts)\n",
        "  except:\n",
        "    #print(response.parts)\n",
        "    response = model.generate_content(\"Return empty JSON {}\")\n",
        "  finally:\n",
        "    return response\n"
      ]
    },
    {
      "cell_type": "markdown",
      "metadata": {
        "id": "RatZWbuyvrKg"
      },
      "source": [
        "# **Prompting with techniques guide and with 2 example (TG2E):**\n",
        "In the next step, we will provide the LLMs with the list of all the techniques from MITRE ATT&CK, to guarantee that the models are targeted to the present techniques, even the infrequently used ones. Each technique will include the technique number, the name of the technique and its description. The techniques will be provided to the models in the form of batches (due to the memory limit of the models) and after each batch we will ask him to classify the appropriate techniques from the list he received (if exist), finally we will unite the model's answers for each individual rule.\n",
        "\n",
        "In addition, the prompt has two example (two shot)"
      ]
    },
    {
      "cell_type": "code",
      "execution_count": null,
      "metadata": {
        "id": "gowEZfU7vya-"
      },
      "outputs": [],
      "source": [
        "def TG2E(snort_rule, techniques, limit):\n",
        "  if limit:\n",
        "    str_limit = \"maximum 2\"\n",
        "  else:\n",
        "    str_limit = \"the\"\n",
        "\n",
        "  prePrompt = f\"\"\"You are an information security expert. Now I will provide you information about techniques from MITRE ATT&CK, you will use the information for a task you will receive later. Do not reply to the information you receive.\"\"\"\n",
        "\n",
        "  dataPrompt = f\"The information:\\n {str(techniques)}\"\n",
        "\n",
        "  response_data = f\"\"\"Q: You are an information security expert. Your task is to label IDS rules for MITRE ATT&CK techniques based on your cybersecurity knowledge. For the task, you are going to get a single Snort IDS rule and you will need to return {str_limit} most relevant techniques from MITRE ATT&CK that are related to the rule.\n",
        "    Try to search based on keywords and based on the knowledge you have. For each technique include the following information as JSON in this order: 'Sid', 'Technique ID', 'Technique Name', 'Quotes', 'Explanation'.\n",
        "    Note: The value of the citation field should contain quotation marks from the data sets relevant to the mapped technique are the main reason you chose this technique to be correct. The value of the explanation should be your explanation of why you decided to give the technique and how it relates to the rule. The technique ID should be the official MITRE technique ID.\n",
        "    Please don't write anything but the JSON. Rule: \"alert tcp $EXTERNAL_NET $HTTP_PORTS -> $HOME_NET any ( msg:\"\"MALWARE-CNC Win.Trojan.GateKeylogger fake 404 response\"\"; flow:to_client,established; http_stat_code; content:\"\"200\"\"; http_stat_msg; content:\"\"OK\"\"; pkt_data; content:\"\">404 Not Found<\"\",fast_pattern,nocase; content:\"\" requested URL / was not found \"\"; metadata:impact_flag red,ruleset community; service:http; T1056; classtype:trojan-activity; sid:38563; rev:4; )\"\n",
        "    A: [\n",
        "        \"sid\": \"38563\",\n",
        "        \"Technique ID\": \"T1056\",\n",
        "        \"Technique name\": \"Input Capture\",\n",
        "        \"Quotes\": \"\\\"Input Capture techniques involve intercepting and capturing user input data, such as keystrokes, to obtain sensitive information. The rule indicates the presence of a Trojan (GateKeylogger) that mimics a '404 Not Found' error to disguise its communication with a command and control server, which is a common method used by keyloggers to stealthily capture input data.\\\"\",\n",
        "        \"Explanation\": \"This event is generated when activity relating to malware is detected.\"\n",
        "    ]\n",
        "\n",
        "    Q: You are an information security expert. Your task is to label IDS rules for MITRE ATT&CK techniques based on your cybersecurity knowledge. For the task, you are going to get a single Snort IDS rule and you will need to return {str_limit} most relevant techniques from MITRE ATT&CK that are related to the rule.\n",
        "    Try to search based on keywords and based on the knowledge you have. For each technique include the following information as JSON in this order: 'Sid', 'Technique ID', 'Technique Name', 'Quotes', 'Explanation'.\n",
        "    Note: The value of the citation field should contain quotation marks from the data sets relevant to the mapped technique are the main reason you chose this technique to be correct. The value of the explanation should be your explanation of why you decided to give the technique and how it relates to the rule. The technique ID should be the official MITRE technique ID.\n",
        "    Please don't write anything but the JSON. Rule: \"alert tcp $EXTERNAL_NET any -> $HOME_NET $HTTP_PORTS ( msg:\"\"SERVER-OTHER Apache Log4j logging remote code execution attempt\"\"; flow:to_server,established; http_header; content:\"\"upper\"\",fast_pattern,nocase; pcre:\"\"/(%(25)?24|\\x24)(%(25)?7b|\\x7b)upper(%(25)?3a|\\x3a)/i\"\"; metadata:policy balanced-ips drop,policy connectivity-ips drop,policy max-detect-ips drop,policy security-ips drop,ruleset community; service:http; classtype:attempted-user; gid:1; sid:58738; rev:5; )\"\n",
        "    A: [\n",
        "        \"sid\": \"23934\",\n",
        "        \"Technique ID\": \"T1190\",\n",
        "        \"Technique name\": \"Exploit Public-Facing Application\",\n",
        "        \"Quotes\": \"Adversaries may attempt to exploit a weakness in an Internet-facing host or system to initially access a network.\",\n",
        "        \"Explanation\": \"This rule looks for attempts to exploit a remote code execution vulnerability in Log4j's \"Lookup\" functionality.\"\n",
        "    ]\n",
        "\n",
        "    Q: You are an information security expert. Your task is to label IDS rules for MITRE ATT&CK techniques based on your cybersecurity knowledge. For the task, you are going to get a single Snort IDS rule and you will need to return {str_limit} most relevant techniques from MITRE ATT&CK that are related to the rule.\n",
        "    Try to search based on keywords and based on the knowledge you have. For each technique include the following information as JSON in this order: 'Sid', 'Technique ID', 'Technique Name', 'Quotes', 'Explanation'.\n",
        "    Note: The value of the citation field should contain quotation marks from the data sets relevant to the mapped technique are the main reason you chose this technique to be correct. The value of the explanation should be your explanation of why you decided to give the technique and how it relates to the rule. The technique ID should be the official MITRE technique ID.\n",
        "    Please don't write anything but the JSON. Rule: {snort_rule}\n",
        "    A: \"\"\"\n",
        "\n",
        "  tg_data_list = [prePrompt, dataPrompt, response_data]\n",
        "\n",
        "  try:\n",
        "    response = model.generate_content(tg_data_list)\n",
        "    #print(response.parts)\n",
        "  except:\n",
        "    #print(response.parts)\n",
        "    response = model.generate_content(\"Return empty JSON {}\")\n",
        "  finally:\n",
        "    return response\n"
      ]
    },
    {
      "cell_type": "markdown",
      "metadata": {
        "id": "3WNMlVQ4v3Yy"
      },
      "source": [
        "# Write to csv"
      ]
    },
    {
      "cell_type": "code",
      "source": [
        "def write_csv_ZS(filename, rule_dict):\n",
        "  # Define the field names\n",
        "  field_names = [\"Technique_id\", \"True_labels\"]\n",
        "\n",
        "  # Open the CSV file in write mode (truncating any existing content)\n",
        "  with open(filename, \"w\", newline=\"\") as csvfile: # \"prompting_without_techniques_guide.csv\"\n",
        "      # Create a DictWriter object with the specified field names\n",
        "      writer = csv.DictWriter(csvfile, fieldnames=field_names)\n",
        "\n",
        "      # Write the header row\n",
        "      writer.writeheader()\n",
        "\n",
        "      # Extract relevant data from each item and write it as a dictionary\n",
        "      counter = 0\n",
        "      for key, value in rule_dict.items():\n",
        "        text = clean_response(value)\n",
        "        technique_ids = []\n",
        "\n",
        "        if \"'Sid\" in text:\n",
        "          # Define a regex pattern to switch single quotes to double quotes\n",
        "          pattern = re.compile(r\"((^|\\s)'((?:[^'\\\\]|\\\\.)*)'(?=[\\s.,:;!?)]))|(:\\s*'((?:[^'\\\\]|\\\\.)+)')\")\n",
        "          # Switch single quotes to double quotes\n",
        "          text = pattern.sub(lambda x: x.group().replace(\"'\", '\"'), text)\n",
        "\n",
        "          pattern = re.compile(r'\"\\S+\"[\\s\\.]|\\s\"[\\w\\s]*\"\\s')\n",
        "          text = re.sub(pattern, \"\", text)\n",
        "\n",
        "        # Extracting \"TXXXX\" numbers using regular expression\n",
        "        technique_ids = re.findall(r'[\\'\\\"](T\\d+(?:\\.\\d+)?)', text)\n",
        "\n",
        "        # Extracting \"Sid\"\n",
        "        match = re.search(r'[\\'\\\"][s|S]id[\\'\\\"]: [\\'\\\"](\\d+)[\\'\\\"]', text)\n",
        "        if match:\n",
        "            sid_number = match.group(1)\n",
        "\n",
        "\n",
        "        # Assuming each item has all necessary fields:\n",
        "        insertRow = {\n",
        "            \"Technique_id\": technique_ids,  # Handle potential absence\n",
        "            \"True_labels\": true_labels[counter],\n",
        "        }\n",
        "        writer.writerow(insertRow)\n",
        "        counter += 1\n"
      ],
      "metadata": {
        "id": "bRlQaQNLTFBi"
      },
      "execution_count": 11,
      "outputs": []
    },
    {
      "cell_type": "markdown",
      "metadata": {
        "id": "vHHFi90pwAxB"
      },
      "source": [
        "Write without techniques guide"
      ]
    },
    {
      "cell_type": "code",
      "execution_count": 12,
      "metadata": {
        "id": "_U86tigTwD32"
      },
      "outputs": [],
      "source": [
        "def write_csv_WTG(filename, rule_dict):\n",
        "  # Define the field names\n",
        "  field_names = [\"Sid\", \"Response\", \"Technique_id\", \"True_labels\"]\n",
        "\n",
        "  # Open the CSV file in write mode (truncating any existing content)\n",
        "  with open(filename, \"w\", newline=\"\") as csvfile: # \"prompting_without_techniques_guide.csv\"\n",
        "      # Create a DictWriter object with the specified field names\n",
        "      writer = csv.DictWriter(csvfile, fieldnames=field_names)\n",
        "\n",
        "      # Write the header row\n",
        "      writer.writeheader()\n",
        "\n",
        "      # Extract relevant data from each item and write it as a dictionary\n",
        "      counter = 0\n",
        "      for key, value in rule_dict.items():\n",
        "        text = clean_response(value)\n",
        "        technique_ids = []\n",
        "\n",
        "        if \"'Sid\" in text:\n",
        "          # Define a regex pattern to switch single quotes to double quotes\n",
        "          pattern = re.compile(r\"((^|\\s)'((?:[^'\\\\]|\\\\.)*)'(?=[\\s.,:;!?)]))|(:\\s*'((?:[^'\\\\]|\\\\.)+)')\")\n",
        "          # Switch single quotes to double quotes\n",
        "          text = pattern.sub(lambda x: x.group().replace(\"'\", '\"'), text)\n",
        "\n",
        "          pattern = re.compile(r'\"\\S+\"[\\s\\.]|\\s\"[\\w\\s]*\"\\s')\n",
        "          text = re.sub(pattern, \"\", text)\n",
        "\n",
        "        # Extracting \"TXXXX\" numbers using regular expression\n",
        "        technique_ids = re.findall(r'[\\'\\\"](T\\d+(?:\\.\\d+)?)', text)\n",
        "\n",
        "        # Extracting \"Sid\"\n",
        "        match = re.search(r'[\\'\\\"][s|S]id[\\'\\\"]: [\\'\\\"](\\d+)[\\'\\\"]', text)\n",
        "        if match:\n",
        "            sid_number = match.group(1)\n",
        "\n",
        "\n",
        "        # Assuming each item has all necessary fields:\n",
        "        insertRow = {\n",
        "            \"Sid\": sid_number,\n",
        "            \"Response\": text,\n",
        "            \"Technique_id\": technique_ids,  # Handle potential absence\n",
        "            \"True_labels\": true_labels[counter],\n",
        "        }\n",
        "        writer.writerow(insertRow)\n",
        "        counter += 1\n"
      ]
    },
    {
      "cell_type": "markdown",
      "metadata": {
        "id": "pX7QiV0HwHZ8"
      },
      "source": [
        "Write with techniques guide"
      ]
    },
    {
      "cell_type": "code",
      "execution_count": 16,
      "metadata": {
        "id": "rO-Aa_bLwJLz",
        "colab": {
          "base_uri": "https://localhost:8080/",
          "height": 35
        },
        "outputId": "8bb7bfd0-cc8c-4ccc-84e8-e680230d0c96"
      },
      "outputs": [
        {
          "output_type": "execute_result",
          "data": {
            "text/plain": [
              "'Backup'"
            ],
            "application/vnd.google.colaboratory.intrinsic+json": {
              "type": "string"
            }
          },
          "metadata": {},
          "execution_count": 16
        }
      ],
      "source": [
        "import csv\n",
        "import re\n",
        "\n",
        "headersCSV_TG = [\"Sid\", \"Response\", \"Without_Competition_Without_Limit_Return\",\n",
        "                 \"Without_Competition_With_Limit_Return\", \"With_Competition_Without_Limit_Return\",\n",
        "                 \"With_Competition_With_Limit_Return\", \"True_labels\"]\n",
        "\n",
        "def init_file(fileName):\n",
        "  # Initial write to csv with header\n",
        "  with open(fileName, 'w', newline='') as csvfile: # 'prompting_with_techniques_guide.csv'\n",
        "      writer = csv.DictWriter(csvfile, fieldnames=headersCSV_TG)\n",
        "      writer.writeheader()\n",
        "\n",
        "def appendToCSV(rows_data, counter, fileName, technique_ids) -> None:\n",
        "    '''\n",
        "    rows_data -> {213: [<IPython.core.display.Markdown object>, <IPython.core.display.Markdown object>, ...]}\n",
        "    '''\n",
        "    all_technique, top_2_all_technique, all_competition, top_2_all_competition = technique_ids\n",
        "\n",
        "    # Open the CSV file in append mode to add new rows\n",
        "    with open(fileName, 'a', newline='') as csvfile:\n",
        "        writer = csv.DictWriter(csvfile, fieldnames=headersCSV_TG)\n",
        "\n",
        "        # Loop through each row and write data\n",
        "        for row, value in rows_data.items():\n",
        "            response_text = \"\"\n",
        "            for i in value:\n",
        "                text = clean_response(i)\n",
        "                response_text += text\n",
        "                #print(text)\n",
        "\n",
        "            insertRow = {\n",
        "                \"Sid\": row,\n",
        "                \"Response\": response_text,\n",
        "                \"Without_Competition_Without_Limit_Return\": all_technique,\n",
        "                \"Without_Competition_With_Limit_Return\": top_2_all_technique,\n",
        "                \"With_Competition_Without_Limit_Return\": all_competition,\n",
        "                \"With_Competition_With_Limit_Return\": top_2_all_competition,\n",
        "                \"True_labels\": true_labels[counter]\n",
        "            }\n",
        "\n",
        "            # Write the row to the CSV file\n",
        "            writer.writerow(insertRow)\n",
        "\n",
        "\n",
        "\n",
        "\n",
        "\"\"\"Backup\"\"\"\n",
        "# def appendToCSV(rows_data, counter, fileName, technique_ids) -> None:\n",
        "#     '''\n",
        "#     rows_data -> {213: [<IPython.core.display.Markdown object>, <IPython.core.display.Markdown object>, ...]}\n",
        "#     '''\n",
        "#     # Open the CSV file in append mode to add new rows\n",
        "#     with open(fileName, 'a', newline='') as csvfile:\n",
        "#         writer = csv.DictWriter(csvfile, fieldnames=headersCSV_TG)\n",
        "\n",
        "#         # Loop through each row and write data\n",
        "#         for row, value in rows_data.items():\n",
        "#             response_text = \"\"\n",
        "#             for i in value:\n",
        "#                 text = clean_response(i)\n",
        "#                 response_text += text\n",
        "#                 #print(text)\n",
        "\n",
        "#             insertRow = {\n",
        "#                 \"Sid\": row,\n",
        "#                 \"Response\": response_text,\n",
        "#                 \"Technique_id\": technique_ids,\n",
        "#                 \"True_labels\": true_labels[counter]\n",
        "#             }\n",
        "\n",
        "#             # Write the row to the CSV file\n",
        "#             writer.writerow(insertRow)\n"
      ]
    },
    {
      "cell_type": "markdown",
      "metadata": {
        "id": "-Gh8RQNSwQFR"
      },
      "source": [
        "# WTG - Generic"
      ]
    },
    {
      "cell_type": "code",
      "execution_count": null,
      "metadata": {
        "id": "ihiec48Hwa6l"
      },
      "outputs": [],
      "source": [
        "def WTG(functionName, rules_list):\n",
        "  rule_dict = {}\n",
        "  max_retries = 3  # Maximum number of retries\n",
        "\n",
        "  for index, rule in enumerate(rules_list):\n",
        "      retries = 0\n",
        "      time.sleep(2)\n",
        "      print(f\"------------- {index} -------------\")\n",
        "      while retries < max_retries:\n",
        "          try:\n",
        "              res = functionName(rule)\n",
        "              text = res.text\n",
        "              # Check if the text contains the desired pattern\n",
        "              t_numbers = re.findall(r'[\\'\\\"](T\\d+(?:\\.\\d+)?)', text)\n",
        "              if t_numbers:  # If the pattern is found\n",
        "                  rule_dict[data['Sid'][index]] = to_markdown(text)\n",
        "                  break  # Break out of the retry loop if successful\n",
        "              else:\n",
        "                  print(\"Desired pattern not found in the text. Retrying...\")\n",
        "                  retries += 1\n",
        "                  time.sleep(1)  # Wait for a short duration before retrying\n",
        "          except Exception as e:\n",
        "              print(f\"An error occurred: {e}\")\n",
        "              retries += 1\n",
        "              if retries < max_retries:\n",
        "                  print(f\"Retrying... ({retries}/{max_retries})\")\n",
        "                  time.sleep(1)  # Wait for a short duration before retrying\n",
        "              else:\n",
        "                  print(\"Max retries reached. Unable to process this rule.\")\n",
        "\n",
        "\n",
        "  # If sending fails, attempt to send again\n",
        "  try:\n",
        "      # Code to send data\n",
        "      pass\n",
        "  except Exception as e:\n",
        "      print(f\"Sending failed: {e}\")\n",
        "      # Retry sending here\n",
        "\n",
        "  return rule_dict\n"
      ]
    },
    {
      "cell_type": "markdown",
      "metadata": {
        "id": "3n0NFhMTwe3i"
      },
      "source": [
        "# TG - Generic"
      ]
    },
    {
      "cell_type": "code",
      "execution_count": 30,
      "metadata": {
        "id": "cKMf8juVwjuh"
      },
      "outputs": [],
      "source": [
        "def get_the_most_relevate_technique(tg_dict):\n",
        "    technique_ids = []\n",
        "    for row, value in tg_dict.items():\n",
        "        response_text = \"\"\n",
        "        for i in value:\n",
        "            text = clean_response(i)\n",
        "            response_text += text\n",
        "            try:\n",
        "                # Extracting \"TXXXX\" numbers using regular expression\n",
        "                technique_ids.extend(re.findall(r'[\\'\\\"](T\\d+(?:\\.\\d+)?)', text))\n",
        "            except Exception as e:\n",
        "                print(f\"Error extracting technique IDs: {e}\")\n",
        "    return technique_ids\n",
        "\n",
        "\n",
        "def stratification():\n",
        "  import ast\n",
        "\n",
        "  technique_counts = (data['technique ids'].value_counts())\n",
        "  # Converting the Series to a dictionary\n",
        "  technique_counts_dict = technique_counts.to_dict()\n",
        "  #print(technique_counts_dict)\n",
        "\n",
        "  # Initialize the new dictionary\n",
        "  new_data = {}\n",
        "  # Iterate through the original dictionary\n",
        "  for key, value in technique_counts_dict.items():\n",
        "      # Convert the string key to a list\n",
        "      techniques = ast.literal_eval(key)\n",
        "      # Iterate through the techniques in the list\n",
        "      for technique in techniques:\n",
        "          # Add the technique to the new dictionary\n",
        "          if technique in new_data:\n",
        "              new_data[technique] += value\n",
        "          else:\n",
        "              new_data[technique] = value\n",
        "\n",
        "  sorted_data = dict(sorted(new_data.items(), key=lambda item: item[1], reverse=True))\n",
        "  # Print the new dictionary\n",
        "  return sorted_data\n",
        "\n",
        "\n",
        "def tg_split_data(functionName, rules_list_index, index, fileName, limit):\n",
        "    for rule in rules_list_index:\n",
        "        print(f\"index {index} \\t Sid: {data['Sid'][index]}\")\n",
        "\n",
        "        tg_dict = {}\n",
        "        count = 0\n",
        "        for batch in MITRE_Technique:\n",
        "            time.sleep(2)\n",
        "            res = functionName(rule, batch, limit)\n",
        "            sid = data['Sid'][index]\n",
        "            if sid not in tg_dict:\n",
        "                tg_dict[sid] = []\n",
        "            try:\n",
        "                tg_dict[sid].append(to_markdown(res.text))\n",
        "            except:\n",
        "                tg_dict[sid].append(to_markdown(\"{}\"))\n",
        "\n",
        "            print(f\"~~~~~~~~~~~~~~~~~~~~~~~~~~~~~~~~~{count}~~~~~~~~~~~~~~~~~~~~~~~~~~~~~~~~~~~~~~\")\n",
        "            count += 1\n",
        "\n",
        "        # Get up to 3 rules (STATIC)\n",
        "        new_batch = []\n",
        "        technique_ids_from_11_batchs = get_the_most_relevate_technique(tg_dict)\n",
        "        for technique_id in technique_ids_from_11_batchs:\n",
        "            if technique_id in All_MITRE_Technique_json[0]:\n",
        "                new_batch.append((technique_id, All_MITRE_Technique_json[0][technique_id]))\n",
        "        new_dict = dict(new_batch)\n",
        "        print(new_dict)\n",
        "\n",
        "\n",
        "\n",
        "        # get the most frequency from top_2_new_batch:\n",
        "        res_stratification = stratification()\n",
        "        # Filter keys from res_stratification that are present in new_batch\n",
        "        filtered_keys = [key for key in new_dict.keys() if key in res_stratification.keys()]\n",
        "\n",
        "        # Sort the filtered keys based on counts in res_stratification\n",
        "        sorted_keys = sorted(filtered_keys, key=res_stratification.get, reverse=True)\n",
        "\n",
        "        # Get the top two keys\n",
        "        top_2_new_batch = sorted_keys[:2]\n",
        "\n",
        "\n",
        "\n",
        "        # Run new_batch 3 times\n",
        "        dictionary_of_rules = {}\n",
        "        tg_dict = {}\n",
        "        for epoch in range(3):\n",
        "            time.sleep(1)\n",
        "            res = functionName(rule, new_dict, limit)\n",
        "            sid = data['Sid'][index]\n",
        "            if sid not in tg_dict:\n",
        "                tg_dict[sid] = []\n",
        "            try:\n",
        "                tg_dict[sid].append(to_markdown(res.text))\n",
        "            except:\n",
        "                tg_dict[sid].append(to_markdown(\"{}\"))\n",
        "\n",
        "            inner_technique_ids = get_the_most_relevate_technique(tg_dict)\n",
        "            for technique in inner_technique_ids:\n",
        "                if technique not in dictionary_of_rules:\n",
        "                    dictionary_of_rules[technique] = 1\n",
        "                else:\n",
        "                    dictionary_of_rules[technique] += 1\n",
        "            print(dictionary_of_rules)\n",
        "            print(f\"~~~~~~~~~~~~~~~~~~~~~~~~~~~~~~~~~BATCH {epoch + 1}~~~~~~~~~~~~~~~~~~~~~~~~~~~~~~~~~~~~~~\")\n",
        "\n",
        "\n",
        "        if dictionary_of_rules: # This checks if the dictionary is empty\n",
        "          # Step 1: Find the maximum value in dictionary_of_rules\n",
        "          max_number_value = max(dictionary_of_rules.values())\n",
        "\n",
        "          # Step 2: Collect all keys with the maximum value\n",
        "          max_techniuqeId_keys = [key for key, value in dictionary_of_rules.items() if value == max_number_value]\n",
        "          if len(max_techniuqeId_keys) == 1:\n",
        "            sorted_values = sorted(dictionary_of_rules.values(), reverse=True)\n",
        "\n",
        "            # Get the second highest value\n",
        "            if len(sorted_values) >= 2:\n",
        "                second_max_value = sorted_values[1]\n",
        "                second_max_techniuqeId_keys = [key for key, value in dictionary_of_rules.items() if value == second_max_value]\n",
        "\n",
        "                if len(second_max_techniuqeId_keys) >= 2:\n",
        "                  res_stratification = stratification()\n",
        "                  # Find the key with the highest count in the res_stratification dictionary\n",
        "                  max_count_key = max(res_stratification, key=res_stratification.get)\n",
        "                  max_techniuqeId_keys.extend(max_count_key)\n",
        "                else:\n",
        "                  max_techniuqeId_keys.extend(second_max_techniuqeId_keys)\n",
        "\n",
        "          elif len(max_techniuqeId_keys) > 2:\n",
        "            res_stratification = stratification()\n",
        "\n",
        "            keys_from_dict1 = set(dictionary_of_rules.keys())\n",
        "            filtered_dict2 = {key: value for key, value in res_stratification.items() if key in keys_from_dict1}\n",
        "            sorted_keys = sorted(filtered_dict2, key=filtered_dict2.get, reverse=True)\n",
        "            max_techniuqeId_keys = sorted_keys[:2]\n",
        "\n",
        "        else:\n",
        "          max_techniuqeId_keys = []\n",
        "\n",
        "\n",
        "\n",
        "        # Write to CSV\n",
        "        \"\"\"\n",
        "          **Without Competition**\n",
        "            new_batch => All techniques iterating from 11 iterations on one SNORT rule.\n",
        "            top_2_new_batch => From new_batch return the most 2 frequency.\n",
        "\n",
        "          **With Competition**\n",
        "            dictionary_of_rules.keys() => All techniques iterating from 3 batch.\n",
        "            max_techniuqeId_keys => From Batch return the most 2 frequency.\n",
        "        \"\"\"\n",
        "        technique_ids = (list(new_dict.keys()), top_2_new_batch, list(dictionary_of_rules.keys()), max_techniuqeId_keys)\n",
        "        appendToCSV(tg_dict, index, fileName, technique_ids)\n",
        "        index += 1"
      ]
    },
    {
      "cell_type": "markdown",
      "metadata": {
        "id": "l2t6CNpjwnRh"
      },
      "source": [
        "# Run Experiments"
      ]
    },
    {
      "cell_type": "markdown",
      "metadata": {
        "id": "Bnw-E-pGwqnE"
      },
      "source": [
        "without data"
      ]
    },
    {
      "cell_type": "code",
      "execution_count": null,
      "metadata": {
        "id": "Ikg69ozPwsnL",
        "collapsed": true
      },
      "outputs": [],
      "source": [
        "#  # Without Example Without Techniuqes Guide\n",
        "# rule_dict_ZS = WTG(ZS, rules_list)\n",
        "# write_csv_ZS(\"zero_shot.csv\", rule_dict_ZS)\n",
        "\n",
        "\n",
        "#  # Without Example Without Techniuqes Guide\n",
        "# rule_dict_WTG = WTG(WTGWE, rules_list)\n",
        "# write_csv_WTG(\"prompting_without_techniques_guide_zero_shot.csv\", rule_dict_WTG)\n",
        "\n",
        "\n",
        "#  # With 1 Example Without Techniuqes Guide\n",
        "# rule_dict_WTG1E = WTG(WTG1E, rules_list)\n",
        "# write_csv_WTG(\"prompting_without_techniques_guide_one_shot.csv\", rule_dict_WTG1E)\n",
        "\n",
        "\n",
        "#  # With 2 Example Without Techniuqes Guide\n",
        "# rule_dict_WTG2E = WTG(WTG2E, rules_list)\n",
        "# write_csv_WTG(\"prompting_without_techniques_guide_two_shot.csv\", rule_dict_WTG2E)"
      ]
    },
    {
      "cell_type": "markdown",
      "metadata": {
        "id": "hA9Re3VUwydO"
      },
      "source": [
        "with data"
      ]
    },
    {
      "cell_type": "code",
      "source": [
        "fileName = 'prompting_with_techniques_guide_zero_shot.csv' #0\n",
        "#fileName = 'prompting_with_techniques_guide_one_shot.csv' #1\n",
        "# fileName = 'prompting_with_techniques_guide_two_shot.csv' #2\n",
        "init_file(fileName)"
      ],
      "metadata": {
        "id": "_WB-332QrtFD"
      },
      "execution_count": 32,
      "outputs": []
    },
    {
      "cell_type": "code",
      "execution_count": 33,
      "metadata": {
        "id": "VXVn219hwz9m",
        "colab": {
          "base_uri": "https://localhost:8080/",
          "height": 367
        },
        "outputId": "8e03fa62-2ff5-4ae8-d38d-9e698168353d"
      },
      "outputs": [
        {
          "output_type": "stream",
          "name": "stdout",
          "text": [
            "index 83 \t Sid: 30522\n",
            "~~~~~~~~~~~~~~~~~~~~~~~~~~~~~~~~~0~~~~~~~~~~~~~~~~~~~~~~~~~~~~~~~~~~~~~~\n",
            "~~~~~~~~~~~~~~~~~~~~~~~~~~~~~~~~~1~~~~~~~~~~~~~~~~~~~~~~~~~~~~~~~~~~~~~~\n",
            "~~~~~~~~~~~~~~~~~~~~~~~~~~~~~~~~~2~~~~~~~~~~~~~~~~~~~~~~~~~~~~~~~~~~~~~~\n",
            "~~~~~~~~~~~~~~~~~~~~~~~~~~~~~~~~~3~~~~~~~~~~~~~~~~~~~~~~~~~~~~~~~~~~~~~~\n",
            "~~~~~~~~~~~~~~~~~~~~~~~~~~~~~~~~~4~~~~~~~~~~~~~~~~~~~~~~~~~~~~~~~~~~~~~~\n",
            "~~~~~~~~~~~~~~~~~~~~~~~~~~~~~~~~~5~~~~~~~~~~~~~~~~~~~~~~~~~~~~~~~~~~~~~~\n",
            "~~~~~~~~~~~~~~~~~~~~~~~~~~~~~~~~~6~~~~~~~~~~~~~~~~~~~~~~~~~~~~~~~~~~~~~~\n",
            "~~~~~~~~~~~~~~~~~~~~~~~~~~~~~~~~~7~~~~~~~~~~~~~~~~~~~~~~~~~~~~~~~~~~~~~~\n",
            "~~~~~~~~~~~~~~~~~~~~~~~~~~~~~~~~~8~~~~~~~~~~~~~~~~~~~~~~~~~~~~~~~~~~~~~~\n",
            "~~~~~~~~~~~~~~~~~~~~~~~~~~~~~~~~~9~~~~~~~~~~~~~~~~~~~~~~~~~~~~~~~~~~~~~~\n",
            "~~~~~~~~~~~~~~~~~~~~~~~~~~~~~~~~~10~~~~~~~~~~~~~~~~~~~~~~~~~~~~~~~~~~~~~~\n",
            "{'T1593': ['Search Open Websites/Domains', 'Adversaries may search freely available websites and/or domains for information about victims that can be used during targeting'], 'T1595': ['Active Scanning', 'Adversaries may execute active reconnaissance scans to gather information that can be used during targeting'], 'T1529': ['System Shutdown/Reboot', 'Adversaries may shutdown/reboot systems to interrupt access to, or aid in the destruction of, those systems'], 'T1219': ['Remote Access Software', 'An adversary may use legitimate desktop support and remote access software to establish an interactive command and control channel to target systems within networks'], 'T1564': ['Hide Artifacts', 'Adversaries may attempt to hide artifacts associated with their behaviors to evade detection'], 'T1574': ['Hijack Execution Flow', 'Adversaries may execute their own malicious payloads by hijacking the way operating systems run programs'], 'T1132': ['Data Encoding', 'Adversaries may encode data to make the content of command and control traffic more difficult to detect'], 'T1104': ['Multi-Stage Channels', 'Adversaries may create multiple stages for command and control that are employed under different conditions or for certain functions'], 'T1049': ['System Network Connections Discovery', 'Adversaries may attempt to get a listing of network connections to or from the compromised system they are currently accessing or from remote systems by querying for information over the network'], 'T1114': ['Email Collection', 'Adversaries may target user email to collect sensitive information'], 'T1190': ['Exploit Public-Facing Application', 'Adversaries may attempt to exploit a weakness in an Internet-facing host or system to initially access a network'], 'T1185': ['Browser Session Hijacking', 'Adversaries may take advantage of security vulnerabilities and inherent functionality in browser software to change content, modify user-behaviors, and intercept information as part of various browser session hijacking techniques']}\n",
            "{'T1491': 1}\n",
            "~~~~~~~~~~~~~~~~~~~~~~~~~~~~~~~~~BATCH 1~~~~~~~~~~~~~~~~~~~~~~~~~~~~~~~~~~~~~~\n",
            "{'T1491': 2, 'T1595': 1}\n",
            "~~~~~~~~~~~~~~~~~~~~~~~~~~~~~~~~~BATCH 2~~~~~~~~~~~~~~~~~~~~~~~~~~~~~~~~~~~~~~\n",
            "{'T1491': 3, 'T1595': 2, 'T1190': 1}\n",
            "~~~~~~~~~~~~~~~~~~~~~~~~~~~~~~~~~BATCH 3~~~~~~~~~~~~~~~~~~~~~~~~~~~~~~~~~~~~~~\n"
          ]
        }
      ],
      "source": [
        " # Without Example With Techniuqes Guide\n",
        "rule_dict_TGWE_01 = rules_list # index 0-99\n",
        "tg_split_data(TGWE, rule_dict_TGWE_01, 0, fileName, False)\n",
        "\n",
        "# rule_dict_TGWE_02 = rules_list[100:200] # index 100-199\n",
        "# tg_split_data(TGWE, rule_dict_TGWE_02, 100, fileName)\n",
        "\n",
        "# rule_dict_TGWE_03 = rules_list[200:] # index 200-299\n",
        "# tg_split_data(TGWE, rule_dict_TGWE_03, 200, fileName)\n",
        "\n",
        "\n",
        "\n",
        "#   # With 1 Example With Techniuqes Guide\n",
        "# rule_dict_TG1E_01 = rules_list[:100] # index 0-99\n",
        "# tg_split_data(TG1E, rule_dict_TG1E_01, 0, fileName)\n",
        "\n",
        "# rule_dict_TG1E_02 = rules_list[100:200] # index 100-199\n",
        "# tg_split_data(TG1E, rule_dict_TG1E_02, 100, fileName)\n",
        "\n",
        "# rule_dict_TG1E_03 = rules_list[200:] # index 200-299\n",
        "# tg_split_data(TG1E, rule_dict_TG1E_03, 200, fileName)\n",
        "\n",
        "\n",
        "\n",
        "#  # With 2 Example With Techniuqes Guide\n",
        "# rule_dict_TG2E_01 = rules_list[63:100] # index 0-99\n",
        "# tg_split_data(TG2E, rule_dict_TG2E_01, 63, fileName)\n",
        "\n",
        "# rule_dict_TG2E_02 = rules_list[100:200] # index 100-199\n",
        "# tg_split_data(TG2E, rule_dict_TG2E_02, 100, fileName)\n",
        "\n",
        "# rule_dict_TG2E_03 = rules_list[200:] # index 200-299\n",
        "# tg_split_data(TG2E, rule_dict_TG2E_03, 200, fileName)"
      ]
    },
    {
      "cell_type": "markdown",
      "metadata": {
        "id": "xHcO72xYunRn"
      },
      "source": [
        "# Evaluation\n",
        "\n",
        "\n",
        "*   Persicion\n",
        "*   Recall\n",
        "*   F-1\n",
        "\n"
      ]
    },
    {
      "cell_type": "code",
      "execution_count": null,
      "metadata": {
        "id": "BtUPUMRCum1W"
      },
      "outputs": [],
      "source": [
        "import ast\n",
        "from sklearn.metrics import precision_score, recall_score, f1_score\n",
        "from sklearn.metrics import confusion_matrix\n",
        "\n",
        "def evaluation(true_labels, predicted_labels, is_printable):\n",
        "  results = []\n",
        "  recall = []\n",
        "  precision = []\n",
        "  f1 = []\n",
        "\n",
        "\n",
        "  for i in range(len(true_labels)):\n",
        "    trueList = ast.literal_eval(true_labels[i])\n",
        "    predList = ast.literal_eval(predicted_labels[i])\n",
        "    # Extract only the 'TXXXX' part from each string in the list\n",
        "    predList = [item.split('.')[0] if '.' in item else item for item in predList]\n",
        "    intersection = set(trueList).intersection(set(predList))\n",
        "    #print(list(intersection))\n",
        "    if (len(predList) != 0):\n",
        "      recall.append(len(intersection) / len(set(trueList)))\n",
        "      precision.append(len(intersection) / len(set(predList)))\n",
        "      try:\n",
        "        f1.append((2 * precision[i] * recall[i]) / (recall[i] + precision[i]))\n",
        "      except:\n",
        "        f1.append(0)\n",
        "\n",
        "    ####### the real\n",
        "    else:\n",
        "      recall.append(0)\n",
        "      precision.append(0)\n",
        "      f1.append(0)\n",
        "\n",
        "  # Avg.\n",
        "  average_recall = sum(recall) / len(recall)\n",
        "  average_precision = sum(precision) / len(precision)\n",
        "  average_f1 = (2 * average_recall * average_precision) / (average_recall + average_precision)\n",
        "\n",
        "  if is_printable:\n",
        "    print(\"Metric    |   Score\")\n",
        "    print(\"-------------------\")\n",
        "    print(f\"Precision |   {average_precision:.2f}\")\n",
        "    print(f\"Recall    |   {average_recall:.2f}\")\n",
        "    print(f\"F1 Score  |   {average_f1:.2f}\")\n",
        "  else:\n",
        "    results.append((average_precision, average_recall, average_f1))\n",
        "    return results\n"
      ]
    },
    {
      "cell_type": "markdown",
      "source": [
        "#### ZS"
      ],
      "metadata": {
        "id": "SBKhM4XYTo_S"
      }
    },
    {
      "cell_type": "code",
      "source": [
        "loadData = pd.read_csv(\"zero_shot.csv\")\n",
        "true_labels_ZS = loadData['True_labels']\n",
        "predicted_labels = loadData['Technique_id']\n",
        "\n",
        "evaluation(true_labels_ZS, predicted_labels, True)\n"
      ],
      "metadata": {
        "id": "S7t--Z1YTqZR"
      },
      "execution_count": null,
      "outputs": []
    },
    {
      "cell_type": "markdown",
      "metadata": {
        "id": "_oq8JCf8w81I"
      },
      "source": [
        "#### WTGWE"
      ]
    },
    {
      "cell_type": "code",
      "execution_count": null,
      "metadata": {
        "colab": {
          "base_uri": "https://localhost:8080/"
        },
        "collapsed": true,
        "id": "v8LoB7cMyIGQ",
        "outputId": "ee6e7e55-b507-48b4-e9e0-955526f44333"
      },
      "outputs": [
        {
          "output_type": "stream",
          "name": "stdout",
          "text": [
            "Metric    |   Score\n",
            "-------------------\n",
            "Precision |   0.10\n",
            "Recall    |   0.14\n",
            "F1 Score  |   0.11\n"
          ]
        }
      ],
      "source": [
        "loadData = pd.read_csv(\"prompting_without_techniques_guide_zero_shot.csv\")\n",
        "true_labels_WTGWE = loadData['True_labels']\n",
        "predicted_labels = loadData['Technique_id']\n",
        "\n",
        "evaluation(true_labels_WTGWE, predicted_labels, True)\n"
      ]
    },
    {
      "cell_type": "markdown",
      "metadata": {
        "id": "mz_kXPetxHPb"
      },
      "source": [
        "#### WTG1E"
      ]
    },
    {
      "cell_type": "code",
      "execution_count": null,
      "metadata": {
        "id": "tuN4ctDmxIHj"
      },
      "outputs": [],
      "source": [
        "loadData = pd.read_csv(\"prompting_without_techniques_guide_one_shot.csv\")\n",
        "true_labels_WTG1E = loadData['True_labels']\n",
        "predicted_labels = loadData['Technique_id']\n",
        "\n",
        "evaluation(true_labels_WTG1E, predicted_labels, True)"
      ]
    },
    {
      "cell_type": "markdown",
      "metadata": {
        "id": "TFB6RCETxKmL"
      },
      "source": [
        "#### WTG2E"
      ]
    },
    {
      "cell_type": "code",
      "execution_count": null,
      "metadata": {
        "id": "D0BL_-cLxNcZ",
        "colab": {
          "base_uri": "https://localhost:8080/"
        },
        "outputId": "2b9d4821-86c6-424c-9e13-ae29b5beec16"
      },
      "outputs": [
        {
          "output_type": "stream",
          "name": "stdout",
          "text": [
            "Metric    |   Score\n",
            "-------------------\n",
            "Precision |   0.12\n",
            "Recall    |   0.15\n",
            "F1 Score  |   0.13\n"
          ]
        }
      ],
      "source": [
        "loadData = pd.read_csv(\"prompting_without_techniques_guide_two_shot.csv\")\n",
        "true_labels_WTG2E = loadData['True_labels']\n",
        "predicted_labels = loadData['Technique_id']\n",
        "\n",
        "evaluation(true_labels_WTG2E, predicted_labels, True)\n"
      ]
    },
    {
      "cell_type": "markdown",
      "metadata": {
        "id": "9Fe762c9xYMO"
      },
      "source": [
        "#### TGWE"
      ]
    },
    {
      "cell_type": "code",
      "execution_count": null,
      "metadata": {
        "id": "Y1K4MuFBxZdT",
        "colab": {
          "base_uri": "https://localhost:8080/"
        },
        "outputId": "ac7ecbf3-a730-4414-b74a-4810dd70e627"
      },
      "outputs": [
        {
          "output_type": "stream",
          "name": "stdout",
          "text": [
            "Metric    |   Score\n",
            "-------------------\n",
            "Precision |   0.23\n",
            "Recall    |   0.32\n",
            "F1 Score  |   0.26\n"
          ]
        }
      ],
      "source": [
        "loadData = pd.read_csv('prompting_with_techniques_guide_zero_shot.csv')\n",
        "true_labels_TGWE = loadData['True_labels']\n",
        "predicted_labels = loadData['Technique_id']\n",
        "\n",
        "evaluation(true_labels_TGWE, predicted_labels, True)"
      ]
    },
    {
      "cell_type": "markdown",
      "metadata": {
        "id": "GKZfq1Gdxdw2"
      },
      "source": [
        "#### TG1E"
      ]
    },
    {
      "cell_type": "code",
      "execution_count": null,
      "metadata": {
        "id": "B1iX7DBjxfr3",
        "colab": {
          "base_uri": "https://localhost:8080/"
        },
        "collapsed": true,
        "outputId": "96445fb1-7a30-4387-b43e-08366bb77e0f"
      },
      "outputs": [
        {
          "output_type": "stream",
          "name": "stdout",
          "text": [
            "Metric    |   Score\n",
            "-------------------\n",
            "Precision |   0.18\n",
            "Recall    |   0.23\n",
            "F1 Score  |   0.20\n"
          ]
        }
      ],
      "source": [
        "loadData = pd.read_csv('prompting_with_techniques_guide_one_shot.csv')\n",
        "true_labels_TG1E = loadData['True_labels']\n",
        "predicted_labels = loadData['Technique_id']\n",
        "\n",
        "evaluation(true_labels_TG1E, predicted_labels, True)"
      ]
    },
    {
      "cell_type": "markdown",
      "metadata": {
        "id": "1pUT9_NGxkX2"
      },
      "source": [
        "#### TG2E"
      ]
    },
    {
      "cell_type": "code",
      "execution_count": null,
      "metadata": {
        "id": "YUJec72HxlEJ",
        "colab": {
          "base_uri": "https://localhost:8080/"
        },
        "collapsed": true,
        "outputId": "c7637b67-55c8-44f5-d3a4-c48743d7aa20"
      },
      "outputs": [
        {
          "output_type": "stream",
          "name": "stdout",
          "text": [
            "Metric    |   Score\n",
            "-------------------\n",
            "Precision |   0.22\n",
            "Recall    |   0.25\n",
            "F1 Score  |   0.23\n"
          ]
        }
      ],
      "source": [
        "loadData = pd.read_csv('prompting_with_techniques_guide_two_shot.csv')\n",
        "true_labels_TG2E = loadData['True_labels']\n",
        "predicted_labels = loadData['Technique_id']\n",
        "\n",
        "evaluation(true_labels_TG2E, predicted_labels, True)"
      ]
    },
    {
      "cell_type": "markdown",
      "source": [
        "# Visualization Data"
      ],
      "metadata": {
        "id": "R51ul1wd-q5X"
      }
    },
    {
      "cell_type": "code",
      "source": [
        "#!pip install tabulate\n",
        "#from tabulate import tabulate\n",
        "import pandas as pd\n",
        "import numpy as np\n",
        "from sklearn.metrics import precision_score, recall_score, f1_score\n",
        "import matplotlib.pyplot as plt\n",
        "\n",
        "\n",
        "# List of file names\n",
        "file_names = [\n",
        "    'Nir_Dataset_162_without_techniques.csv', 'Nir_Dataset_162_with_techniques.csv', # Nir data\n",
        "    'zero_shot.csv', # Zero Shot\n",
        "    'Our_Dataset_300_without_techniques_and_zero_shot.csv', 'Our_Dataset_300_with_techniques_zero_shot.csv', # Zero shot\n",
        "    'Our_Dataset_300_without_techniques_and_one_shot.csv', 'Our_Dataset_300_with_techniques_and_one_shot.csv', # One shot\n",
        "    'Our_Dataset_300_without_techniques_and_two_shot.csv', 'Our_Dataset_300_with_techniques_two_shot.csv'      # Two shot\n",
        "]\n",
        "\n",
        "# Load all files into a dictionary of DataFrames\n",
        "data_frames = {file: pd.read_csv(file) for file in file_names}\n",
        "\n",
        "# # Optionally, display the first few rows of each DataFrame\n",
        "# for name, df in data_frames.items():\n",
        "#     print(f\"\\n{name}:\\n\", df.head())\n"
      ],
      "metadata": {
        "id": "zKq1SM9a-yV4"
      },
      "execution_count": null,
      "outputs": []
    },
    {
      "cell_type": "code",
      "source": [
        "# Loop over each file, load the data, and evaluate\n",
        "for file in file_names:\n",
        "    try:\n",
        "        # Load the data\n",
        "        loadData = pd.read_csv(file)\n",
        "\n",
        "        # Extract the true and predicted labels\n",
        "        true_labels = loadData['True_labels']\n",
        "        predicted_labels = loadData['Technique_id']\n",
        "\n",
        "        # Perform evaluation\n",
        "        print(f'\\nEvaluating {file}')\n",
        "        evaluation(true_labels, predicted_labels, True)\n",
        "\n",
        "    except KeyError as e:\n",
        "        print(f'Error: Column {e} not found in {file}')\n",
        "    except Exception as e:\n",
        "        print(f'An error occurred while processing {file}: {e}')"
      ],
      "metadata": {
        "colab": {
          "base_uri": "https://localhost:8080/"
        },
        "id": "Hd4RNy1N_BWw",
        "outputId": "2a324b7b-80ec-4097-fb1f-721a56285fdb",
        "collapsed": true
      },
      "execution_count": null,
      "outputs": [
        {
          "output_type": "stream",
          "name": "stdout",
          "text": [
            "\n",
            "Evaluating Nir_Dataset_162_without_techniques.csv\n",
            "Metric    |   Score\n",
            "-------------------\n",
            "Precision |   0.16\n",
            "Recall    |   0.20\n",
            "F1 Score  |   0.18\n",
            "\n",
            "Evaluating Nir_Dataset_162_with_techniques.csv\n",
            "Metric    |   Score\n",
            "-------------------\n",
            "Precision |   0.23\n",
            "Recall    |   0.32\n",
            "F1 Score  |   0.26\n",
            "\n",
            "Evaluating zero_shot.csv\n",
            "Metric    |   Score\n",
            "-------------------\n",
            "Precision |   0.08\n",
            "Recall    |   0.08\n",
            "F1 Score  |   0.08\n",
            "\n",
            "Evaluating Our_Dataset_300_without_techniques_and_zero_shot.csv\n",
            "Metric    |   Score\n",
            "-------------------\n",
            "Precision |   0.10\n",
            "Recall    |   0.14\n",
            "F1 Score  |   0.11\n",
            "\n",
            "Evaluating Our_Dataset_300_with_techniques_zero_shot.csv\n",
            "Metric    |   Score\n",
            "-------------------\n",
            "Precision |   0.15\n",
            "Recall    |   0.20\n",
            "F1 Score  |   0.17\n",
            "\n",
            "Evaluating Our_Dataset_300_without_techniques_and_one_shot.csv\n",
            "Metric    |   Score\n",
            "-------------------\n",
            "Precision |   0.10\n",
            "Recall    |   0.15\n",
            "F1 Score  |   0.12\n",
            "\n",
            "Evaluating Our_Dataset_300_with_techniques_and_one_shot.csv\n",
            "Metric    |   Score\n",
            "-------------------\n",
            "Precision |   0.18\n",
            "Recall    |   0.23\n",
            "F1 Score  |   0.20\n",
            "\n",
            "Evaluating Our_Dataset_300_without_techniques_and_two_shot.csv\n",
            "Metric    |   Score\n",
            "-------------------\n",
            "Precision |   0.12\n",
            "Recall    |   0.15\n",
            "F1 Score  |   0.13\n",
            "\n",
            "Evaluating Our_Dataset_300_with_techniques_two_shot.csv\n",
            "Metric    |   Score\n",
            "-------------------\n",
            "Precision |   0.22\n",
            "Recall    |   0.25\n",
            "F1 Score  |   0.23\n"
          ]
        }
      ]
    },
    {
      "cell_type": "code",
      "source": [
        "import matplotlib.pyplot as plt\n",
        "import pandas as pd\n",
        "\n",
        "# Initialize lists to accumulate evaluation results\n",
        "all_precisions = []\n",
        "all_recalls = []\n",
        "all_f1_scores = []\n",
        "xtick_labels = []  # Store xtick labels\n",
        "\n",
        "# Loop over each file, load the data, and evaluate\n",
        "for file in file_names:\n",
        "    try:\n",
        "        # Load the data\n",
        "        loadData = pd.read_csv(file)\n",
        "\n",
        "        # Extract the true and predicted labels\n",
        "        true_labels = loadData['True_labels']\n",
        "        predicted_labels = loadData['Technique_id']\n",
        "\n",
        "        # Perform evaluation\n",
        "        print(f'\\nEvaluating {file}')\n",
        "        results = evaluation(true_labels, predicted_labels, False)\n",
        "\n",
        "        # Accumulate evaluation results\n",
        "        for result in results:\n",
        "            precision, recall, f1_score = result\n",
        "            all_precisions.append(precision)\n",
        "            all_recalls.append(recall)\n",
        "            all_f1_scores.append(f1_score)\n",
        "\n",
        "        # Append filename for xtick labels\n",
        "        xtick_labels.append(file)\n",
        "\n",
        "    except KeyError as e:\n",
        "        print(f'Error: Column {e} not found in {file}')\n",
        "    except Exception as e:\n",
        "        print(f'An error occurred while processing {file}: {e}')\n",
        "\n",
        "# Plotting all evaluation results in a single plot\n",
        "plt.figure(figsize=(14, 6))  # Adjust figure size as per requirement\n",
        "\n",
        "bar_width = 0.2\n",
        "index = range(len(all_precisions))\n",
        "\n",
        "bars1 = plt.bar([i - bar_width for i in index], all_precisions, width=bar_width, color='skyblue', label='Precision')\n",
        "bars2 = plt.bar(index, all_recalls, width=bar_width, color='orange', label='Recall')\n",
        "bars3 = plt.bar([i + bar_width for i in index], all_f1_scores, width=bar_width, color='lightgreen', label='F1 Score')\n",
        "\n",
        "plt.xlabel('Metrics')\n",
        "plt.ylabel('Scores')\n",
        "plt.xticks(index, xtick_labels, rotation=45, ha='right')  # Rotate labels and adjust spacing\n",
        "\n",
        "# Set custom y-axis limits\n",
        "plt.ylim(0, 0.4)  # Adjust this line as per your requirement\n",
        "\n",
        "plt.legend()\n",
        "\n",
        "# Add score ranks on the bars\n",
        "for bars in [bars1, bars2, bars3]:\n",
        "    for bar in bars:\n",
        "        height = bar.get_height()\n",
        "        plt.text(bar.get_x() + bar.get_width() / 2, height, round(height, 2), ha='center', va='bottom')\n",
        "\n",
        "plt.tight_layout()\n",
        "plt.show()\n"
      ],
      "metadata": {
        "id": "Lnbbzjv6BExM",
        "colab": {
          "base_uri": "https://localhost:8080/",
          "height": 918
        },
        "outputId": "03625b80-1fca-44a3-8ac5-8bfeb3d57162"
      },
      "execution_count": null,
      "outputs": [
        {
          "output_type": "stream",
          "name": "stdout",
          "text": [
            "\n",
            "Evaluating Nir_Dataset_162_without_techniques.csv\n",
            "\n",
            "Evaluating Nir_Dataset_162_with_techniques.csv\n",
            "\n",
            "Evaluating zero_shot.csv\n",
            "\n",
            "Evaluating Our_Dataset_300_without_techniques_and_zero_shot.csv\n",
            "\n",
            "Evaluating Our_Dataset_300_with_techniques_zero_shot.csv\n",
            "\n",
            "Evaluating Our_Dataset_300_without_techniques_and_one_shot.csv\n",
            "\n",
            "Evaluating Our_Dataset_300_with_techniques_and_one_shot.csv\n",
            "\n",
            "Evaluating Our_Dataset_300_without_techniques_and_two_shot.csv\n",
            "\n",
            "Evaluating Our_Dataset_300_with_techniques_two_shot.csv\n"
          ]
        },
        {
          "output_type": "display_data",
          "data": {
            "text/plain": [
              "<Figure size 1400x600 with 1 Axes>"
            ],
            "image/png": "[encoded data removed]"
          },
          "metadata": {}
        }
      ]
    },
    {
      "cell_type": "code",
      "source": [],
      "metadata": {
        "id": "R2LRETlus_pf"
      },
      "execution_count": null,
      "outputs": []
    }
  ],
  "metadata": {
    "colab": {
      "provenance": [],
      "collapsed_sections": [
        "LPrCg0HfHfIW",
        "VnatnaJWBVxS",
        "ZOeuevpEthmI",
        "kXZc9FsDt6NI",
        "U8gJFCcpvinU",
        "RatZWbuyvrKg",
        "3WNMlVQ4v3Yy",
        "-Gh8RQNSwQFR",
        "SBKhM4XYTo_S",
        "_oq8JCf8w81I",
        "mz_kXPetxHPb",
        "TFB6RCETxKmL",
        "9Fe762c9xYMO",
        "GKZfq1Gdxdw2"
      ]
    },
    "kernelspec": {
      "display_name": "Python 3",
      "name": "python3"
    },
    "language_info": {
      "name": "python"
    }
  },
  "nbformat": 4,
  "nbformat_minor": 0
}