{
  "nbformat": 4,
  "nbformat_minor": 0,
  "metadata": {
    "colab": {
      "provenance": []
    },
    "kernelspec": {
      "name": "python3",
      "display_name": "Python 3"
    },
    "language_info": {
      "name": "python"
    }
  },
  "cells": [
    {
      "cell_type": "code",
      "execution_count": 4,
      "metadata": {
        "colab": {
          "base_uri": "https://localhost:8080/"
        },
        "id": "N4jcmNPKyk5R",
        "outputId": "f7658066-a9d0-419c-cb55-fd6d37171d2a"
      },
      "outputs": [
        {
          "output_type": "stream",
          "name": "stdout",
          "text": [
            "Fitting 5 folds for each of 216 candidates, totalling 1080 fits\n"
          ]
        },
        {
          "output_type": "stream",
          "name": "stderr",
          "text": [
            "/usr/local/lib/python3.10/dist-packages/sklearn/model_selection/_split.py:700: UserWarning: The least populated class in y has only 1 members, which is less than n_splits=5.\n",
            "  warnings.warn(\n"
          ]
        },
        {
          "output_type": "stream",
          "name": "stdout",
          "text": [
            "Best parameters found: {'bootstrap': False, 'max_depth': 30, 'min_samples_leaf': 1, 'min_samples_split': 5, 'n_estimators': 200}\n",
            "              precision    recall  f1-score   support\n",
            "\n",
            "           1       0.00      0.00      0.00         0\n",
            "           2       1.00      0.33      0.50         3\n",
            "           3       0.00      0.00      0.00         2\n",
            "           4       1.00      0.67      0.80         6\n",
            "           5       0.00      0.00      0.00         2\n",
            "           7       0.82      0.90      0.86        10\n",
            "           8       1.00      0.50      0.67         4\n",
            "           9       0.81      1.00      0.90        13\n",
            "          11       1.00      0.50      0.67         2\n",
            "          12       0.00      0.00      0.00         2\n",
            "          14       1.00      0.67      0.80         3\n",
            "          15       1.00      1.00      1.00         1\n",
            "          17       0.90      0.93      0.92        60\n",
            "          18       0.88      0.78      0.82         9\n",
            "          20       1.00      0.67      0.80         3\n",
            "          21       0.67      0.67      0.67         3\n",
            "          24       0.86      0.95      0.90        20\n",
            "          26       0.00      0.00      0.00         0\n",
            "          28       1.00      0.50      0.67         2\n",
            "          29       1.00      0.33      0.50         3\n",
            "          30       0.00      0.00      0.00         4\n",
            "          31       0.00      0.00      0.00         1\n",
            "          32       1.00      0.67      0.80         3\n",
            "          33       0.00      0.00      0.00         0\n",
            "          34       0.00      0.00      0.00         1\n",
            "          35       0.71      1.00      0.83         5\n",
            "          38       0.00      0.00      0.00         1\n",
            "          40       1.00      0.50      0.67         4\n",
            "          41       0.83      1.00      0.91         5\n",
            "          43       0.00      0.00      0.00         2\n",
            "          44       0.61      1.00      0.75        20\n",
            "          47       0.00      0.00      0.00         2\n",
            "          48       1.00      1.00      1.00         1\n",
            "          49       1.00      0.67      0.80         3\n",
            "          52       1.00      0.67      0.80         6\n",
            "          53       0.00      0.00      0.00         1\n",
            "          54       0.50      0.50      0.50         2\n",
            "          56       0.00      0.00      0.00         1\n",
            "          58       1.00      1.00      1.00         3\n",
            "          59       0.76      0.96      0.85        23\n",
            "          65       0.00      0.00      0.00         1\n",
            "          66       1.00      1.00      1.00         1\n",
            "          68       1.00      1.00      1.00         1\n",
            "          72       0.00      0.00      0.00         1\n",
            "          73       1.00      1.00      1.00         2\n",
            "          74       0.00      0.00      0.00         1\n",
            "          77       1.00      1.00      1.00         1\n",
            "\n",
            "    accuracy                           0.79       244\n",
            "   macro avg       0.58      0.50      0.52       244\n",
            "weighted avg       0.78      0.79      0.77       244\n",
            "\n"
          ]
        },
        {
          "output_type": "stream",
          "name": "stderr",
          "text": [
            "/usr/local/lib/python3.10/dist-packages/sklearn/metrics/_classification.py:1344: UndefinedMetricWarning: Precision and F-score are ill-defined and being set to 0.0 in labels with no predicted samples. Use `zero_division` parameter to control this behavior.\n",
            "  _warn_prf(average, modifier, msg_start, len(result))\n",
            "/usr/local/lib/python3.10/dist-packages/sklearn/metrics/_classification.py:1344: UndefinedMetricWarning: Recall and F-score are ill-defined and being set to 0.0 in labels with no true samples. Use `zero_division` parameter to control this behavior.\n",
            "  _warn_prf(average, modifier, msg_start, len(result))\n",
            "/usr/local/lib/python3.10/dist-packages/sklearn/metrics/_classification.py:1344: UndefinedMetricWarning: Precision and F-score are ill-defined and being set to 0.0 in labels with no predicted samples. Use `zero_division` parameter to control this behavior.\n",
            "  _warn_prf(average, modifier, msg_start, len(result))\n",
            "/usr/local/lib/python3.10/dist-packages/sklearn/metrics/_classification.py:1344: UndefinedMetricWarning: Recall and F-score are ill-defined and being set to 0.0 in labels with no true samples. Use `zero_division` parameter to control this behavior.\n",
            "  _warn_prf(average, modifier, msg_start, len(result))\n",
            "/usr/local/lib/python3.10/dist-packages/sklearn/metrics/_classification.py:1344: UndefinedMetricWarning: Precision and F-score are ill-defined and being set to 0.0 in labels with no predicted samples. Use `zero_division` parameter to control this behavior.\n",
            "  _warn_prf(average, modifier, msg_start, len(result))\n",
            "/usr/local/lib/python3.10/dist-packages/sklearn/metrics/_classification.py:1344: UndefinedMetricWarning: Recall and F-score are ill-defined and being set to 0.0 in labels with no true samples. Use `zero_division` parameter to control this behavior.\n",
            "  _warn_prf(average, modifier, msg_start, len(result))\n"
          ]
        }
      ],
      "source": [
        "import pandas as pd\n",
        "from sklearn.feature_extraction.text import TfidfVectorizer\n",
        "from sklearn.model_selection import train_test_split, GridSearchCV\n",
        "from sklearn.ensemble import RandomForestClassifier\n",
        "from sklearn.metrics import classification_report\n",
        "\n",
        "# Load dataset\n",
        "data = pd.read_csv('combined_data_fix.csv')\n",
        "\n",
        "# Extract the Snort rules and techniques\n",
        "snort_rules = data['Rule']\n",
        "techniques = data['MITRE Technique ID']\n",
        "\n",
        "# Convert the techniques to categorical labels\n",
        "technique_labels = techniques.astype('category').cat.codes\n",
        "\n",
        "# Use TF-IDF to vectorize the Snort rules\n",
        "tfidf = TfidfVectorizer()\n",
        "X = tfidf.fit_transform(snort_rules)\n",
        "y = technique_labels\n",
        "\n",
        "# Split the data\n",
        "X_train, X_test, y_train, y_test = train_test_split(X, y, test_size=0.25, random_state=42)\n",
        "\n",
        "# Define the parameter grid for GridSearchCV\n",
        "param_grid = {\n",
        "    'n_estimators': [50, 100, 200],\n",
        "    'max_depth': [None, 10, 20, 30],\n",
        "    'min_samples_split': [2, 5, 10],\n",
        "    'min_samples_leaf': [1, 2, 4],\n",
        "    'bootstrap': [True, False]\n",
        "}\n",
        "\n",
        "# Initialize the model\n",
        "rf = RandomForestClassifier(random_state=42)\n",
        "\n",
        "# Initialize GridSearchCV\n",
        "grid_search = GridSearchCV(estimator=rf, param_grid=param_grid,\n",
        "                           cv=5, n_jobs=-1, verbose=2)\n",
        "\n",
        "# Fit GridSearchCV on the training data\n",
        "grid_search.fit(X_train, y_train)\n",
        "\n",
        "# Get the best parameters\n",
        "best_params = grid_search.best_params_\n",
        "\n",
        "# Print the best parameters\n",
        "print(f\"Best parameters found: {best_params}\")\n",
        "\n",
        "# Train the final model with the best parameters\n",
        "best_model = RandomForestClassifier(**best_params, random_state=42)\n",
        "best_model.fit(X_train, y_train)\n",
        "\n",
        "# Make predictions\n",
        "y_pred = best_model.predict(X_test)\n",
        "\n",
        "# Evaluate the model\n",
        "print(classification_report(y_test, y_pred))\n"
      ]
    },
    {
      "cell_type": "code",
      "source": [
        "נ"
      ],
      "metadata": {
        "id": "KpioWN960iKH"
      },
      "execution_count": null,
      "outputs": []
    }
  ]
}