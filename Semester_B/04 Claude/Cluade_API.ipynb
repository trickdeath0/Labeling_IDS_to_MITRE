{
  "nbformat": 4,
  "nbformat_minor": 0,
  "metadata": {
    "colab": {
      "provenance": [],
      "collapsed_sections": [
        "kCOCeXotojsW",
        "bjeNca00bwQD",
        "-D9rfL2roNR9",
        "nz_5UVOypq2-",
        "s-8i8ebSpqxG",
        "T0dV1xXnpqrv",
        "9PDyuWeDpqkn",
        "QqzXpySOtBFs",
        "Au3iaHvfg2_g"
      ]
    },
    "kernelspec": {
      "name": "python3",
      "display_name": "Python 3"
    },
    "language_info": {
      "name": "python"
    }
  },
  "cells": [
    {
      "cell_type": "markdown",
      "source": [
        "#Install\n",
        "\n",
        "SDK: https://github.com/anthropics/anthropic-sdk-python"
      ],
      "metadata": {
        "id": "TeA9IRSmjX3M"
      }
    },
    {
      "cell_type": "code",
      "execution_count": 1,
      "metadata": {
        "colab": {
          "base_uri": "https://localhost:8080/"
        },
        "id": "Ow6ph5mIi6Q4",
        "outputId": "c2ad4a09-01e3-4faf-e248-30e0e9e93acc"
      },
      "outputs": [
        {
          "output_type": "stream",
          "name": "stdout",
          "text": [
            "Collecting anthropic\n",
            "  Downloading anthropic-0.26.1-py3-none-any.whl (877 kB)\n",
            "\u001b[2K     \u001b[90m━━━━━━━━━━━━━━━━━━━━━━━━━━━━━━━━━━━━━━━━\u001b[0m \u001b[32m877.6/877.6 kB\u001b[0m \u001b[31m6.7 MB/s\u001b[0m eta \u001b[36m0:00:00\u001b[0m\n",
            "\u001b[?25hRequirement already satisfied: anyio<5,>=3.5.0 in /usr/local/lib/python3.10/dist-packages (from anthropic) (3.7.1)\n",
            "Requirement already satisfied: distro<2,>=1.7.0 in /usr/lib/python3/dist-packages (from anthropic) (1.7.0)\n",
            "Collecting httpx<1,>=0.23.0 (from anthropic)\n",
            "  Downloading httpx-0.27.0-py3-none-any.whl (75 kB)\n",
            "\u001b[2K     \u001b[90m━━━━━━━━━━━━━━━━━━━━━━━━━━━━━━━━━━━━━━━━\u001b[0m \u001b[32m75.6/75.6 kB\u001b[0m \u001b[31m4.7 MB/s\u001b[0m eta \u001b[36m0:00:00\u001b[0m\n",
            "\u001b[?25hCollecting jiter<1,>=0.1.0 (from anthropic)\n",
            "  Downloading jiter-0.4.0-cp310-cp310-manylinux_2_17_x86_64.manylinux2014_x86_64.whl (327 kB)\n",
            "\u001b[2K     \u001b[90m━━━━━━━━━━━━━━━━━━━━━━━━━━━━━━━━━━━━━━━━\u001b[0m \u001b[32m327.8/327.8 kB\u001b[0m \u001b[31m12.1 MB/s\u001b[0m eta \u001b[36m0:00:00\u001b[0m\n",
            "\u001b[?25hRequirement already satisfied: pydantic<3,>=1.9.0 in /usr/local/lib/python3.10/dist-packages (from anthropic) (2.7.1)\n",
            "Requirement already satisfied: sniffio in /usr/local/lib/python3.10/dist-packages (from anthropic) (1.3.1)\n",
            "Requirement already satisfied: tokenizers>=0.13.0 in /usr/local/lib/python3.10/dist-packages (from anthropic) (0.19.1)\n",
            "Requirement already satisfied: typing-extensions<5,>=4.7 in /usr/local/lib/python3.10/dist-packages (from anthropic) (4.11.0)\n",
            "Requirement already satisfied: idna>=2.8 in /usr/local/lib/python3.10/dist-packages (from anyio<5,>=3.5.0->anthropic) (3.7)\n",
            "Requirement already satisfied: exceptiongroup in /usr/local/lib/python3.10/dist-packages (from anyio<5,>=3.5.0->anthropic) (1.2.1)\n",
            "Requirement already satisfied: certifi in /usr/local/lib/python3.10/dist-packages (from httpx<1,>=0.23.0->anthropic) (2024.2.2)\n",
            "Collecting httpcore==1.* (from httpx<1,>=0.23.0->anthropic)\n",
            "  Downloading httpcore-1.0.5-py3-none-any.whl (77 kB)\n",
            "\u001b[2K     \u001b[90m━━━━━━━━━━━━━━━━━━━━━━━━━━━━━━━━━━━━━━━━\u001b[0m \u001b[32m77.9/77.9 kB\u001b[0m \u001b[31m7.1 MB/s\u001b[0m eta \u001b[36m0:00:00\u001b[0m\n",
            "\u001b[?25hCollecting h11<0.15,>=0.13 (from httpcore==1.*->httpx<1,>=0.23.0->anthropic)\n",
            "  Downloading h11-0.14.0-py3-none-any.whl (58 kB)\n",
            "\u001b[2K     \u001b[90m━━━━━━━━━━━━━━━━━━━━━━━━━━━━━━━━━━━━━━━━\u001b[0m \u001b[32m58.3/58.3 kB\u001b[0m \u001b[31m6.1 MB/s\u001b[0m eta \u001b[36m0:00:00\u001b[0m\n",
            "\u001b[?25hRequirement already satisfied: annotated-types>=0.4.0 in /usr/local/lib/python3.10/dist-packages (from pydantic<3,>=1.9.0->anthropic) (0.7.0)\n",
            "Requirement already satisfied: pydantic-core==2.18.2 in /usr/local/lib/python3.10/dist-packages (from pydantic<3,>=1.9.0->anthropic) (2.18.2)\n",
            "Requirement already satisfied: huggingface-hub<1.0,>=0.16.4 in /usr/local/lib/python3.10/dist-packages (from tokenizers>=0.13.0->anthropic) (0.23.1)\n",
            "Requirement already satisfied: filelock in /usr/local/lib/python3.10/dist-packages (from huggingface-hub<1.0,>=0.16.4->tokenizers>=0.13.0->anthropic) (3.14.0)\n",
            "Requirement already satisfied: fsspec>=2023.5.0 in /usr/local/lib/python3.10/dist-packages (from huggingface-hub<1.0,>=0.16.4->tokenizers>=0.13.0->anthropic) (2023.6.0)\n",
            "Requirement already satisfied: packaging>=20.9 in /usr/local/lib/python3.10/dist-packages (from huggingface-hub<1.0,>=0.16.4->tokenizers>=0.13.0->anthropic) (24.0)\n",
            "Requirement already satisfied: pyyaml>=5.1 in /usr/local/lib/python3.10/dist-packages (from huggingface-hub<1.0,>=0.16.4->tokenizers>=0.13.0->anthropic) (6.0.1)\n",
            "Requirement already satisfied: requests in /usr/local/lib/python3.10/dist-packages (from huggingface-hub<1.0,>=0.16.4->tokenizers>=0.13.0->anthropic) (2.31.0)\n",
            "Requirement already satisfied: tqdm>=4.42.1 in /usr/local/lib/python3.10/dist-packages (from huggingface-hub<1.0,>=0.16.4->tokenizers>=0.13.0->anthropic) (4.66.4)\n",
            "Requirement already satisfied: charset-normalizer<4,>=2 in /usr/local/lib/python3.10/dist-packages (from requests->huggingface-hub<1.0,>=0.16.4->tokenizers>=0.13.0->anthropic) (3.3.2)\n",
            "Requirement already satisfied: urllib3<3,>=1.21.1 in /usr/local/lib/python3.10/dist-packages (from requests->huggingface-hub<1.0,>=0.16.4->tokenizers>=0.13.0->anthropic) (2.0.7)\n",
            "Installing collected packages: jiter, h11, httpcore, httpx, anthropic\n",
            "Successfully installed anthropic-0.26.1 h11-0.14.0 httpcore-1.0.5 httpx-0.27.0 jiter-0.4.0\n"
          ]
        }
      ],
      "source": [
        "!pip install anthropic\n",
        "\n",
        "import os\n",
        "import json\n",
        "import pandas as pd\n",
        "import time\n",
        "import re\n",
        "import csv"
      ]
    },
    {
      "cell_type": "markdown",
      "source": [
        "\n",
        "# This is formatted as code\n",
        "\n",
        "\n",
        "### Import packages"
      ],
      "metadata": {
        "id": "zn-Yf90tjrYE"
      }
    },
    {
      "cell_type": "code",
      "source": [
        "import pathlib\n",
        "import textwrap\n",
        "\n",
        "\n",
        "from IPython.display import display\n",
        "from IPython.display import Markdown\n",
        "\n",
        "\n",
        "def to_markdown(text):\n",
        "  text = text.replace('•', '  *')\n",
        "  return Markdown(textwrap.indent(text, '> ', predicate=lambda _: True))\n",
        "\n",
        "  # Used to securely store your API key\n",
        "from google.colab import userdata"
      ],
      "metadata": {
        "id": "UXCqrterjsNL"
      },
      "execution_count": 2,
      "outputs": []
    },
    {
      "cell_type": "markdown",
      "source": [
        "### Setup your API key\n",
        "\n",
        "Before you can use the Cluade API, you must first obtain an API key. If you don't already have one, create a key with one click in Google AI Studio.\n",
        "\n",
        "<a class=\"button button-primary\" href=\"https://console.anthropic.com/settings/keys\" target=\"_blank\" rel=\"noopener noreferrer\">Get an API key</a>\n",
        "\n",
        "\n",
        "In Colab, add the key to the secrets manager under the \"🔑\" in the left panel. Give it the name `CLUADE_API_KEY`.\n",
        "\n",
        "Once you have the API key, pass it to the SDK. You can do this in two ways:\n",
        "\n",
        "* Put the key in the `CLUADE_API_KEY` environment variable (the SDK will automatically pick it up from there).\n"
      ],
      "metadata": {
        "id": "--UHHBFrj38s"
      }
    },
    {
      "cell_type": "code",
      "source": [
        "import os\n",
        "from anthropic import Anthropic\n",
        "\n",
        "client = Anthropic(\n",
        "    # This is the default and can be omitted\n",
        "    # Or use `os.getenv('finalproject-secret-key')` to fetch an environment variable.\n",
        "    #CLUADE_API_KEY=userdata.get('finalproject-secret-key')\n",
        "    api_key=userdata.get(\"ANTHROPIC_API_KEY\"),\n",
        ")\n"
      ],
      "metadata": {
        "id": "b1w5Tp-VkKtj"
      },
      "execution_count": 3,
      "outputs": []
    },
    {
      "cell_type": "markdown",
      "source": [
        "### Demo test for us"
      ],
      "metadata": {
        "id": "kCOCeXotojsW"
      }
    },
    {
      "cell_type": "code",
      "source": [
        "snort_rule = '''alert tcp $HOME_NET [21,25,443,465,636,992,993,995,2484] -> $EXTERNAL_NET any ( msg:\"SERVER-OTHER OpenSSL TLSv1.1 large heartbeat response - possible ssl heartbleed attempt\"; flow:to_client,established; content:\"|16 03 02|\"; byte_jump:2,0,relative; content:\"|18 03 02|\",within 3,fast_pattern; byte_test:2,>,128,0,relative; metadata:policy max-detect-ips drop,policy security-ips drop,ruleset community; service:ssl; reference:cve,2014-0160; classtype:attempted-recon; sid:30781; rev:5; )'''\n",
        "\n",
        "message = client.messages.create(\n",
        "    max_tokens=1024,\n",
        "    messages=[\n",
        "        {\n",
        "            \"role\": \"user\",\n",
        "            \"content\": f\"\"\"\n",
        "                          I'm going to give you a Snort rule. Read the Snort rule carefully, because I'm going to given you a task about it. Here is the Snort rule: <snort_rule>{snort_rule}</snort_rule>\n",
        "\n",
        "                          First, find the techniques from MITRE ATT&CK that are most relevant to the Snort rule.\n",
        "\n",
        "                          Then, answer the task, for each technique include the following information as JSON in this order: 'Sid', 'Technique ID', 'Technique Name', 'Quotes', 'Explanation'.\n",
        "\n",
        "                          Note: The value of the citation field should contain quotation marks from the data sets relevant to the mapped technique are the main reason you chose this technique to be correct. The value of the explanation should be your explanation of why you decided to give the technique and how it relates to the rule. The technique ID should be the official MITRE technique ID.\n",
        "\n",
        "                          Thus, the format of your overall response should look like what's shown between the <examples></examples> tags. Make sure to follow the formatting and spacing exactly.\n",
        "\n",
        "\n",
        "                          <examples>\n",
        "                          [\n",
        "                            \"sid\": \"2274\",\n",
        "                            \"Technique ID\": \"T1110\",\n",
        "                            \"Technique name\": \"Brute Force\",\n",
        "                            \"Quotes\": [\n",
        "                              \"\\\"PROTOCOL-POP login brute force attempt\\\"\",\n",
        "                              \"track by_dst,count 30,seconds 30\"\n",
        "                            ],\n",
        "                            \"Explanation\": \"The rule is looking for excessive \\\"USER\\\" commands within a short period of time, which are common indicators of brute-force attacks targeting the POP3 service.\"\n",
        "                          ]\n",
        "                          </examples>\n",
        "\n",
        "                          Do not include anything besides write the JSON.\n",
        "                          \"\"\",\n",
        "        }\n",
        "    ],\n",
        "    model=\"claude-2.1\",\n",
        "    temperature=0,\n",
        ")\n",
        "\n",
        "\n",
        "#print(message.content) # list"
      ],
      "metadata": {
        "id": "p3L4kX_BoI1u"
      },
      "execution_count": null,
      "outputs": []
    },
    {
      "cell_type": "code",
      "source": [
        "text = str(message.content)\n",
        "#text = str(message.content).split(\"\\\\n\\\\n\")[1].split(\"', type\")[0]\n",
        "print(type(text))\n",
        "print(text)\n",
        "\n",
        "t_numbers = re.findall(r'[\\'\\\"](T\\d+(?:\\.\\d+)?)', text)\n",
        "\n",
        "print(t_numbers)"
      ],
      "metadata": {
        "colab": {
          "base_uri": "https://localhost:8080/"
        },
        "id": "qE39uDRoqlos",
        "outputId": "d4aff1f6-8787-4a8d-874f-2b95ed0e5073"
      },
      "execution_count": null,
      "outputs": [
        {
          "output_type": "stream",
          "name": "stdout",
          "text": [
            "<class 'str'>\n",
            "[ContentBlock(text='{\\n    \"Sid\": \"30781\",\\n    \"Technique ID\": \"T1529\",\\n    \"Technique Name\": \"System Services Discovery\",\\n    \"Quotes\": \"\\\\\"This rule detects attackers attempting to exploit the Heartbleed vulnerability in OpenSSL to read sensitive information from the server\\'s memory.\\\\\"\",\\n    \"Explanation\": \"The rule is looking for signs of attackers trying to exploit the Heartbleed vulnerability, which allows reading sensitive data from memory. This aligns with the System Services Discovery technique in MITRE ATT&CK, which involves gathering information about services running on remote systems. The attempt to exploit Heartbleed to gather data is a form of system services discovery.\"\\n}', type='text')]\n",
            "['T1529']\n"
          ]
        }
      ]
    },
    {
      "cell_type": "markdown",
      "source": [
        "### Data:\n",
        "Our data will be taken from 162 snort rules that have already been manually labeled to techniques from MITRE ATT&CK."
      ],
      "metadata": {
        "id": "AasGoYO3oARv"
      }
    },
    {
      "cell_type": "code",
      "source": [
        "!git clone https://github.com/trickdeath0/Labeling_IDS_to_MITRE.git"
      ],
      "metadata": {
        "id": "6HZLffHfk_ee",
        "colab": {
          "base_uri": "https://localhost:8080/"
        },
        "outputId": "f81dd211-cff0-45f4-932d-7d9930ead3b5"
      },
      "execution_count": 4,
      "outputs": [
        {
          "output_type": "stream",
          "name": "stdout",
          "text": [
            "Cloning into 'Labeling_IDS_to_MITRE'...\n",
            "remote: Enumerating objects: 363, done.\u001b[K\n",
            "remote: Counting objects: 100% (363/363), done.\u001b[K\n",
            "remote: Compressing objects: 100% (258/258), done.\u001b[K\n",
            "remote: Total 363 (delta 177), reused 276 (delta 91), pack-reused 0\u001b[K\n",
            "Receiving objects: 100% (363/363), 7.97 MiB | 12.57 MiB/s, done.\n",
            "Resolving deltas: 100% (177/177), done.\n"
          ]
        }
      ]
    },
    {
      "cell_type": "code",
      "source": [
        "# data = pd.read_csv('/content/Labeling_IDS_to_MITRE/ground_truth.csv') # Nir experiment\n",
        "data = pd.read_csv('/content/Labeling_IDS_to_MITRE/Semester_B/01 stratification/test_data_fix.csv') # Our experiment\n",
        "print(data.head())\n",
        "rules_list = data['Rule']\n",
        "true_labels = data['technique ids']\n",
        "\n",
        "#print(data['Sid'][0+41])\n",
        "print(f\"\\n{len(data)=}\")"
      ],
      "metadata": {
        "id": "iZaI6p6-oIiO",
        "colab": {
          "base_uri": "https://localhost:8080/"
        },
        "outputId": "60ce4d44-771d-4544-f381-68801769465e"
      },
      "execution_count": 5,
      "outputs": [
        {
          "output_type": "stream",
          "name": "stdout",
          "text": [
            "     Sid                                  URL       technique ids  \\\n",
            "0  50094  https://snort.org/rule_docs/1-50094           ['T1187']   \n",
            "1  38563  https://snort.org/rule_docs/1-38563           ['T1056']   \n",
            "2    976    https://snort.org/rule_docs/1-976           ['T1204']   \n",
            "3   1129   https://snort.org/rule_docs/1-1129           ['T1218']   \n",
            "4  27967  https://snort.org/rule_docs/1-27967  ['T1505', 'T1219']   \n",
            "\n",
            "                                                Rule  \n",
            "0  alert tcp any $HTTP_PORTS -> any any ( msg:\"IN...  \n",
            "1  alert tcp $EXTERNAL_NET $HTTP_PORTS -> $HOME_N...  \n",
            "2  alert tcp $EXTERNAL_NET any -> $HTTP_SERVERS $...  \n",
            "3  alert tcp $EXTERNAL_NET any -> $HTTP_SERVERS $...  \n",
            "4  alert tcp $EXTERNAL_NET any -> $HOME_NET $HTTP...  \n",
            "\n",
            "len(data)=300\n"
          ]
        }
      ]
    },
    {
      "cell_type": "code",
      "source": [
        "def clean_response(text):\n",
        "    text = text.data.replace(\">\", \"\").strip()  # Remove leading \">\", whitespace\n",
        "    try:\n",
        "      text = text.replace(\"```json\", \"\")\n",
        "      text = text.replace(\"```\", \"\")\n",
        "    except:\n",
        "      pass\n",
        "    return text\n"
      ],
      "metadata": {
        "id": "z6Lqlzg1oMiX"
      },
      "execution_count": 6,
      "outputs": []
    },
    {
      "cell_type": "markdown",
      "source": [
        "# **Zero Shot (ZS):**\n",
        "At this stage, the LLMs will receive a prompt that does not include the list of techniques from MITRE ATT&CK in order to examine the results of the models based on prior knowledge that has been trained. According to our request, the LLMs will classify the techniques according to the content of the rule."
      ],
      "metadata": {
        "id": "bjeNca00bwQD"
      }
    },
    {
      "cell_type": "code",
      "source": [
        "def ZS(snort_rule):\n",
        "\n",
        "  prompt = f\"\"\"Rule: {snort_rule}\n",
        "  Return a MITRE technique ID (with quotation marks) that related to the rule\"\"\"\n",
        "\n",
        "\n",
        "  message = client.messages.create(\n",
        "      max_tokens=1024,\n",
        "      messages=[\n",
        "          {\n",
        "              \"role\": \"user\",\n",
        "              \"content\": prompt,\n",
        "          }\n",
        "      ],\n",
        "      model=\"claude-3-sonnet-20240229\",\n",
        "      temperature=0,\n",
        "  )\n",
        "\n",
        "  return message"
      ],
      "metadata": {
        "id": "Q4ej4JMxbw3S"
      },
      "execution_count": null,
      "outputs": []
    },
    {
      "cell_type": "code",
      "source": [
        "a = '''\n",
        "\"alert udp $HOME_NET any -> $EXTERNAL_NET 15165 ( msg:\"\"MALWARE-OTHER Keylogger stealthwatcher 2000 runtime detection - agent up notification\"\"; content:\"\"|00 00 00 00 0A 02 08 A6|\"\",depth 8; content:\"\"|02 00 00|v\"\",distance 0; classtype:successful-recon-limited; sid:6386; rev:8; )\"\n",
        "'''\n",
        "\n",
        "print(ZS(a))"
      ],
      "metadata": {
        "colab": {
          "base_uri": "https://localhost:8080/"
        },
        "id": "Bedm8DZPcIAi",
        "outputId": "f047c33c-a4d8-4c18-9aee-63c0b2613121"
      },
      "execution_count": null,
      "outputs": [
        {
          "output_type": "stream",
          "name": "stdout",
          "text": [
            "Message(id='msg_01F71A7QyT4ZLYF1PoydRxio', content=[TextBlock(text='Based on the rule description \"MALWARE-OTHER Keylogger stealthwatcher 2000 runtime detection - agent up notification\", the relevant MITRE technique ID is:\\n\\n\"T1556.002\"\\n\\nThis technique ID corresponds to \"Credential Access: Credentials from Web Browsers\" in the MITRE ATT&CK framework, which includes keylogging as a method for capturing credentials from web browsers.', type='text')], model='claude-3-sonnet-20240229', role='assistant', stop_reason='end_turn', stop_sequence=None, type='message', usage=Usage(input_tokens=143, output_tokens=95))\n"
          ]
        }
      ]
    },
    {
      "cell_type": "markdown",
      "source": [
        "# **Prompting without techniques guide and without example (WTGWE):**\n",
        "At this stage, the LLMs will receive a prompt that does not include the list of techniques from MITRE ATT&CK in order to examine the results of the models based on prior knowledge that has been trained. According to our request, the LLMs will classify the techniques according to the content of the rule.\n"
      ],
      "metadata": {
        "id": "-D9rfL2roNR9"
      }
    },
    {
      "cell_type": "markdown",
      "source": [
        "**Prompt1**:\n",
        "\n",
        "      prompt = f\"\"\"You are an information security expert. Your task is to label IDS rules for MITRE ATT&CK techniques based on your cybersecurity knowledge. For the task, you are going to get a single Snort IDS rule and you will need to return the most relevant techniques from MITRE ATT&CK that are related to the rule.\n",
        "      Try to search based on keywords and based on the knowledge you have. For each technique include the following information as JSON in this order: 'Sid', 'Technique ID', 'Technique Name', 'Quotes', 'Explanation'.\n",
        "      Note: The value of the citation field should contain quotation marks from the data sets relevant to the mapped technique are the main reason you chose this technique to be correct. The value of the explanation should be your explanation of why you decided to give the technique and how it relates to the rule. The technique ID should be the official MITRE technique ID.\n",
        "      Please don't write anything but the JSON. Rule: {snort_rule}\"\"\"\n",
        "\n",
        "\n",
        "**prompt2**:\n",
        "\n",
        "      prompt2 = f\"\"\"I'm going to give you a Snort rule. Read the Snort rule carefully, because I'm going to given you a task about it. Here is the Snort rule: <snort_rule>{snort_rule}</snort_rule>\n",
        "\n",
        "      First, find the techniques from MITRE ATT&CK that are most relevant to the Snort rule.\n",
        "\n",
        "      Then, answer the task, for each technique include the following information as JSON in this order: 'Sid', 'Technique ID', 'Technique Name', 'Quotes', 'Explanation'.\n",
        "\n",
        "      Note: The value of the citation field should contain quotation marks from the data sets relevant to the mapped technique are the main reason you chose this technique to be correct. The value of the explanation should be your explanation of why you decided to give the technique and how it relates to the rule. The technique ID should be the official MITRE technique ID.\n",
        "\n",
        "      Thus, the format of your overall response should look like what's shown between the <examples></examples> tags. Make sure to follow the formatting and spacing exactly.\n",
        "\n",
        "\n",
        "      <examples>\n",
        "        [\n",
        "          \"sid\": \"2274\",\n",
        "          \"Technique ID\": \"T1110\",\n",
        "          \"Technique name\": \"Brute Force\",\n",
        "          \"Quotes\": [\n",
        "            \"\\\"PROTOCOL-POP login brute force attempt\\\"\",\n",
        "            \"track by_dst,count 30,seconds 30\"\n",
        "          ],\n",
        "          \"Explanation\": \"The rule is looking for excessive \\\"USER\\\" commands within a short period of time, which are common indicators of brute-force attacks targeting the POP3 service.\"\n",
        "        ]\n",
        "        </examples>\n",
        "\n",
        "        Do not include anything besides write the JSON.\n",
        "        \"\"\"\n",
        "\n",
        "\n",
        "**prompt3**:\n",
        "\n",
        "        prompt3 = f\"\"\"You work in a company that deals with information security, your role in the company is to label techniques from MITRE ATT&CK to the rules of IDS systems. The labeling between a rule and a technique indicates that the attacker operated with a technique that you found to be suitable for the rule that alerted the IDS system. Now we will test your knowledge labeling IDS rules for MITRE ATT&CK techniques. For your task, you're going to have a single Snort IDS rule and you'll need to label the most relevant techniques from MITRE ATT&CK associated with the rule. From the rule you receive, your labeling should be based on your knowledge and the information found within the 'msg' in the rule received. For each technique you call the rule, include the following information as JSON format in this order: 'Sid', 'Technique ID', 'Technique Name', 'Quotes', 'Explanation'.  Note: The value of the 'Quotes' field should contain quotation marks from the data sets relevant to the mapped technique. The value of the 'Explanation' should be your explanation of why you decided to give the technique and how it relates to the rule. The 'Technique ID' should be the official MITRE technique ID.\n",
        "        Please don't write anything but the JSON. Rule: {snort_rule}\"\"\")\n",
        "\n",
        "\n",
        "**prompt4**\n",
        "\n",
        "        prompt4 = f'''You are going to receive a Snort rule and your task is to find as many MITRE ATT&CK techniques as possible that are associated with the rule. Note: You should categorize the techniques to 1 or 2. Technique of type 1 is a technique that you can associate with the rule directly based on the rule. Technique of type 2 is a technique that can be associated with the rule indirectly, based on your knowledge and understanding. The categorization value should be the value 1 or 2, based on the explanation given above. The quotes field value should contain quotes from the rules data that are relevant to the technique mapped and they are the main reason you believe the mapping to this technique is correct. The explanation’s value should be your explanation for why you decided to give the technique and how it is associated with the rule. The technique id should be the official MITRE technique id. For each technique include the following information as JSON: sid, Technique id, Technique name, Categorization, Quotes, Explanation. After each rule I will provide you with, answer according to the provided format. Please do not write anything else but the JSON. Rule: {snort_rule}''')\n"
      ],
      "metadata": {
        "id": "0-HP8vQIijhJ"
      }
    },
    {
      "cell_type": "code",
      "source": [
        "def WTGWE(snort_rule):\n",
        "\n",
        "  # prompt = f\"\"\"You are an information security expert. Your task is to label IDS rules for MITRE ATT&CK techniques based on your cybersecurity knowledge. For the task, you are going to get a single Snort IDS rule and you will need to return the most relevant techniques from MITRE ATT&CK that are related to the rule.\n",
        "  #             Try to search based on keywords and based on the knowledge you have. For each technique include the following information as JSON in this order: 'Sid', 'Technique ID', 'Technique Name', 'Quotes', 'Explanation'.\n",
        "  #             Note: The value of the citation field should contain quotation marks from the data sets relevant to the mapped technique are the main reason you chose this technique to be correct. The value of the explanation should be your explanation of why you decided to give the technique and how it relates to the rule. The technique ID should be the official MITRE technique ID.\n",
        "  #             Please don't write anything but the JSON. Rule: {snort_rule}\"\"\"\n",
        "\n",
        "  prompt = f\"\"\"I'm going to give you a Snort rule. Read the Snort rule carefully, because I'm going to given you a task about it. Here is the Snort rule: <snort_rule>{snort_rule}</snort_rule>\n",
        "\n",
        "  First, find the techniques from MITRE ATT&CK that are most relevant to the Snort rule.\n",
        "\n",
        "  Then, answer the task, for each technique include the following information as JSON in this order: 'Sid', 'Technique ID', 'Technique Name', 'Quotes', 'Explanation'.\n",
        "\n",
        "  Note: The value of the citation field should contain quotation marks from the data sets relevant to the mapped technique are the main reason you chose this technique to be correct. The value of the explanation should be your explanation of why you decided to give the technique and how it relates to the rule. The technique ID should be the official MITRE technique ID.\n",
        "\n",
        "\n",
        "  <examples>\n",
        "    [\n",
        "      \"sid\": \"\",\n",
        "      \"Technique ID\": \"\",\n",
        "      \"Technique name\": \"\",\n",
        "      \"Quotes\": [\"\"],\n",
        "      \"Explanation\": \"\"\n",
        "    ]\n",
        "    </examples>\n",
        "\n",
        "    Do not include anything besides write the JSON.\n",
        "    \"\"\"\n",
        "\n",
        "\n",
        "  message = client.messages.create(\n",
        "      max_tokens=1024,\n",
        "      messages=[\n",
        "          {\n",
        "              \"role\": \"user\",\n",
        "              \"content\": prompt,\n",
        "          }\n",
        "      ],\n",
        "      model=\"claude-3-sonnet-20240229\",\n",
        "      temperature=0,\n",
        "  )\n",
        "\n",
        "  return message"
      ],
      "metadata": {
        "id": "MQqU79vkoUym"
      },
      "execution_count": 21,
      "outputs": []
    },
    {
      "cell_type": "markdown",
      "source": [
        "# **Prompting without techniques guide and with 1 example (WTG1E):**\n",
        "At this stage, the LLMs will receive a prompt that does not include the list of techniques from MITRE ATT&CK in order to examine the results of the models based on prior knowledge that has been trained. According to our request, the LLMs will classify the techniques according to the content of the rule.\n",
        "\n",
        "In addition, the prompt has one example (one shot)\n"
      ],
      "metadata": {
        "id": "nz_5UVOypq2-"
      }
    },
    {
      "cell_type": "code",
      "source": [
        "def WTG1E(snort_rule):\n",
        "\n",
        "  # prompt = f\"\"\"Q: You are an information security expert. Your task is to label IDS rules for MITRE ATT&CK techniques based on your cybersecurity knowledge. For the task, you are going to get a single Snort IDS rule and you will need to return the most relevant techniques from MITRE ATT&CK that are related to the rule.\n",
        "  #   Try to search based on keywords and based on the knowledge you have. For each technique include the following information as JSON in this order: 'Sid', 'Technique ID', 'Technique Name', 'Quotes', 'Explanation'.\n",
        "  #   Note: The value of the citation field should contain quotation marks from the data sets relevant to the mapped technique are the main reason you chose this technique to be correct. The value of the explanation should be your explanation of why you decided to give the technique and how it relates to the rule. The technique ID should be the official MITRE technique ID.\n",
        "  #   Please don't write anything but the JSON. Rule: \"alert tcp $EXTERNAL_NET $HTTP_PORTS -> $HOME_NET any ( msg:\"\"MALWARE-CNC Win.Trojan.GateKeylogger fake 404 response\"\"; flow:to_client,established; http_stat_code; content:\"\"200\"\"; http_stat_msg; content:\"\"OK\"\"; pkt_data; content:\"\">404 Not Found<\"\",fast_pattern,nocase; content:\"\" requested URL / was not found \"\"; metadata:impact_flag red,ruleset community; service:http; T1056; classtype:trojan-activity; sid:38563; rev:4; )\"\n",
        "  #   A: [\n",
        "  #       \"sid\": \"38563\",\n",
        "  #       \"Technique ID\": \"T1056\",\n",
        "  #       \"Technique name\": \"Input Capture\",\n",
        "  #       \"Quotes\": \"\\\"Input Capture techniques involve intercepting and capturing user input data, such as keystrokes, to obtain sensitive information. The rule indicates the presence of a Trojan (GateKeylogger) that mimics a '404 Not Found' error to disguise its communication with a command and control server, which is a common method used by keyloggers to stealthily capture input data.\\\"\",\n",
        "  #       \"Explanation\": \"This event is generated when activity relating to malware is detected.\"\n",
        "  #   ]\n",
        "\n",
        "  #   Q: You are an information security expert. Your task is to label IDS rules for MITRE ATT&CK techniques based on your cybersecurity knowledge. For the task, you are going to get a single Snort IDS rule and you will need to return the most relevant techniques from MITRE ATT&CK that are related to the rule.\n",
        "  #   Try to search based on keywords and based on the knowledge you have. For each technique include the following information as JSON in this order: 'Sid', 'Technique ID', 'Technique Name', 'Quotes', 'Explanation'.\n",
        "  #   Note: The value of the citation field should contain quotation marks from the data sets relevant to the mapped technique are the main reason you chose this technique to be correct. The value of the explanation should be your explanation of why you decided to give the technique and how it relates to the rule. The technique ID should be the official MITRE technique ID.\n",
        "  #   Please don't write anything but the JSON. Rule: {snort_rule}\n",
        "  #   A: \"\"\"\n",
        "\n",
        "\n",
        "\n",
        "  prompt_with_example = f\"\"\"Q: I'm going to give you a Snort rule. Read the Snort rule carefully, because I'm going to given you a task about it. Here is the Snort rule: <snort_rule>\"alert tcp $EXTERNAL_NET $HTTP_PORTS -> $HOME_NET any ( msg:\"\"MALWARE-CNC Win.Trojan.GateKeylogger fake 404 response\"\"; flow:to_client,established; http_stat_code; content:\"\"200\"\"; http_stat_msg; content:\"\"OK\"\"; pkt_data; content:\"\">404 Not Found<\"\",fast_pattern,nocase; content:\"\" requested URL / was not found \"\"; metadata:impact_flag red,ruleset community; service:http; T1056; classtype:trojan-activity; sid:38563; rev:4; )\"</snort_rule>\n",
        "\n",
        "  First, find the techniques from MITRE ATT&CK that are most relevant to the Snort rule.\n",
        "\n",
        "  Then, answer the task, for each technique include the following information as JSON in this order: 'Sid', 'Technique ID', 'Technique Name', 'Quotes', 'Explanation'.\n",
        "\n",
        "  Note: The value of the citation field should contain quotation marks from the data sets relevant to the mapped technique are the main reason you chose this technique to be correct. The value of the explanation should be your explanation of why you decided to give the technique and how it relates to the rule. The technique ID should be the official MITRE technique ID.\n",
        "\n",
        "\n",
        "  <examples>\n",
        "    [\n",
        "      \"sid\": \"\",\n",
        "      \"Technique ID\": \"\",\n",
        "      \"Technique name\": \"\",\n",
        "      \"Quotes\": [\"\"],\n",
        "      \"Explanation\": \"\"\n",
        "    ]\n",
        "    </examples>\n",
        "\n",
        "    Do not include anything besides write the JSON.\n",
        "    \"\"\"\n",
        "\n",
        "  answer_we_expect = f\"\"\"\n",
        "    [\n",
        "        \"sid\": \"38563\",\n",
        "        \"Technique ID\": \"T1056\",\n",
        "        \"Technique name\": \"Input Capture\",\n",
        "        \"Quotes\": \"\\\"Input Capture techniques involve intercepting and capturing user input data, such as keystrokes, to obtain sensitive information. The rule indicates the presence of a Trojan (GateKeylogger) that mimics a '404 Not Found' error to disguise its communication with a command and control server, which is a common method used by keyloggers to stealthily capture input data.\\\"\",\n",
        "        \"Explanation\": \"This event is generated when activity relating to malware is detected.\"\n",
        "    ]\n",
        "\n",
        "  \"\"\"\n",
        "\n",
        "  prompt = f\"\"\"\n",
        "  I'm going to give you a Snort rule. Read the Snort rule carefully, because I'm going to given you a task about it. Here is the Snort rule: <snort_rule>{snort_rule}</snort_rule>\n",
        "\n",
        "  First, find the techniques from MITRE ATT&CK that are most relevant to the Snort rule.\n",
        "\n",
        "  Then, answer the task, for each technique include the following information as JSON in this order: 'Sid', 'Technique ID', 'Technique Name', 'Quotes', 'Explanation'.\n",
        "\n",
        "  Note: The value of the citation field should contain quotation marks from the data sets relevant to the mapped technique are the main reason you chose this technique to be correct. The value of the explanation should be your explanation of why you decided to give the technique and how it relates to the rule. The technique ID should be the official MITRE technique ID.\n",
        "\n",
        "\n",
        "  <examples>\n",
        "    [\n",
        "      \"sid\": \"\",\n",
        "      \"Technique ID\": \"\",\n",
        "      \"Technique name\": \"\",\n",
        "      \"Quotes\": [\"\"],\n",
        "      \"Explanation\": \"\"\n",
        "    ]\n",
        "    </examples>\n",
        "\n",
        "    Do not include anything besides write the JSON.\n",
        "    \"\"\"\n",
        "\n",
        "\n",
        "  message = client.messages.create(\n",
        "      max_tokens=1024,\n",
        "      messages=[\n",
        "          {\n",
        "              \"role\": \"user\",\n",
        "              \"content\": prompt_with_example,\n",
        "          },\n",
        "          {\n",
        "            \"role\": \"assistant\",\n",
        "            \"content\": answer_we_expect,\n",
        "          },\n",
        "                    {\n",
        "              \"role\": \"user\",\n",
        "              \"content\": prompt,\n",
        "          },\n",
        "      ],\n",
        "      model=\"claude-3-sonnet-20240229\",\n",
        "      temperature=0,\n",
        "  )\n",
        "\n",
        "  return message"
      ],
      "metadata": {
        "id": "xC3Zp_bIrqCO"
      },
      "execution_count": 33,
      "outputs": []
    },
    {
      "cell_type": "markdown",
      "source": [
        "# **Prompting without techniques guide and with 2 example (WTG2E):**\n",
        "At this stage, the LLMs will receive a prompt that does not include the list of techniques from MITRE ATT&CK in order to examine the results of the models based on prior knowledge that has been trained. According to our request, the LLMs will classify the techniques according to the content of the rule.\n",
        "\n",
        "In addition, the prompt has two example (two shot)\n"
      ],
      "metadata": {
        "id": "s-8i8ebSpqxG"
      }
    },
    {
      "cell_type": "code",
      "source": [
        "def WTG2E(snort_rule):\n",
        "\n",
        "  # prompt = f\"\"\"Q: You are an information security expert. Your task is to label IDS rules for MITRE ATT&CK techniques based on your cybersecurity knowledge. For the task, you are going to get a single Snort IDS rule and you will need to return the most relevant techniques from MITRE ATT&CK that are related to the rule.\n",
        "  #   Try to search based on keywords and based on the knowledge you have. For each technique include the following information as JSON in this order: 'Sid', 'Technique ID', 'Technique Name', 'Quotes', 'Explanation'.\n",
        "  #   Note: The value of the citation field should contain quotation marks from the data sets relevant to the mapped technique are the main reason you chose this technique to be correct. The value of the explanation should be your explanation of why you decided to give the technique and how it relates to the rule. The technique ID should be the official MITRE technique ID.\n",
        "  #   Please don't write anything but the JSON. Rule: \"alert tcp $EXTERNAL_NET $HTTP_PORTS -> $HOME_NET any ( msg:\"\"MALWARE-CNC Win.Trojan.GateKeylogger fake 404 response\"\"; flow:to_client,established; http_stat_code; content:\"\"200\"\"; http_stat_msg; content:\"\"OK\"\"; pkt_data; content:\"\">404 Not Found<\"\",fast_pattern,nocase; content:\"\" requested URL / was not found \"\"; metadata:impact_flag red,ruleset community; service:http; T1056; classtype:trojan-activity; sid:38563; rev:4; )\"\n",
        "  #   A: [\n",
        "  #       \"sid\": \"38563\",\n",
        "  #       \"Technique ID\": \"T1056\",\n",
        "  #       \"Technique name\": \"Input Capture\",\n",
        "  #       \"Quotes\": \"\\\"Input Capture techniques involve intercepting and capturing user input data, such as keystrokes, to obtain sensitive information. The rule indicates the presence of a Trojan (GateKeylogger) that mimics a '404 Not Found' error to disguise its communication with a command and control server, which is a common method used by keyloggers to stealthily capture input data.\\\"\",\n",
        "  #       \"Explanation\": \"This event is generated when activity relating to malware is detected.\"\n",
        "  #   ]\n",
        "\n",
        "  #   Q: You are an information security expert. Your task is to label IDS rules for MITRE ATT&CK techniques based on your cybersecurity knowledge. For the task, you are going to get a single Snort IDS rule and you will need to return the most relevant techniques from MITRE ATT&CK that are related to the rule.\n",
        "  #   Try to search based on keywords and based on the knowledge you have. For each technique include the following information as JSON in this order: 'Sid', 'Technique ID', 'Technique Name', 'Quotes', 'Explanation'.\n",
        "  #   Note: The value of the citation field should contain quotation marks from the data sets relevant to the mapped technique are the main reason you chose this technique to be correct. The value of the explanation should be your explanation of why you decided to give the technique and how it relates to the rule. The technique ID should be the official MITRE technique ID.\n",
        "  #   Please don't write anything but the JSON. Rule: \"alert tcp $EXTERNAL_NET $HTTP_PORTS -> $HOME_NET any ( msg:\"\"MALWARE-CNC Win.Trojan.GateKeylogger fake 404 response\"\"; flow:to_client,established; http_stat_code; content:\"\"200\"\"; http_stat_msg; content:\"\"OK\"\"; pkt_data; content:\"\">404 Not Found<\"\",fast_pattern,nocase; content:\"\" requested URL / was not found \"\"; metadata:impact_flag red,ruleset community; service:http; T1056; classtype:trojan-activity; sid:38563; rev:4; )\"\n",
        "  #   A: [\n",
        "  #       \"sid\": \"23934\",\n",
        "  #       \"Technique ID\": \"T1190\",\n",
        "  #       \"Technique name\": \"Exploit Public-Facing Application\",\n",
        "  #       \"Quotes\": \"\\\"Exploit Public-Facing Application techniques involve targeting vulnerabilities in externally facing applications to gain unauthorized access or execute arbitrary code. This rule detects an attempted blind SQL injection attack on the Symantec Web Gateway's 'blocked.php' page, which is a common method attackers use to exploit web applications by manipulating SQL queries.\\\"\",\n",
        "  #       \"Explanation\": \"SQL injection vulnerability in the management console in Symantec Web Gateway 5.0.x before 5.0.3.18 allows remote attackers to execute arbitrary SQL commands via unspecified vectors, related to a \"blind SQL injection\" issue.\"\n",
        "  #   ]\n",
        "\n",
        "  #   Q: You are an information security expert. Your task is to label IDS rules for MITRE ATT&CK techniques based on your cybersecurity knowledge. For the task, you are going to get a single Snort IDS rule and you will need to return the most relevant techniques from MITRE ATT&CK that are related to the rule.\n",
        "  #   Try to search based on keywords and based on the knowledge you have. For each technique include the following information as JSON in this order: 'Sid', 'Technique ID', 'Technique Name', 'Quotes', 'Explanation'.\n",
        "  #   Note: The value of the citation field should contain quotation marks from the data sets relevant to the mapped technique are the main reason you chose this technique to be correct. The value of the explanation should be your explanation of why you decided to give the technique and how it relates to the rule. The technique ID should be the official MITRE technique ID.\n",
        "  #   Please don't write anything but the JSON. Rule: {snort_rule}\n",
        "  #   A: \"\"\"\n",
        "\n",
        "  prompt_with_example_1 = f\"\"\"Q: I'm going to give you a Snort rule. Read the Snort rule carefully, because I'm going to given you a task about it. Here is the Snort rule: <snort_rule>\"alert tcp $EXTERNAL_NET $HTTP_PORTS -> $HOME_NET any ( msg:\"\"MALWARE-CNC Win.Trojan.GateKeylogger fake 404 response\"\"; flow:to_client,established; http_stat_code; content:\"\"200\"\"; http_stat_msg; content:\"\"OK\"\"; pkt_data; content:\"\">404 Not Found<\"\",fast_pattern,nocase; content:\"\" requested URL / was not found \"\"; metadata:impact_flag red,ruleset community; service:http; T1056; classtype:trojan-activity; sid:38563; rev:4; )\"</snort_rule>\n",
        "\n",
        "  First, find the techniques from MITRE ATT&CK that are most relevant to the Snort rule.\n",
        "\n",
        "  Then, answer the task, for each technique include the following information as JSON in this order: 'Sid', 'Technique ID', 'Technique Name', 'Quotes', 'Explanation'.\n",
        "\n",
        "  Note: The value of the citation field should contain quotation marks from the data sets relevant to the mapped technique are the main reason you chose this technique to be correct. The value of the explanation should be your explanation of why you decided to give the technique and how it relates to the rule. The technique ID should be the official MITRE technique ID.\n",
        "\n",
        "\n",
        "  <examples>\n",
        "    [\n",
        "      \"sid\": \"\",\n",
        "      \"Technique ID\": \"\",\n",
        "      \"Technique name\": \"\",\n",
        "      \"Quotes\": [\"\"],\n",
        "      \"Explanation\": \"\"\n",
        "    ]\n",
        "    </examples>\n",
        "\n",
        "    Do not include anything besides write the JSON.\n",
        "    \"\"\"\n",
        "\n",
        "  answer_we_expect_1 = f\"\"\"\n",
        "    [\n",
        "        \"sid\": \"38563\",\n",
        "        \"Technique ID\": \"T1056\",\n",
        "        \"Technique name\": \"Input Capture\",\n",
        "        \"Quotes\": \"\\\"Input Capture techniques involve intercepting and capturing user input data, such as keystrokes, to obtain sensitive information. The rule indicates the presence of a Trojan (GateKeylogger) that mimics a '404 Not Found' error to disguise its communication with a command and control server, which is a common method used by keyloggers to stealthily capture input data.\\\"\",\n",
        "        \"Explanation\": \"This event is generated when activity relating to malware is detected.\"\n",
        "    ]\n",
        "  \"\"\"\n",
        "\n",
        "  prompt_with_example_2 = f\"\"\"Q: I'm going to give you a Snort rule. Read the Snort rule carefully, because I'm going to given you a task about it. Here is the Snort rule: <snort_rule>\"alert tcp $EXTERNAL_NET $HTTP_PORTS -> $HOME_NET any ( msg:\"\"MALWARE-CNC Win.Trojan.GateKeylogger fake 404 response\"\"; flow:to_client,established; http_stat_code; content:\"\"200\"\"; http_stat_msg; content:\"\"OK\"\"; pkt_data; content:\"\">404 Not Found<\"\",fast_pattern,nocase; content:\"\" requested URL / was not found \"\"; metadata:impact_flag red,ruleset community; service:http; T1056; classtype:trojan-activity; sid:38563; rev:4; )\"</snort_rule>\n",
        "\n",
        "  First, find the techniques from MITRE ATT&CK that are most relevant to the Snort rule.\n",
        "\n",
        "  Then, answer the task, for each technique include the following information as JSON in this order: 'Sid', 'Technique ID', 'Technique Name', 'Quotes', 'Explanation'.\n",
        "\n",
        "  Note: The value of the citation field should contain quotation marks from the data sets relevant to the mapped technique are the main reason you chose this technique to be correct. The value of the explanation should be your explanation of why you decided to give the technique and how it relates to the rule. The technique ID should be the official MITRE technique ID.\n",
        "\n",
        "\n",
        "  <examples>\n",
        "    [\n",
        "      \"sid\": \"\",\n",
        "      \"Technique ID\": \"\",\n",
        "      \"Technique name\": \"\",\n",
        "      \"Quotes\": [\"\"],\n",
        "      \"Explanation\": \"\"\n",
        "    ]\n",
        "    </examples>\n",
        "\n",
        "    Do not include anything besides write the JSON.\n",
        "    \"\"\"\n",
        "\n",
        "  answer_we_expect_2 = f\"\"\"\n",
        "    [\n",
        "      \"sid\": \"23934\",\n",
        "      \"Technique ID\": \"T1190\",\n",
        "      \"Technique name\": \"Exploit Public-Facing Application\",\n",
        "      \"Quotes\": \"\\\"Exploit Public-Facing Application techniques involve targeting vulnerabilities in externally facing applications to gain unauthorized access or execute arbitrary code. This rule detects an attempted blind SQL injection attack on the Symantec Web Gateway's 'blocked.php' page, which is a common method attackers use to exploit web applications by manipulating SQL queries.\\\"\",\n",
        "      \"Explanation\": \"SQL injection vulnerability in the management console in Symantec Web Gateway 5.0.x before 5.0.3.18 allows remote attackers to execute arbitrary SQL commands via unspecified vectors, related to a \"blind SQL injection\" issue.\"\n",
        "    ]\n",
        "  \"\"\"\n",
        "\n",
        "  prompt = f\"\"\"\n",
        "  I'm going to give you a Snort rule. Read the Snort rule carefully, because I'm going to given you a task about it. Here is the Snort rule: <snort_rule>{snort_rule}</snort_rule>\n",
        "\n",
        "  First, find the techniques from MITRE ATT&CK that are most relevant to the Snort rule.\n",
        "\n",
        "  Then, answer the task, for each technique include the following information as JSON in this order: 'Sid', 'Technique ID', 'Technique Name', 'Quotes', 'Explanation'.\n",
        "\n",
        "  Note: The value of the citation field should contain quotation marks from the data sets relevant to the mapped technique are the main reason you chose this technique to be correct. The value of the explanation should be your explanation of why you decided to give the technique and how it relates to the rule. The technique ID should be the official MITRE technique ID.\n",
        "  \"\"\"\n",
        "\n",
        "\n",
        "\n",
        "  message = client.messages.create(\n",
        "      max_tokens=1024,\n",
        "      messages=[\n",
        "          {\n",
        "              \"role\": \"user\",\n",
        "              \"content\": prompt_with_example_1,\n",
        "          },\n",
        "          {\n",
        "            \"role\": \"assistant\",\n",
        "            \"content\": answer_we_expect_1,\n",
        "          },\n",
        "          {\n",
        "              \"role\": \"user\",\n",
        "              \"content\": prompt_with_example_2,\n",
        "          },\n",
        "          {\n",
        "            \"role\": \"assistant\",\n",
        "            \"content\": answer_we_expect_2,\n",
        "          },\n",
        "          {\n",
        "              \"role\": \"user\",\n",
        "              \"content\": prompt,\n",
        "          },\n",
        "      ],\n",
        "      model=\"claude-3-sonnet-20240229\",\n",
        "      temperature=0,\n",
        "  )\n",
        "\n",
        "  return message"
      ],
      "metadata": {
        "id": "U8VGDeYErsVu"
      },
      "execution_count": 52,
      "outputs": []
    },
    {
      "cell_type": "markdown",
      "source": [
        "# **Prompting with techniques guide and without example (TGWE):**\n",
        "In the next step, we will provide the LLMs with the list of all the techniques from MITRE ATT&CK, to guarantee that the models are targeted to the present techniques, even the infrequently used ones. Each technique will include the technique number, the name of the technique and its description. The techniques will be provided to the models in the form of batches (due to the memory limit of the models) and after each batch we will ask him to classify the appropriate techniques from the list he received (if exist), finally we will unite the model's answers for each individual rule.\n"
      ],
      "metadata": {
        "id": "T0dV1xXnpqrv"
      }
    },
    {
      "cell_type": "markdown",
      "source": [
        "pre colletion data for TG"
      ],
      "metadata": {
        "id": "lvrVM6wesTsF"
      }
    },
    {
      "cell_type": "code",
      "source": [
        "def recursive_enter(path: str, file_list: list = None) -> list:\n",
        "    if file_list is None:\n",
        "        file_list = []\n",
        "\n",
        "    try:\n",
        "        os.chdir(path)  # Change path\n",
        "\n",
        "        items = os.listdir()  # List everything in the directory\n",
        "        for item in items:\n",
        "            full_path = os.path.join(path, item)\n",
        "\n",
        "            if full_path.endswith(\".json\"):\n",
        "                with open(full_path) as f:\n",
        "                    file_list.append(json.load(f))\n",
        "\n",
        "    except Exception as e:\n",
        "        print(f\"An error occurred: {e}\")\n",
        "\n",
        "    return file_list\n",
        "\n",
        "tacticFolder = \"/content/Labeling_IDS_to_MITRE/Semester_A/Extract data from MITRE ATTACK/techniques_split\"\n",
        "file_list = []\n",
        "MITRE_Technique = recursive_enter(tacticFolder, file_list)\n",
        "print(len(MITRE_Technique))\n",
        "os.chdir(\"/content/\")"
      ],
      "metadata": {
        "id": "biREpVWCsXxF",
        "colab": {
          "base_uri": "https://localhost:8080/"
        },
        "outputId": "415fbc60-ebf2-4451-9a0b-9a9e04e81a7c"
      },
      "execution_count": 67,
      "outputs": [
        {
          "output_type": "stream",
          "name": "stdout",
          "text": [
            "11\n"
          ]
        }
      ]
    },
    {
      "cell_type": "code",
      "source": [
        "def TGWE(snort_rule, techniques):\n",
        "\n",
        "  prePrompt = f\"\"\"You are an information security expert. Now I will provide you information about techniques from MITRE ATT&CK, you will use the information for a task you will receive later. Do not reply to the information you receive.\"\"\"\n",
        "\n",
        "  dataPrompt = f\"The information:\\n {str(techniques)}\"\n",
        "\n",
        "  # response_data = f\"\"\"Your task is to label IDS rules for MITRE ATT&CK techniques based on the information I have provided you. For the task, you are going to get a single Snort IDS rule and you will need to return the most relevant techniques associated with the rule from the information I provided you only.\n",
        "  #  Note 1: There is not necessarily a suitable technique in the information, return a technique if and only if it has an unambiguous relationship to the provided rule, if not return an empty JSON. For each technique include the following information as JSON in this order: 'Sid', 'Technique ID', 'Technique Name', 'Quotes', 'Explanation'.\n",
        "  #  Note 2: The value of the citation field should contain quotation marks from the data sets relevant to the mapped technique are the main reason you chose this technique to be correct. The value of the explanation should be your explanation of why you decided to give the technique and how it relates to the rule. The technique ID should be the official MITRE technique ID.\n",
        "  #  Please don't write anything but the JSON. Rule: {snort_rule}\"\"\"\n",
        "\n",
        "  response_data = f\"\"\"I'm going to give you a Snort rule. Read the Snort rule carefully, because I'm going to given you a task about it. Here is the Snort rule: <snort_rule>{snort_rule}</snort_rule>\n",
        "\n",
        "  First, find the techniques from MITRE ATT&CK that are most relevant to the Snort rule.\n",
        "\n",
        "  Then, answer the task, for each technique include the following information as JSON in this order: 'Sid', 'Technique ID', 'Technique Name', 'Quotes', 'Explanation'.\n",
        "\n",
        "  Note: The value of the citation field should contain quotation marks from the data sets relevant to the mapped technique are the main reason you chose this technique to be correct. The value of the explanation should be your explanation of why you decided to give the technique and how it relates to the rule. The technique ID should be the official MITRE technique ID.\n",
        "\n",
        "\n",
        "  <examples>\n",
        "    [\n",
        "      \"sid\": \"\",\n",
        "      \"Technique ID\": \"\",\n",
        "      \"Technique name\": \"\",\n",
        "      \"Quotes\": [\"\"],\n",
        "      \"Explanation\": \"\"\n",
        "    ]\n",
        "    </examples>\n",
        "\n",
        "    Do not include anything besides write the JSON.\n",
        "    \"\"\"\n",
        "\n",
        "  tg_data_list = prePrompt + dataPrompt + response_data\n",
        "\n",
        "  message = client.messages.create(\n",
        "      max_tokens=1024,\n",
        "      messages=[\n",
        "          {\n",
        "              \"role\": \"user\",\n",
        "              \"content\": tg_data_list,\n",
        "          }\n",
        "      ],\n",
        "      model=\"claude-3-sonnet-20240229\",\n",
        "      temperature=0,\n",
        "  )\n",
        "\n",
        "  return message\n",
        "\n"
      ],
      "metadata": {
        "id": "yvrlkLN6scwN"
      },
      "execution_count": 55,
      "outputs": []
    },
    {
      "cell_type": "markdown",
      "source": [
        "# **Prompting with techniques guide and with 1 example (TG1E):**\n",
        "In the next step, we will provide the LLMs with the list of all the techniques from MITRE ATT&CK, to guarantee that the models are targeted to the present techniques, even the infrequently used ones. Each technique will include the technique number, the name of the technique and its description. The techniques will be provided to the models in the form of batches (due to the memory limit of the models) and after each batch we will ask him to classify the appropriate techniques from the list he received (if exist), finally we will unite the model's answers for each individual rule.\n",
        "\n",
        "In addition, the prompt has one example (one shot)"
      ],
      "metadata": {
        "id": "9PDyuWeDpqkn"
      }
    },
    {
      "cell_type": "code",
      "source": [
        "def TG1E(snort_rule, techniques):\n",
        "\n",
        "  prePrompt = f\"\"\"You are an information security expert. Now I will provide you information about techniques from MITRE ATT&CK, you will use the information for a task you will receive later. Do not reply to the information you receive.\"\"\"\n",
        "\n",
        "  dataPrompt = f\"The information:\\n {str(techniques)}\"\n",
        "\n",
        "  response_data = f\"\"\"Q: I'm going to give you a Snort rule. Read the Snort rule carefully, because I'm going to given you a task about it. Here is the Snort rule: <snort_rule>\"alert tcp $EXTERNAL_NET $HTTP_PORTS -> $HOME_NET any ( msg:\"\"MALWARE-CNC Win.Trojan.GateKeylogger fake 404 response\"\"; flow:to_client,established; http_stat_code; content:\"\"200\"\"; http_stat_msg; content:\"\"OK\"\"; pkt_data; content:\"\">404 Not Found<\"\",fast_pattern,nocase; content:\"\" requested URL / was not found \"\"; metadata:impact_flag red,ruleset community; service:http; T1056; classtype:trojan-activity; sid:38563; rev:4; )\"</snort_rule>\n",
        "\n",
        "  First, find the techniques from MITRE ATT&CK that are most relevant to the Snort rule.\n",
        "\n",
        "  Then, answer the task, for each technique include the following information as JSON in this order: 'Sid', 'Technique ID', 'Technique Name', 'Quotes', 'Explanation'.\n",
        "\n",
        "  Note: The value of the citation field should contain quotation marks from the data sets relevant to the mapped technique are the main reason you chose this technique to be correct. The value of the explanation should be your explanation of why you decided to give the technique and how it relates to the rule. The technique ID should be the official MITRE technique ID.\n",
        "\n",
        "\n",
        "  <examples>\n",
        "    [\n",
        "      \"sid\": \"\",\n",
        "      \"Technique ID\": \"\",\n",
        "      \"Technique name\": \"\",\n",
        "      \"Quotes\": [\"\"],\n",
        "      \"Explanation\": \"\"\n",
        "    ]\n",
        "    </examples>\n",
        "\n",
        "    Do not include anything besides write the JSON.\n",
        "    \"\"\"\n",
        "\n",
        "  tg_data_list = prePrompt + dataPrompt + response_data\n",
        "\n",
        "\n",
        "  answer_we_expect = f\"\"\"\n",
        "    [\n",
        "        \"sid\": \"38563\",\n",
        "        \"Technique ID\": \"T1056\",\n",
        "        \"Technique name\": \"Input Capture\",\n",
        "        \"Quotes\": \"\\\"Input Capture techniques involve intercepting and capturing user input data, such as keystrokes, to obtain sensitive information. The rule indicates the presence of a Trojan (GateKeylogger) that mimics a '404 Not Found' error to disguise its communication with a command and control server, which is a common method used by keyloggers to stealthily capture input data.\\\"\",\n",
        "        \"Explanation\": \"This event is generated when activity relating to malware is detected.\"\n",
        "    ]\n",
        "\n",
        "  \"\"\"\n",
        "\n",
        "  prompt = f\"\"\"\n",
        "  I'm going to give you a Snort rule. Read the Snort rule carefully, because I'm going to given you a task about it. Here is the Snort rule: <snort_rule>{snort_rule}</snort_rule>\n",
        "\n",
        "  First, find the techniques from MITRE ATT&CK that are most relevant to the Snort rule.\n",
        "\n",
        "  Then, answer the task, for each technique include the following information as JSON in this order: 'Sid', 'Technique ID', 'Technique Name', 'Quotes', 'Explanation'.\n",
        "\n",
        "  Note: The value of the citation field should contain quotation marks from the data sets relevant to the mapped technique are the main reason you chose this technique to be correct. The value of the explanation should be your explanation of why you decided to give the technique and how it relates to the rule. The technique ID should be the official MITRE technique ID.\n",
        "\n",
        "\n",
        "  <examples>\n",
        "    [\n",
        "      \"sid\": \"\",\n",
        "      \"Technique ID\": \"\",\n",
        "      \"Technique name\": \"\",\n",
        "      \"Quotes\": [\"\"],\n",
        "      \"Explanation\": \"\"\n",
        "    ]\n",
        "    </examples>\n",
        "\n",
        "    Do not include anything besides write the JSON.\n",
        "    \"\"\"\n",
        "  tg_data_list_prompt = prePrompt + dataPrompt + prompt\n",
        "\n",
        "  message = client.messages.create(\n",
        "      max_tokens=1024,\n",
        "      messages=[\n",
        "          {\n",
        "              \"role\": \"user\",\n",
        "              \"content\": tg_data_list,\n",
        "          },\n",
        "          {\n",
        "            \"role\": \"assistant\",\n",
        "            \"content\": answer_we_expect,\n",
        "          },\n",
        "          {\n",
        "              \"role\": \"user\",\n",
        "              \"content\": tg_data_list_prompt,\n",
        "          },\n",
        "      ],\n",
        "      model=\"claude-3-sonnet-20240229\",\n",
        "      temperature=0,\n",
        "  )\n",
        "\n",
        "  return message\n"
      ],
      "metadata": {
        "id": "owtWxmWAsxsl"
      },
      "execution_count": null,
      "outputs": []
    },
    {
      "cell_type": "markdown",
      "source": [
        "# **Prompting with techniques guide and with 2 example (TG2E):**\n",
        "In the next step, we will provide the LLMs with the list of all the techniques from MITRE ATT&CK, to guarantee that the models are targeted to the present techniques, even the infrequently used ones. Each technique will include the technique number, the name of the technique and its description. The techniques will be provided to the models in the form of batches (due to the memory limit of the models) and after each batch we will ask him to classify the appropriate techniques from the list he received (if exist), finally we will unite the model's answers for each individual rule.\n",
        "\n",
        "In addition, the prompt has two example (two shot)"
      ],
      "metadata": {
        "id": "7aOvvGzApqUQ"
      }
    },
    {
      "cell_type": "code",
      "source": [
        "def TG2E(snort_rule, techniques):\n",
        "\n",
        "  prePrompt = f\"\"\"You are an information security expert. Now I will provide you information about techniques from MITRE ATT&CK, you will use the information for a task you will receive later. Do not reply to the information you receive.\"\"\"\n",
        "\n",
        "  dataPrompt = f\"The information:\\n {str(techniques)}\"\n",
        "\n",
        "  response_data = f\"\"\"Q: I'm going to give you a Snort rule. Read the Snort rule carefully, because I'm going to given you a task about it. Here is the Snort rule: <snort_rule>\"alert tcp $EXTERNAL_NET $HTTP_PORTS -> $HOME_NET any ( msg:\"\"MALWARE-CNC Win.Trojan.GateKeylogger fake 404 response\"\"; flow:to_client,established; http_stat_code; content:\"\"200\"\"; http_stat_msg; content:\"\"OK\"\"; pkt_data; content:\"\">404 Not Found<\"\",fast_pattern,nocase; content:\"\" requested URL / was not found \"\"; metadata:impact_flag red,ruleset community; service:http; T1056; classtype:trojan-activity; sid:38563; rev:4; )\"</snort_rule>\n",
        "\n",
        "  First, find the techniques from MITRE ATT&CK that are most relevant to the Snort rule.\n",
        "\n",
        "  Then, answer the task, for each technique include the following information as JSON in this order: 'Sid', 'Technique ID', 'Technique Name', 'Quotes', 'Explanation'.\n",
        "\n",
        "  Note: The value of the citation field should contain quotation marks from the data sets relevant to the mapped technique are the main reason you chose this technique to be correct. The value of the explanation should be your explanation of why you decided to give the technique and how it relates to the rule. The technique ID should be the official MITRE technique ID.\n",
        "\n",
        "\n",
        "  <examples>\n",
        "    [\n",
        "      \"sid\": \"\",\n",
        "      \"Technique ID\": \"\",\n",
        "      \"Technique name\": \"\",\n",
        "      \"Quotes\": [\"\"],\n",
        "      \"Explanation\": \"\"\n",
        "    ]\n",
        "    </examples>\n",
        "\n",
        "    Do not include anything besides write the JSON.\n",
        "    \"\"\"\n",
        "\n",
        "  tg_data_list = prePrompt + dataPrompt + response_data\n",
        "\n",
        "\n",
        "  answer_we_expect_1 = f\"\"\"\n",
        "    [\n",
        "        \"sid\": \"38563\",\n",
        "        \"Technique ID\": \"T1056\",\n",
        "        \"Technique name\": \"Input Capture\",\n",
        "        \"Quotes\": \"\\\"Input Capture techniques involve intercepting and capturing user input data, such as keystrokes, to obtain sensitive information. The rule indicates the presence of a Trojan (GateKeylogger) that mimics a '404 Not Found' error to disguise its communication with a command and control server, which is a common method used by keyloggers to stealthily capture input data.\\\"\",\n",
        "        \"Explanation\": \"This event is generated when activity relating to malware is detected.\"\n",
        "    ]\n",
        "  \"\"\"\n",
        "\n",
        "  prompt_with_example_2 = f\"\"\"Q: I'm going to give you a Snort rule. Read the Snort rule carefully, because I'm going to given you a task about it. Here is the Snort rule: <snort_rule>\"alert tcp $EXTERNAL_NET $HTTP_PORTS -> $HOME_NET any ( msg:\"\"MALWARE-CNC Win.Trojan.GateKeylogger fake 404 response\"\"; flow:to_client,established; http_stat_code; content:\"\"200\"\"; http_stat_msg; content:\"\"OK\"\"; pkt_data; content:\"\">404 Not Found<\"\",fast_pattern,nocase; content:\"\" requested URL / was not found \"\"; metadata:impact_flag red,ruleset community; service:http; T1056; classtype:trojan-activity; sid:38563; rev:4; )\"</snort_rule>\n",
        "\n",
        "  First, find the techniques from MITRE ATT&CK that are most relevant to the Snort rule.\n",
        "\n",
        "  Then, answer the task, for each technique include the following information as JSON in this order: 'Sid', 'Technique ID', 'Technique Name', 'Quotes', 'Explanation'.\n",
        "\n",
        "  Note: The value of the citation field should contain quotation marks from the data sets relevant to the mapped technique are the main reason you chose this technique to be correct. The value of the explanation should be your explanation of why you decided to give the technique and how it relates to the rule. The technique ID should be the official MITRE technique ID.\n",
        "\n",
        "\n",
        "  <examples>\n",
        "    [\n",
        "      \"sid\": \"\",\n",
        "      \"Technique ID\": \"\",\n",
        "      \"Technique name\": \"\",\n",
        "      \"Quotes\": [\"\"],\n",
        "      \"Explanation\": \"\"\n",
        "    ]\n",
        "    </examples>\n",
        "\n",
        "    Do not include anything besides write the JSON.\n",
        "    \"\"\"\n",
        "\n",
        "  tg_data_list2 = prePrompt + dataPrompt + prompt_with_example_2\n",
        "\n",
        "  answer_we_expect_2 = f\"\"\"\n",
        "    [\n",
        "      \"sid\": \"23934\",\n",
        "      \"Technique ID\": \"T1190\",\n",
        "      \"Technique name\": \"Exploit Public-Facing Application\",\n",
        "      \"Quotes\": \"\\\"Exploit Public-Facing Application techniques involve targeting vulnerabilities in externally facing applications to gain unauthorized access or execute arbitrary code. This rule detects an attempted blind SQL injection attack on the Symantec Web Gateway's 'blocked.php' page, which is a common method attackers use to exploit web applications by manipulating SQL queries.\\\"\",\n",
        "      \"Explanation\": \"SQL injection vulnerability in the management console in Symantec Web Gateway 5.0.x before 5.0.3.18 allows remote attackers to execute arbitrary SQL commands via unspecified vectors, related to a \"blind SQL injection\" issue.\"\n",
        "    ]\n",
        "  \"\"\"\n",
        "\n",
        "  prompt = f\"\"\"\n",
        "  I'm going to give you a Snort rule. Read the Snort rule carefully, because I'm going to given you a task about it. Here is the Snort rule: <snort_rule>{snort_rule}</snort_rule>\n",
        "\n",
        "  First, find the techniques from MITRE ATT&CK that are most relevant to the Snort rule.\n",
        "\n",
        "  Then, answer the task, for each technique include the following information as JSON in this order: 'Sid', 'Technique ID', 'Technique Name', 'Quotes', 'Explanation'.\n",
        "\n",
        "  Note: The value of the citation field should contain quotation marks from the data sets relevant to the mapped technique are the main reason you chose this technique to be correct. The value of the explanation should be your explanation of why you decided to give the technique and how it relates to the rule. The technique ID should be the official MITRE technique ID.\n",
        "  \"\"\"\n",
        "\n",
        "  tg_data_list_prompt = prePrompt + dataPrompt + prompt\n",
        "\n",
        "  message = client.messages.create(\n",
        "      max_tokens=1024,\n",
        "      messages=[\n",
        "          {\n",
        "              \"role\": \"user\",\n",
        "              \"content\": tg_data_list,\n",
        "          },\n",
        "          {\n",
        "            \"role\": \"assistant\",\n",
        "            \"content\": answer_we_expect_1,\n",
        "          },\n",
        "          {\n",
        "              \"role\": \"user\",\n",
        "              \"content\": tg_data_list2,\n",
        "          },\n",
        "          {\n",
        "            \"role\": \"assistant\",\n",
        "            \"content\": answer_we_expect_2,\n",
        "          },\n",
        "          {\n",
        "              \"role\": \"user\",\n",
        "              \"content\": tg_data_list_prompt,\n",
        "          },\n",
        "      ],\n",
        "      model=\"claude-3-sonnet-20240229\",\n",
        "      temperature=0,\n",
        "  )\n",
        "\n",
        "  return message"
      ],
      "metadata": {
        "id": "If-C7bUptAQd"
      },
      "execution_count": 75,
      "outputs": []
    },
    {
      "cell_type": "markdown",
      "source": [
        "# Write to csv"
      ],
      "metadata": {
        "id": "QqzXpySOtBFs"
      }
    },
    {
      "cell_type": "markdown",
      "source": [
        "Write Zero Shot"
      ],
      "metadata": {
        "id": "vHnw97ACdI75"
      }
    },
    {
      "cell_type": "code",
      "source": [
        "def write_csv_ZS(filename, rule_dict):\n",
        "  # Define the field names\n",
        "  field_names = [\"Technique_id\", \"True_labels\"]\n",
        "\n",
        "  # Open the CSV file in write mode (truncating any existing content)\n",
        "  with open(filename, \"w\", newline=\"\") as csvfile: # \"prompting_without_techniques_guide.csv\"\n",
        "      # Create a DictWriter object with the specified field names\n",
        "      writer = csv.DictWriter(csvfile, fieldnames=field_names)\n",
        "\n",
        "      # Write the header row\n",
        "      writer.writeheader()\n",
        "\n",
        "      # Extract relevant data from each item and write it as a dictionary\n",
        "      counter = 0\n",
        "      for key, value in rule_dict.items():\n",
        "        text = clean_response(value)\n",
        "        technique_ids = []\n",
        "        print(text)\n",
        "\n",
        "        if \"'Sid\" in text:\n",
        "          # Define a regex pattern to switch single quotes to double quotes\n",
        "          pattern = re.compile(r\"((^|\\s)'((?:[^'\\\\]|\\\\.)*)'(?=[\\s.,:;!?)]))|(:\\s*'((?:[^'\\\\]|\\\\.)+)')\")\n",
        "          # Switch single quotes to double quotes\n",
        "          text = pattern.sub(lambda x: x.group().replace(\"'\", '\"'), text)\n",
        "\n",
        "          pattern = re.compile(r'\"\\S+\"[\\s\\.]|\\s\"[\\w\\s]*\"\\s')\n",
        "          text = re.sub(pattern, \"\", text)\n",
        "\n",
        "        # Extracting \"TXXXX\" numbers using regular expression\n",
        "        technique_ids = re.findall(r'[\\'\\\"](T\\d+(?:\\.\\d+)?)', text)\n",
        "\n",
        "        # Extracting \"Sid\"\n",
        "        match = re.search(r'[\\'\\\"][sS]id[\\'\\\"]:\\s*([\\'\\\"]?\\d+[\\'\\\"]?)', text)\n",
        "        if match:\n",
        "            sid_number = match.group(1)\n",
        "\n",
        "\n",
        "        # Assuming each item has all necessary fields:\n",
        "        insertRow = {\n",
        "            \"Technique_id\": technique_ids,  # Handle potential absence\n",
        "            \"True_labels\": true_labels[counter],\n",
        "        }\n",
        "        writer.writerow(insertRow)\n",
        "        counter += 1\n"
      ],
      "metadata": {
        "id": "e4vK60PodJYx"
      },
      "execution_count": null,
      "outputs": []
    },
    {
      "cell_type": "markdown",
      "source": [
        "Write without techniques guide"
      ],
      "metadata": {
        "id": "aVCTBCt4wktp"
      }
    },
    {
      "cell_type": "code",
      "source": [
        "def write_csv_WTG(filename, rule_dict):\n",
        "  # Define the field names\n",
        "  field_names = [\"Sid\", \"Response\", \"Technique_id\", \"True_labels\"]\n",
        "\n",
        "  # Open the CSV file in write mode (truncating any existing content)\n",
        "  with open(filename, \"w\", newline=\"\") as csvfile: # \"prompting_without_techniques_guide.csv\"\n",
        "      # Create a DictWriter object with the specified field names\n",
        "      writer = csv.DictWriter(csvfile, fieldnames=field_names)\n",
        "\n",
        "      # Write the header row\n",
        "      writer.writeheader()\n",
        "\n",
        "      # Extract relevant data from each item and write it as a dictionary\n",
        "      counter = 0\n",
        "      for key, value in rule_dict.items():\n",
        "        text = clean_response(value)\n",
        "        technique_ids = []\n",
        "        #print(text)\n",
        "\n",
        "        if \"'Sid\" in text:\n",
        "          # Define a regex pattern to switch single quotes to double quotes\n",
        "          pattern = re.compile(r\"((^|\\s)'((?:[^'\\\\]|\\\\.)*)'(?=[\\s.,:;!?)]))|(:\\s*'((?:[^'\\\\]|\\\\.)+)')\")\n",
        "          # Switch single quotes to double quotes\n",
        "          text = pattern.sub(lambda x: x.group().replace(\"'\", '\"'), text)\n",
        "\n",
        "          pattern = re.compile(r'\"\\S+\"[\\s\\.]|\\s\"[\\w\\s]*\"\\s')\n",
        "          text = re.sub(pattern, \"\", text)\n",
        "\n",
        "        # Extracting \"TXXXX\" numbers using regular expression\n",
        "        technique_ids = re.findall(r'[\\'\\\"](T\\d+(?:\\.\\d+)?)', text)\n",
        "\n",
        "        # Extracting \"Sid\"\n",
        "        match = re.search(r'[\\'\\\"][sS]id[\\'\\\"]:\\s*([\\'\\\"]?\\d+[\\'\\\"]?)', text)\n",
        "        if match:\n",
        "            sid_number = match.group(1)\n",
        "\n",
        "\n",
        "        # Assuming each item has all necessary fields:\n",
        "        insertRow = {\n",
        "            \"Sid\": sid_number,\n",
        "            \"Response\": text,\n",
        "            \"Technique_id\": technique_ids,  # Handle potential absence\n",
        "            \"True_labels\": true_labels[counter],\n",
        "        }\n",
        "        writer.writerow(insertRow)\n",
        "        counter += 1\n"
      ],
      "metadata": {
        "id": "8O333P2lagRU"
      },
      "execution_count": 48,
      "outputs": []
    },
    {
      "cell_type": "markdown",
      "source": [
        "Write with techniques guide"
      ],
      "metadata": {
        "id": "C2pGJjEHwqWA"
      }
    },
    {
      "cell_type": "code",
      "source": [
        "import csv\n",
        "import re\n",
        "\n",
        "headersCSV_TG = [\"Sid\", \"Response\", \"Technique_id\", \"True_labels\"]\n",
        "\n",
        "def init_file(fileName):\n",
        "  # Initial write to csv with header\n",
        "  with open(fileName, 'w', newline='') as csvfile: # 'prompting_with_techniques_guide.csv'\n",
        "      writer = csv.DictWriter(csvfile, fieldnames=headersCSV_TG)\n",
        "      writer.writeheader()\n",
        "\n",
        "def appendToCSV(rows_data, counter, fileName) -> None:\n",
        "    '''\n",
        "    rows_data -> {213: [<IPython.core.display.Markdown object>, <IPython.core.display.Markdown object>, ...]}\n",
        "    '''\n",
        "    # Open the CSV file in append mode to add new rows\n",
        "    with open(fileName, 'a', newline='') as csvfile:\n",
        "        writer = csv.DictWriter(csvfile, fieldnames=headersCSV_TG)\n",
        "\n",
        "        # Loop through each row and write data\n",
        "        for row, value in rows_data.items():\n",
        "            technique_ids = []\n",
        "            response_text = \"\"\n",
        "            for i in value:\n",
        "                text = clean_response(i)\n",
        "                response_text += text\n",
        "                #print(text)\n",
        "\n",
        "                try:\n",
        "                    # Extracting \"TXXXX\" numbers using regular expression\n",
        "                    technique_ids.extend(re.findall(r': [\\'\\\"](T\\d+(?:\\.\\d+)?)', text))\n",
        "                except Exception as e:\n",
        "                    print(f\"Error extracting technique IDs: {e}\")\n",
        "\n",
        "            insertRow = {\n",
        "                \"Sid\": row,\n",
        "                \"Response\": response_text,\n",
        "                \"Technique_id\": technique_ids,\n",
        "                \"True_labels\": true_labels[counter]\n",
        "            }\n",
        "\n",
        "            # Write the row to the CSV file\n",
        "            writer.writerow(insertRow)\n"
      ],
      "metadata": {
        "id": "fsUbfkVjhPqn"
      },
      "execution_count": 56,
      "outputs": []
    },
    {
      "cell_type": "markdown",
      "source": [
        "# WTG - Generic"
      ],
      "metadata": {
        "id": "Au3iaHvfg2_g"
      }
    },
    {
      "cell_type": "code",
      "source": [
        "def WTG(functionName, rules_list):\n",
        "  rule_dict = {}\n",
        "  max_retries = 3  # Maximum number of retries\n",
        "\n",
        "  for index, rule in enumerate(rules_list[10:20]):\n",
        "      retries = 0\n",
        "      print(f\"------------------{index}-----------------------\")\n",
        "      print(rule)\n",
        "      while retries < max_retries:\n",
        "          try:\n",
        "              res = functionName(rule)\n",
        "              text = str(res.content)\n",
        "              # Check if the text contains the desired pattern\n",
        "              t_numbers = re.findall(r'[\\'\\\"](T\\d+(?:\\.\\d+)?)', text)\n",
        "              if t_numbers:  # If the pattern is found\n",
        "                  rule_dict[data['Sid'][index]] = to_markdown(text)\n",
        "                  break  # Break out of the retry loop if successful\n",
        "              else:\n",
        "                  print(\"Desired pattern not found in the text. Retrying...\")\n",
        "                  retries += 1\n",
        "                  time.sleep(1)  # Wait for a short duration before retrying\n",
        "\n",
        "              time.sleep(15) # remove after we have money :)\n",
        "          except Exception as e:\n",
        "              print(f\"An error occurred: {e}\")\n",
        "              retries += 1\n",
        "              if retries < max_retries:\n",
        "                  print(f\"Retrying... ({retries}/{max_retries})\")\n",
        "                  time.sleep(1)  # Wait for a short duration before retrying\n",
        "              else:\n",
        "                  print(\"Max retries reached. Unable to process this rule.\")\n",
        "\n",
        "  # If sending fails, attempt to send again\n",
        "  try:\n",
        "      # Code to send data\n",
        "      pass\n",
        "  except Exception as e:\n",
        "      print(f\"Sending failed: {e}\")\n",
        "      # Retry sending here\n",
        "\n",
        "  return rule_dict\n"
      ],
      "metadata": {
        "id": "g3PW59B_oaqu",
        "collapsed": true
      },
      "execution_count": 47,
      "outputs": []
    },
    {
      "cell_type": "markdown",
      "source": [
        "# TG - Generic"
      ],
      "metadata": {
        "id": "zVkzHkKEysVX"
      }
    },
    {
      "cell_type": "code",
      "source": [
        "def tg_split_data(functionName, rules_list_index, index, fileName):\n",
        "\n",
        "  for rule in rules_list_index:\n",
        "    print(f\"index {index} \\t Sid: {data['Sid'][index]}\")\n",
        "\n",
        "    tg_dict = {}\n",
        "    count = 0 #####\n",
        "    for batch in MITRE_Technique[:1]: # 11 files\n",
        "      res = functionName(rule, batch)\n",
        "      sid = data['Sid'][index]\n",
        "      if sid not in tg_dict:\n",
        "        tg_dict[sid] = []\n",
        "        tg_dict[sid].append(to_markdown(str(res.content)))\n",
        "      else:\n",
        "        tg_dict[sid].append(to_markdown(str(res.content)))\n",
        "      print(f\"~~~~~~~~~~~~~~~~~~~~~~~~~~~~~~~~~{count}~~~~~~~~~~~~~~~~~~~~~~~~~~~~~~~~~~~~~~\") #####\n",
        "      print(to_markdown(str(res.content)))\n",
        "      count += 1 #######\n",
        "      time.sleep(15)\n",
        "\n",
        "    # Write to csv\n",
        "    appendToCSV(tg_dict, index, fileName)\n",
        "    index += 1\n",
        "\n"
      ],
      "metadata": {
        "id": "WcvPIziJhRkA"
      },
      "execution_count": 69,
      "outputs": []
    },
    {
      "cell_type": "markdown",
      "source": [
        "# Run Experiments"
      ],
      "metadata": {
        "id": "-HzQQDPKTX32"
      }
    },
    {
      "cell_type": "markdown",
      "source": [
        "without data"
      ],
      "metadata": {
        "id": "13rT0dwxTr2-"
      }
    },
    {
      "cell_type": "code",
      "source": [
        "# #  Without Example Without Techniuqes Guide\n",
        "# rule_dict_ZS = WTG(ZS, rules_list)\n",
        "# write_csv_ZS(\"zero_shot.csv\", rule_dict_ZS)\n",
        "\n",
        "\n",
        "#  # Without Example Without Techniuqes Guide\n",
        "# rule_dict_WTG = WTG(WTGWE, rules_list)\n",
        "# write_csv_WTG(\"prompting_without_techniques_guide_zero_shot.csv\", rule_dict_WTG)\n",
        "\n",
        "\n",
        "#  # With 1 Example Without Techniuqes Guide\n",
        "# rule_dict_WTG1E = WTG(WTG1E, rules_list)\n",
        "# write_csv_WTG(\"prompting_without_techniques_guide_one_shot.csv\", rule_dict_WTG1E)\n",
        "\n",
        "\n",
        " # With 2 Example Without Techniuqes Guide\n",
        "rule_dict_WTG2E = WTG(WTG2E, rules_list)\n",
        "write_csv_WTG(\"prompting_without_techniques_guide_two_shot.csv\", rule_dict_WTG2E)"
      ],
      "metadata": {
        "id": "3Nq8HFLITwpN",
        "colab": {
          "base_uri": "https://localhost:8080/"
        },
        "collapsed": true,
        "outputId": "232e2803-e665-4013-97f5-86b2092509ea"
      },
      "execution_count": 53,
      "outputs": [
        {
          "output_type": "stream",
          "name": "stdout",
          "text": [
            "------------------0-----------------------\n",
            "alert tcp $EXTERNAL_NET any -> $HOME_NET $HTTP_PORTS ( msg:\"MALWARE-CNC Win.Backdoor.Chopper web shell connection\"; flow:to_server,established; http_client_body; content:\"=@eval(base64_decode($_POST\",fast_pattern,nocase; metadata:impact_flag red,policy balanced-ips drop,policy max-detect-ips drop,policy security-ips drop,ruleset community; service:http; T1001; T1100; T1132; classtype:trojan-activity; sid:37245; rev:4; )\n",
            "------------------1-----------------------\n",
            "alert tcp $EXTERNAL_NET $HTTP_PORTS -> $HOME_NET any ( msg:\"MALWARE-CNC Rat.Tool.CSBundleUSATodayServer variant inbound command attempt\"; flow:to_client,established; http_header; content:\"X-Timer: S1593010188.776402,VS0,VE1\",fast_pattern,nocase; content:\"Content-Type: application/json|5C 3B| charset=utf-8\"; content:\"Strict-Transport-Security: max-age=10890000\"; content:\"Cache-Control: public, immutable, max-age=315360000\"; content:\"X-Cache: HIT, HIT\"; content:\"Vary: X-AbVariant, X-AltUrl, Accept-Encoding\"; metadata:impact_flag red,policy balanced-ips drop,policy max-detect-ips drop,policy security-ips drop,ruleset community; service:http; classtype:trojan-activity; sid:56606; rev:1; )\n",
            "------------------2-----------------------\n",
            "alert tcp $EXTERNAL_NET any -> $HOME_NET $HTTP_PORTS ( msg:\"MALWARE-BACKDOOR Cobalt Strike beacon connection attempt\"; flow:to_server,established; http_header; content:\"client-=\",fast_pattern,nocase; content:\"Accept-Encoding|3A| gzip, deflate, br\"; content:\"|5C 3B|auth=1|7D|\"; http_uri; pcre:\"/^\\/v1\\/(queue|profile|docs\\/wsdl|pull)/i\"; metadata:impact_flag red,policy max-detect-ips drop,policy security-ips drop,ruleset community; service:http; classtype:trojan-activity; sid:56614; rev:1; )\n",
            "------------------3-----------------------\n",
            "alert tcp $HOME_NET any -> $EXTERNAL_NET 25 ( msg:\"MALWARE-OTHER Keylogger mg-shadow 2.0 runtime detection\"; flow:to_server,established; content:\"X-Mailer|3A|\",nocase; content:\"Mailer\",distance 0,nocase; pcre:\"/^X-Mailer\\x3a[^\\r\\n]*Mailer/ims\"; content:\"+++ MG-Shadow 2.0\",fast_pattern,nocase; metadata:policy max-detect-ips drop; service:smtp; classtype:successful-recon-limited; sid:12372; rev:8; )\n",
            "------------------4-----------------------\n",
            "alert tcp $HOME_NET $HTTP_PORTS -> $EXTERNAL_NET any ( msg:\"MALWARE-OTHER Php.Webshell.CWShell outbound connection attempt\"; flow:to_client,established; file_data; content:\"<b>uname -a:\",fast_pattern,nocase; content:\"<b>Server Name:\",nocase; metadata:impact_flag red,policy balanced-ips drop,policy max-detect-ips drop,policy security-ips drop; service:http; classtype:trojan-activity; sid:59348; rev:1; )\n",
            "------------------5-----------------------\n",
            "alert tcp $EXTERNAL_NET any -> $HOME_NET 9090 ( msg:\"SERVER-WEBAPP WebNMS framework server credential disclosure attempt\"; flow:to_server,established; http_uri; content:\"/servlets/FetchFile\",fast_pattern,nocase; content:\"fileName=\",nocase; content:\"conf/securitydbData.xml\",nocase; metadata:policy max-detect-ips drop; service:http; classtype:attempted-admin; sid:39642; rev:3; )\n",
            "------------------6-----------------------\n",
            "alert tcp $HOME_NET any -> $EXTERNAL_NET $HTTP_PORTS ( msg:\"MALWARE-CNC Win.Keylogger.AgentTesla variant outbound connection\"; flow:to_server,established; http_uri; content:\"/post.php\",fast_pattern,nocase; http_client_body; content:\"type=\",nocase; content:\"hwid=\",nocase; content:\"pcname=\",nocase; content:\"username=\",nocase; content:\"password=\",nocase; metadata:impact_flag red; service:http; classtype:trojan-activity; sid:40238; rev:3; )\n",
            "------------------7-----------------------\n",
            "alert tcp $HOME_NET any -> $EXTERNAL_NET 100 ( msg:\"MALWARE-OTHER Win.Keylogger.Vacky system information disclosure\"; flow:to_server,established; content:\"|00 00 00 00 00 00 00|\",depth 7,offset 1; content:\"|AA AA AA AA|\",within 4,distance 4,fast_pattern; isdataat:15; isdataat:!16; metadata:impact_flag red,policy max-detect-ips drop,policy security-ips drop; classtype:trojan-activity; sid:29918; rev:4; )\n",
            "------------------8-----------------------\n",
            "alert tcp $HOME_NET any -> $EXTERNAL_NET 25 ( msg:\"MALWARE-OTHER Keylogger active Keylogger 3.9.2 runtime detection\"; flow:to_server,established; content:\"Attached\",nocase; content:\"|28|ZIP\",distance 0,nocase; content:\"file|29|\",distance 0,nocase; content:\"to\",distance 0,nocase; content:\"this\",distance 0,nocase; content:\"email\",distance 0,nocase; content:\"are\",distance 0,nocase; content:\"the\",distance 0,nocase; content:\"activity\",distance 0,nocase; content:\"logs\",distance 0,nocase; content:\"that\",distance 0,nocase; content:\"you\",distance 0,nocase; content:\"have\",distance 0,nocase; content:\"requested.\",distance 0,nocase; pcre:\"/Attached\\s+\\x28ZIP\\s+file\\x29\\s+to\\s+this\\s+email\\s+are\\s+the\\s+activity\\s+logs\\s+that\\s+you\\s+have\\s+requested\\x2E/ims\"; flowbits:set,ActiveKeylogger392_detection; flowbits:noalert; metadata:policy max-detect-ips alert; service:smtp; classtype:successful-recon-limited; sid:13236; rev:7; )\n",
            "------------------9-----------------------\n",
            "alert ip $HOME_NET any -> $EXTERNAL_NET any ( msg:\"INDICATOR-COMPROMISE Microsoft cmd.exe outbound shell attempt\"; content:\"Microsoft Windows XP [Version\",depth 29; metadata:policy max-detect-ips drop; classtype:attempted-user; sid:47399; rev:2; )\n"
          ]
        }
      ]
    },
    {
      "cell_type": "markdown",
      "source": [
        "with data"
      ],
      "metadata": {
        "id": "cTiGJm4eTtv1"
      }
    },
    {
      "cell_type": "code",
      "source": [
        "#  # Without Example With Techniuqes Guide\n",
        "# fileName = 'prompting_with_techniques_guide_zero_shot.csv'\n",
        "# init_file(fileName)\n",
        "\n",
        "# rule_dict_TGWE_01 = rules_list[:100] # index 0-99\n",
        "# tg_split_data(TGWE, rule_dict_TGWE_01, 0, fileName)\n",
        "\n",
        "# rule_dict_TGWE_02 = rules_list[100:200] # index 100-199\n",
        "# tg_split_data(TGWE, rule_dict_TGWE_02, 100, fileName)\n",
        "\n",
        "# rule_dict_TGWE_03 = rules_list[200:] # index 200-299\n",
        "# tg_split_data(TGWE, rule_dict_TGWE_03, 200, fileName)\n",
        "\n",
        "\n",
        "\n",
        "#   # With 1 Example With Techniuqes Guide\n",
        "#fileName = 'prompting_with_techniques_guide_one_shot.csv'\n",
        "# init_file(fileName)\n",
        "\n",
        "# rule_dict_TG1E_01 = rules_list[:100] # index 0-99\n",
        "# tg_split_data(TG1E, rule_dict_TG1E_01, 0, fileName)\n",
        "\n",
        "# rule_dict_TG1E_02 = rules_list[100:200] # index 100-199\n",
        "# tg_split_data(TG1E, rule_dict_TG1E_02, 100, fileName)\n",
        "\n",
        "# rule_dict_TG1E_03 = rules_list[200:] # index 200-299\n",
        "# tg_split_data(TG1E, rule_dict_TG1E_03, 200, fileName)\n",
        "\n",
        "\n",
        "\n",
        " # With 2 Example With Techniuqes Guide\n",
        "fileName = 'prompting_with_techniques_guide_two_shot.csv'\n",
        "init_file(fileName)\n",
        "\n",
        "rule_dict_TG2E_01 = rules_list[10:20] # index 0-99\n",
        "tg_split_data(TG2E, rule_dict_TG2E_01, 10, fileName)\n",
        "\n",
        "# rule_dict_TG2E_02 = rules_list[100:200] # index 100-199\n",
        "# tg_split_data(TG2E, rule_dict_TG2E_02, 100, fileName)\n",
        "\n",
        "# rule_dict_TG2E_03 = rules_list[200:] # index 200-299\n",
        "# tg_split_data(TG2E, rule_dict_TG2E_03, 200, fileName)\n",
        "\n",
        "\n",
        "\n",
        "\n",
        "\n",
        "\n",
        "# rule_dict_WTG = rules_list[:5] # index 0-1\n",
        "# #rules_list2 = rules_list[2:4] # index 2-3\n",
        "\n",
        "\n",
        "# tg_split_data(TGWE, rules_list_index, index, fileName)\n",
        "\n",
        "\n",
        "# tg_split_data(TGWE, rules_list1, 0)\n",
        "# # tg_split_data(rules_list2, 2)"
      ],
      "metadata": {
        "id": "0pKRMVH_hUpQ",
        "colab": {
          "base_uri": "https://localhost:8080/"
        },
        "outputId": "858eb26d-b46b-4685-f1b2-a37f0a71c493",
        "collapsed": true
      },
      "execution_count": 76,
      "outputs": [
        {
          "output_type": "stream",
          "name": "stdout",
          "text": [
            "index 10 \t Sid: 37245\n",
            "~~~~~~~~~~~~~~~~~~~~~~~~~~~~~~~~~0~~~~~~~~~~~~~~~~~~~~~~~~~~~~~~~~~~~~~~\n",
            "<IPython.core.display.Markdown object>\n",
            "index 11 \t Sid: 56606\n",
            "~~~~~~~~~~~~~~~~~~~~~~~~~~~~~~~~~0~~~~~~~~~~~~~~~~~~~~~~~~~~~~~~~~~~~~~~\n",
            "<IPython.core.display.Markdown object>\n",
            "index 12 \t Sid: 56614\n",
            "~~~~~~~~~~~~~~~~~~~~~~~~~~~~~~~~~0~~~~~~~~~~~~~~~~~~~~~~~~~~~~~~~~~~~~~~\n",
            "<IPython.core.display.Markdown object>\n",
            "index 13 \t Sid: 12372\n",
            "~~~~~~~~~~~~~~~~~~~~~~~~~~~~~~~~~0~~~~~~~~~~~~~~~~~~~~~~~~~~~~~~~~~~~~~~\n",
            "<IPython.core.display.Markdown object>\n",
            "index 14 \t Sid: 59348\n",
            "~~~~~~~~~~~~~~~~~~~~~~~~~~~~~~~~~0~~~~~~~~~~~~~~~~~~~~~~~~~~~~~~~~~~~~~~\n",
            "<IPython.core.display.Markdown object>\n",
            "index 15 \t Sid: 39642\n",
            "~~~~~~~~~~~~~~~~~~~~~~~~~~~~~~~~~0~~~~~~~~~~~~~~~~~~~~~~~~~~~~~~~~~~~~~~\n",
            "<IPython.core.display.Markdown object>\n",
            "index 16 \t Sid: 40238\n",
            "~~~~~~~~~~~~~~~~~~~~~~~~~~~~~~~~~0~~~~~~~~~~~~~~~~~~~~~~~~~~~~~~~~~~~~~~\n",
            "<IPython.core.display.Markdown object>\n",
            "index 17 \t Sid: 29918\n",
            "~~~~~~~~~~~~~~~~~~~~~~~~~~~~~~~~~0~~~~~~~~~~~~~~~~~~~~~~~~~~~~~~~~~~~~~~\n",
            "<IPython.core.display.Markdown object>\n",
            "index 18 \t Sid: 13236\n",
            "~~~~~~~~~~~~~~~~~~~~~~~~~~~~~~~~~0~~~~~~~~~~~~~~~~~~~~~~~~~~~~~~~~~~~~~~\n",
            "<IPython.core.display.Markdown object>\n",
            "index 19 \t Sid: 47399\n",
            "~~~~~~~~~~~~~~~~~~~~~~~~~~~~~~~~~0~~~~~~~~~~~~~~~~~~~~~~~~~~~~~~~~~~~~~~\n",
            "<IPython.core.display.Markdown object>\n"
          ]
        }
      ]
    },
    {
      "cell_type": "markdown",
      "source": [
        "# Evaluation\n",
        "\n",
        "\n",
        "*   Persicion\n",
        "*   Recall\n",
        "*   F-1\n",
        "\n"
      ],
      "metadata": {
        "id": "b4KI1_Ihg8Gr"
      }
    },
    {
      "cell_type": "code",
      "source": [
        "import ast\n",
        "from sklearn.metrics import precision_score, recall_score, f1_score\n",
        "from sklearn.metrics import confusion_matrix\n",
        "\n",
        "def evaluation(true_labels, predicted_labels):\n",
        "\n",
        "  recall = []\n",
        "  precision = []\n",
        "  f1 = []\n",
        "\n",
        "\n",
        "  for i in range(len(true_labels)):\n",
        "    trueList = ast.literal_eval(true_labels[i])\n",
        "    predList = ast.literal_eval(predicted_labels[i])\n",
        "    # Extract only the 'TXXXX' part from each string in the list\n",
        "    predList = [item.split('.')[0] if '.' in item else item for item in predList]\n",
        "    intersection = set(trueList).intersection(set(predList))\n",
        "    #print(list(intersection))\n",
        "\n",
        "    if (len(predList) != 0):\n",
        "      recall.append(len(intersection) / len(trueList))\n",
        "      precision.append(len(intersection) / len(predList))\n",
        "      try:\n",
        "        f1.append((2 * precision[i] * recall[i]) / (recall[i] + precision[i]))\n",
        "      except:\n",
        "        f1.append(0)\n",
        "\n",
        "  # Avg.\n",
        "  average_recall = sum(recall) / len(recall)\n",
        "  average_precision = sum(precision) / len(precision)\n",
        "  average_f1 = (2 * average_recall * average_precision) / (average_recall + average_precision)\n",
        "\n",
        "  print(\"Metric    |   Score\")\n",
        "  print(\"-------------------\")\n",
        "  print(f\"Precision |   {average_precision:.2f}\")\n",
        "  print(f\"Recall    |   {average_recall:.2f}\")\n",
        "  print(f\"F1 Score  |   {average_f1:.2f}\")"
      ],
      "metadata": {
        "id": "WlJZ7D0Pg8zQ"
      },
      "execution_count": 15,
      "outputs": []
    },
    {
      "cell_type": "markdown",
      "source": [
        "#### ZS"
      ],
      "metadata": {
        "id": "qhl0OOPpdQ4Z"
      }
    },
    {
      "cell_type": "code",
      "source": [
        "loadData = pd.read_csv(\"zero_shot.csv\")\n",
        "true_labels_ZS = loadData['True_labels']\n",
        "predicted_labels = loadData['Technique_id']\n",
        "\n",
        "evaluation(true_labels_ZS, predicted_labels)\n"
      ],
      "metadata": {
        "id": "g3sTHwY7dSMR"
      },
      "execution_count": null,
      "outputs": []
    },
    {
      "cell_type": "markdown",
      "source": [
        "#### WTGWE"
      ],
      "metadata": {
        "id": "AvJSwkHdzDvv"
      }
    },
    {
      "cell_type": "code",
      "source": [
        "loadData = pd.read_csv(\"prompting_without_techniques_guide_zero_shot.csv\")\n",
        "true_labels_WTGWE = loadData['True_labels']\n",
        "predicted_labels = loadData['Technique_id']\n",
        "\n",
        "evaluation(true_labels_WTGWE, predicted_labels)\n"
      ],
      "metadata": {
        "id": "N6rrCwGQhAMo",
        "colab": {
          "base_uri": "https://localhost:8080/"
        },
        "outputId": "35edb86a-d76a-44e1-d862-add154a5fb9c"
      },
      "execution_count": 26,
      "outputs": [
        {
          "output_type": "stream",
          "name": "stdout",
          "text": [
            "Metric    |   Score\n",
            "-------------------\n",
            "Precision |   0.15\n",
            "Recall    |   0.15\n",
            "F1 Score  |   0.15\n"
          ]
        }
      ]
    },
    {
      "cell_type": "markdown",
      "source": [
        "#### WTG1E"
      ],
      "metadata": {
        "id": "N4aLDGzriV55"
      }
    },
    {
      "cell_type": "code",
      "source": [
        "loadData = pd.read_csv(\"prompting_without_techniques_guide_one_shot.csv\")\n",
        "true_labels_WTG1E = loadData['True_labels']\n",
        "predicted_labels = loadData['Technique_id']\n",
        "\n",
        "evaluation(true_labels_WTG1E, predicted_labels)\n"
      ],
      "metadata": {
        "id": "zQA4rWWziLYw",
        "colab": {
          "base_uri": "https://localhost:8080/"
        },
        "outputId": "c258c4f3-f927-456a-ba77-3cbffd3b330d"
      },
      "execution_count": 35,
      "outputs": [
        {
          "output_type": "stream",
          "name": "stdout",
          "text": [
            "Metric    |   Score\n",
            "-------------------\n",
            "Precision |   0.05\n",
            "Recall    |   0.10\n",
            "F1 Score  |   0.07\n"
          ]
        }
      ]
    },
    {
      "cell_type": "markdown",
      "source": [
        "#### WTG2E"
      ],
      "metadata": {
        "id": "rEZUDADziXI4"
      }
    },
    {
      "cell_type": "code",
      "source": [
        "loadData = pd.read_csv(\"prompting_without_techniques_guide_two_shot.csv\")\n",
        "true_labels_WTG2E = loadData['True_labels']\n",
        "predicted_labels = loadData['Technique_id']\n",
        "\n",
        "evaluation(true_labels_WTG2E, predicted_labels)\n"
      ],
      "metadata": {
        "id": "YIQDq1rtiNtZ",
        "colab": {
          "base_uri": "https://localhost:8080/"
        },
        "outputId": "46f70e96-1ef4-4d80-89a7-a40203d20882"
      },
      "execution_count": 54,
      "outputs": [
        {
          "output_type": "stream",
          "name": "stdout",
          "text": [
            "Metric    |   Score\n",
            "-------------------\n",
            "Precision |   0.10\n",
            "Recall    |   0.05\n",
            "F1 Score  |   0.07\n"
          ]
        }
      ]
    },
    {
      "cell_type": "markdown",
      "source": [
        "#### TGWE"
      ],
      "metadata": {
        "id": "o-wT4dHgiYeK"
      }
    },
    {
      "cell_type": "code",
      "source": [
        "loadData = pd.read_csv('prompting_with_techniques_guide_zero_shot.csv')\n",
        "true_labels_TGWE = loadData['True_labels']\n",
        "predicted_labels = loadData['Technique_id']\n",
        "\n",
        "evaluation(true_labels_TGWE, predicted_labels)\n"
      ],
      "metadata": {
        "id": "tEyK5479k9JS",
        "colab": {
          "base_uri": "https://localhost:8080/"
        },
        "outputId": "447add6c-f0e7-4ef5-86d2-070dc77b46f4"
      },
      "execution_count": 74,
      "outputs": [
        {
          "output_type": "stream",
          "name": "stdout",
          "text": [
            "Metric    |   Score\n",
            "-------------------\n",
            "Precision |   0.25\n",
            "Recall    |   0.55\n",
            "F1 Score  |   0.34\n"
          ]
        }
      ]
    },
    {
      "cell_type": "markdown",
      "source": [
        "#### TG1E"
      ],
      "metadata": {
        "id": "QfTWbXljiipv"
      }
    },
    {
      "cell_type": "code",
      "source": [
        "loadData = pd.read_csv('prompting_with_techniques_guide_one_shot.csv')\n",
        "true_labels_TG1E = loadData['True_labels']\n",
        "predicted_labels = loadData['Technique_id']\n",
        "\n",
        "evaluation(true_labels_TG1E, predicted_labels)\n"
      ],
      "metadata": {
        "id": "E03xuJw3ig8D"
      },
      "execution_count": null,
      "outputs": []
    },
    {
      "cell_type": "markdown",
      "source": [
        "#### TG2E"
      ],
      "metadata": {
        "id": "R7YhblZjij2Y"
      }
    },
    {
      "cell_type": "code",
      "source": [
        "loadData = pd.read_csv('prompting_with_techniques_guide_two_shot.csv')\n",
        "true_labels_TG2E = loadData['True_labels']\n",
        "predicted_labels = loadData['Technique_id']\n",
        "\n",
        "evaluation(true_labels_TG2E, predicted_labels)\n"
      ],
      "metadata": {
        "id": "9riAtGmQihcQ",
        "colab": {
          "base_uri": "https://localhost:8080/"
        },
        "outputId": "772cbd26-3210-454c-fd71-dfb51c2b773d"
      },
      "execution_count": 78,
      "outputs": [
        {
          "output_type": "stream",
          "name": "stdout",
          "text": [
            "Metric    |   Score\n",
            "-------------------\n",
            "Precision |   0.40\n",
            "Recall    |   0.70\n",
            "F1 Score  |   0.51\n"
          ]
        }
      ]
    },
    {
      "cell_type": "code",
      "source": [],
      "metadata": {
        "id": "TF-fmJrpgV4V"
      },
      "execution_count": null,
      "outputs": []
    }
  ]
}