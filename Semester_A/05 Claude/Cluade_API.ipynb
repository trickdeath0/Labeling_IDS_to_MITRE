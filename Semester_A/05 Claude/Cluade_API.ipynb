{
  "nbformat": 4,
  "nbformat_minor": 0,
  "metadata": {
    "colab": {
      "provenance": []
    },
    "kernelspec": {
      "name": "python3",
      "display_name": "Python 3"
    },
    "language_info": {
      "name": "python"
    }
  },
  "cells": [
    {
      "cell_type": "markdown",
      "source": [
        "#Install\n",
        "\n",
        "SDK: https://github.com/anthropics/anthropic-sdk-python"
      ],
      "metadata": {
        "id": "TeA9IRSmjX3M"
      }
    },
    {
      "cell_type": "code",
      "execution_count": null,
      "metadata": {
        "colab": {
          "base_uri": "https://localhost:8080/"
        },
        "id": "Ow6ph5mIi6Q4",
        "outputId": "9063530b-f23d-49f1-99ec-272c084dc5a8"
      },
      "outputs": [
        {
          "output_type": "stream",
          "name": "stdout",
          "text": [
            "Collecting anthropic\n",
            "  Downloading anthropic-0.16.0-py3-none-any.whl (846 kB)\n",
            "\u001b[?25l     \u001b[90m━━━━━━━━━━━━━━━━━━━━━━━━━━━━━━━━━━━━━━━━\u001b[0m \u001b[32m0.0/846.4 kB\u001b[0m \u001b[31m?\u001b[0m eta \u001b[36m-:--:--\u001b[0m\r\u001b[2K     \u001b[91m━━━━━━━━━━━━━━\u001b[0m\u001b[91m╸\u001b[0m\u001b[90m━━━━━━━━━━━━━━━━━━━━━━━━━\u001b[0m \u001b[32m307.2/846.4 kB\u001b[0m \u001b[31m9.0 MB/s\u001b[0m eta \u001b[36m0:00:01\u001b[0m\r\u001b[2K     \u001b[90m━━━━━━━━━━━━━━━━━━━━━━━━━━━━━━━━━━━━━━━━\u001b[0m \u001b[32m846.4/846.4 kB\u001b[0m \u001b[31m16.6 MB/s\u001b[0m eta \u001b[36m0:00:00\u001b[0m\n",
            "\u001b[?25hRequirement already satisfied: anyio<5,>=3.5.0 in /usr/local/lib/python3.10/dist-packages (from anthropic) (3.7.1)\n",
            "Requirement already satisfied: distro<2,>=1.7.0 in /usr/lib/python3/dist-packages (from anthropic) (1.7.0)\n",
            "Collecting httpx<1,>=0.23.0 (from anthropic)\n",
            "  Downloading httpx-0.27.0-py3-none-any.whl (75 kB)\n",
            "\u001b[?25l     \u001b[90m━━━━━━━━━━━━━━━━━━━━━━━━━━━━━━━━━━━━━━━━\u001b[0m \u001b[32m0.0/75.6 kB\u001b[0m \u001b[31m?\u001b[0m eta \u001b[36m-:--:--\u001b[0m\r\u001b[2K     \u001b[90m━━━━━━━━━━━━━━━━━━━━━━━━━━━━━━━━━━━━━━━━\u001b[0m \u001b[32m75.6/75.6 kB\u001b[0m \u001b[31m9.4 MB/s\u001b[0m eta \u001b[36m0:00:00\u001b[0m\n",
            "\u001b[?25hRequirement already satisfied: pydantic<3,>=1.9.0 in /usr/local/lib/python3.10/dist-packages (from anthropic) (2.6.3)\n",
            "Requirement already satisfied: sniffio in /usr/local/lib/python3.10/dist-packages (from anthropic) (1.3.1)\n",
            "Requirement already satisfied: tokenizers>=0.13.0 in /usr/local/lib/python3.10/dist-packages (from anthropic) (0.15.2)\n",
            "Requirement already satisfied: typing-extensions<5,>=4.7 in /usr/local/lib/python3.10/dist-packages (from anthropic) (4.10.0)\n",
            "Requirement already satisfied: idna>=2.8 in /usr/local/lib/python3.10/dist-packages (from anyio<5,>=3.5.0->anthropic) (3.6)\n",
            "Requirement already satisfied: exceptiongroup in /usr/local/lib/python3.10/dist-packages (from anyio<5,>=3.5.0->anthropic) (1.2.0)\n",
            "Requirement already satisfied: certifi in /usr/local/lib/python3.10/dist-packages (from httpx<1,>=0.23.0->anthropic) (2024.2.2)\n",
            "Collecting httpcore==1.* (from httpx<1,>=0.23.0->anthropic)\n",
            "  Downloading httpcore-1.0.4-py3-none-any.whl (77 kB)\n",
            "\u001b[2K     \u001b[90m━━━━━━━━━━━━━━━━━━━━━━━━━━━━━━━━━━━━━━━━\u001b[0m \u001b[32m77.8/77.8 kB\u001b[0m \u001b[31m10.7 MB/s\u001b[0m eta \u001b[36m0:00:00\u001b[0m\n",
            "\u001b[?25hCollecting h11<0.15,>=0.13 (from httpcore==1.*->httpx<1,>=0.23.0->anthropic)\n",
            "  Downloading h11-0.14.0-py3-none-any.whl (58 kB)\n",
            "\u001b[2K     \u001b[90m━━━━━━━━━━━━━━━━━━━━━━━━━━━━━━━━━━━━━━━━\u001b[0m \u001b[32m58.3/58.3 kB\u001b[0m \u001b[31m7.9 MB/s\u001b[0m eta \u001b[36m0:00:00\u001b[0m\n",
            "\u001b[?25hRequirement already satisfied: annotated-types>=0.4.0 in /usr/local/lib/python3.10/dist-packages (from pydantic<3,>=1.9.0->anthropic) (0.6.0)\n",
            "Requirement already satisfied: pydantic-core==2.16.3 in /usr/local/lib/python3.10/dist-packages (from pydantic<3,>=1.9.0->anthropic) (2.16.3)\n",
            "Requirement already satisfied: huggingface_hub<1.0,>=0.16.4 in /usr/local/lib/python3.10/dist-packages (from tokenizers>=0.13.0->anthropic) (0.20.3)\n",
            "Requirement already satisfied: filelock in /usr/local/lib/python3.10/dist-packages (from huggingface_hub<1.0,>=0.16.4->tokenizers>=0.13.0->anthropic) (3.13.1)\n",
            "Requirement already satisfied: fsspec>=2023.5.0 in /usr/local/lib/python3.10/dist-packages (from huggingface_hub<1.0,>=0.16.4->tokenizers>=0.13.0->anthropic) (2023.6.0)\n",
            "Requirement already satisfied: requests in /usr/local/lib/python3.10/dist-packages (from huggingface_hub<1.0,>=0.16.4->tokenizers>=0.13.0->anthropic) (2.31.0)\n",
            "Requirement already satisfied: tqdm>=4.42.1 in /usr/local/lib/python3.10/dist-packages (from huggingface_hub<1.0,>=0.16.4->tokenizers>=0.13.0->anthropic) (4.66.2)\n",
            "Requirement already satisfied: pyyaml>=5.1 in /usr/local/lib/python3.10/dist-packages (from huggingface_hub<1.0,>=0.16.4->tokenizers>=0.13.0->anthropic) (6.0.1)\n",
            "Requirement already satisfied: packaging>=20.9 in /usr/local/lib/python3.10/dist-packages (from huggingface_hub<1.0,>=0.16.4->tokenizers>=0.13.0->anthropic) (23.2)\n",
            "Requirement already satisfied: charset-normalizer<4,>=2 in /usr/local/lib/python3.10/dist-packages (from requests->huggingface_hub<1.0,>=0.16.4->tokenizers>=0.13.0->anthropic) (3.3.2)\n",
            "Requirement already satisfied: urllib3<3,>=1.21.1 in /usr/local/lib/python3.10/dist-packages (from requests->huggingface_hub<1.0,>=0.16.4->tokenizers>=0.13.0->anthropic) (2.0.7)\n",
            "Installing collected packages: h11, httpcore, httpx, anthropic\n",
            "Successfully installed anthropic-0.16.0 h11-0.14.0 httpcore-1.0.4 httpx-0.27.0\n"
          ]
        }
      ],
      "source": [
        "!pip install anthropic\n",
        "\n",
        "import os\n",
        "import json\n",
        "import pandas as pd\n",
        "import time\n",
        "import re\n",
        "import csv"
      ]
    },
    {
      "cell_type": "markdown",
      "source": [
        "\n",
        "# This is formatted as code\n",
        "\n",
        "\n",
        "### Import packages"
      ],
      "metadata": {
        "id": "zn-Yf90tjrYE"
      }
    },
    {
      "cell_type": "code",
      "source": [
        "import pathlib\n",
        "import textwrap\n",
        "\n",
        "\n",
        "from IPython.display import display\n",
        "from IPython.display import Markdown\n",
        "\n",
        "\n",
        "def to_markdown(text):\n",
        "  text = text.replace('•', '  *')\n",
        "  return Markdown(textwrap.indent(text, '> ', predicate=lambda _: True))\n",
        "\n",
        "  # Used to securely store your API key\n",
        "from google.colab import userdata"
      ],
      "metadata": {
        "id": "UXCqrterjsNL"
      },
      "execution_count": null,
      "outputs": []
    },
    {
      "cell_type": "markdown",
      "source": [
        "### Setup your API key\n",
        "\n",
        "Before you can use the Cluade API, you must first obtain an API key. If you don't already have one, create a key with one click in Google AI Studio.\n",
        "\n",
        "<a class=\"button button-primary\" href=\"https://console.anthropic.com/settings/keys\" target=\"_blank\" rel=\"noopener noreferrer\">Get an API key</a>\n",
        "\n",
        "\n",
        "In Colab, add the key to the secrets manager under the \"🔑\" in the left panel. Give it the name `CLUADE_API_KEY`.\n",
        "\n",
        "Once you have the API key, pass it to the SDK. You can do this in two ways:\n",
        "\n",
        "* Put the key in the `CLUADE_API_KEY` environment variable (the SDK will automatically pick it up from there).\n"
      ],
      "metadata": {
        "id": "--UHHBFrj38s"
      }
    },
    {
      "cell_type": "code",
      "source": [
        "import os\n",
        "from anthropic import Anthropic\n",
        "\n",
        "client = Anthropic(\n",
        "    # This is the default and can be omitted\n",
        "    # Or use `os.getenv('finalproject-secret-key')` to fetch an environment variable.\n",
        "    #CLUADE_API_KEY=userdata.get('finalproject-secret-key')\n",
        "    api_key=userdata.get(\"ANTHROPIC_API_KEY\"),\n",
        ")\n"
      ],
      "metadata": {
        "id": "b1w5Tp-VkKtj"
      },
      "execution_count": null,
      "outputs": []
    },
    {
      "cell_type": "markdown",
      "source": [
        "### Demo test for us"
      ],
      "metadata": {
        "id": "kCOCeXotojsW"
      }
    },
    {
      "cell_type": "code",
      "source": [
        "snort_rule = '''alert tcp $HOME_NET [21,25,443,465,636,992,993,995,2484] -> $EXTERNAL_NET any ( msg:\"SERVER-OTHER OpenSSL TLSv1.1 large heartbeat response - possible ssl heartbleed attempt\"; flow:to_client,established; content:\"|16 03 02|\"; byte_jump:2,0,relative; content:\"|18 03 02|\",within 3,fast_pattern; byte_test:2,>,128,0,relative; metadata:policy max-detect-ips drop,policy security-ips drop,ruleset community; service:ssl; reference:cve,2014-0160; classtype:attempted-recon; sid:30781; rev:5; )'''\n",
        "\n",
        "message = client.messages.create(\n",
        "    max_tokens=1024,\n",
        "    messages=[\n",
        "        {\n",
        "            \"role\": \"user\",\n",
        "            \"content\": f\"\"\"\n",
        "                          I'm going to give you a Snort rule. Read the Snort rule carefully, because I'm going to given you a task about it. Here is the Snort rule: <snort_rule>{snort_rule}</snort_rule>\n",
        "\n",
        "                          First, find the techniques from MITRE ATT&CK that are most relevant to the Snort rule.\n",
        "\n",
        "                          Then, answer the task, for each technique include the following information as JSON in this order: 'Sid', 'Technique ID', 'Technique Name', 'Quotes', 'Explanation'.\n",
        "\n",
        "                          Note: The value of the citation field should contain quotation marks from the data sets relevant to the mapped technique are the main reason you chose this technique to be correct. The value of the explanation should be your explanation of why you decided to give the technique and how it relates to the rule. The technique ID should be the official MITRE technique ID.\n",
        "\n",
        "                          Thus, the format of your overall response should look like what's shown between the <examples></examples> tags. Make sure to follow the formatting and spacing exactly.\n",
        "\n",
        "\n",
        "                          <examples>\n",
        "                          [\n",
        "                            \"sid\": \"2274\",\n",
        "                            \"Technique ID\": \"T1110\",\n",
        "                            \"Technique name\": \"Brute Force\",\n",
        "                            \"Quotes\": [\n",
        "                              \"\\\"PROTOCOL-POP login brute force attempt\\\"\",\n",
        "                              \"track by_dst,count 30,seconds 30\"\n",
        "                            ],\n",
        "                            \"Explanation\": \"The rule is looking for excessive \\\"USER\\\" commands within a short period of time, which are common indicators of brute-force attacks targeting the POP3 service.\"\n",
        "                          ]\n",
        "                          </examples>\n",
        "\n",
        "                          Do not include anything besides write the JSON.\n",
        "                          \"\"\",\n",
        "        }\n",
        "    ],\n",
        "    model=\"claude-2.1\",\n",
        "    temperature=0,\n",
        ")\n",
        "\n",
        "\n",
        "#print(message.content) # list"
      ],
      "metadata": {
        "id": "p3L4kX_BoI1u"
      },
      "execution_count": null,
      "outputs": []
    },
    {
      "cell_type": "code",
      "source": [
        "text = str(message.content)\n",
        "#text = str(message.content).split(\"\\\\n\\\\n\")[1].split(\"', type\")[0]\n",
        "print(type(text))\n",
        "print(text)\n",
        "\n",
        "t_numbers = re.findall(r'[\\'\\\"](T\\d+(?:\\.\\d+)?)', text)\n",
        "\n",
        "print(t_numbers)"
      ],
      "metadata": {
        "colab": {
          "base_uri": "https://localhost:8080/"
        },
        "id": "qE39uDRoqlos",
        "outputId": "d4aff1f6-8787-4a8d-874f-2b95ed0e5073"
      },
      "execution_count": null,
      "outputs": [
        {
          "output_type": "stream",
          "name": "stdout",
          "text": [
            "<class 'str'>\n",
            "[ContentBlock(text='{\\n    \"Sid\": \"30781\",\\n    \"Technique ID\": \"T1529\",\\n    \"Technique Name\": \"System Services Discovery\",\\n    \"Quotes\": \"\\\\\"This rule detects attackers attempting to exploit the Heartbleed vulnerability in OpenSSL to read sensitive information from the server\\'s memory.\\\\\"\",\\n    \"Explanation\": \"The rule is looking for signs of attackers trying to exploit the Heartbleed vulnerability, which allows reading sensitive data from memory. This aligns with the System Services Discovery technique in MITRE ATT&CK, which involves gathering information about services running on remote systems. The attempt to exploit Heartbleed to gather data is a form of system services discovery.\"\\n}', type='text')]\n",
            "['T1529']\n"
          ]
        }
      ]
    },
    {
      "cell_type": "markdown",
      "source": [
        "### Data:\n",
        "Our data will be taken from 162 snort rules that have already been manually labeled to techniques from MITRE ATT&CK."
      ],
      "metadata": {
        "id": "AasGoYO3oARv"
      }
    },
    {
      "cell_type": "code",
      "source": [
        "!git clone https://github.com/trickdeath0/Labeling_IDS_to_MITRE.git"
      ],
      "metadata": {
        "id": "6HZLffHfk_ee",
        "colab": {
          "base_uri": "https://localhost:8080/"
        },
        "outputId": "b139d604-1260-4e2a-d8ac-18c172ea2ff1"
      },
      "execution_count": null,
      "outputs": [
        {
          "output_type": "stream",
          "name": "stdout",
          "text": [
            "Cloning into 'Labeling_IDS_to_MITRE'...\n",
            "remote: Enumerating objects: 273, done.\u001b[K\n",
            "remote: Counting objects: 100% (273/273), done.\u001b[K\n",
            "remote: Compressing objects: 100% (155/155), done.\u001b[K\n",
            "remote: Total 273 (delta 145), reused 232 (delta 107), pack-reused 0\u001b[K\n",
            "Receiving objects: 100% (273/273), 819.99 KiB | 13.67 MiB/s, done.\n",
            "Resolving deltas: 100% (145/145), done.\n"
          ]
        }
      ]
    },
    {
      "cell_type": "code",
      "source": [
        "data = pd.read_csv('/content/Labeling_IDS_to_MITRE/ground_truth.csv')\n",
        "print(data.head())\n",
        "rules_list = data['Rule']\n",
        "true_labels = data['technique ids']\n",
        "\n",
        "#print(data['Sid'][0+41])\n",
        "print(f\"\\n{len(data)=}\")"
      ],
      "metadata": {
        "id": "iZaI6p6-oIiO",
        "colab": {
          "base_uri": "https://localhost:8080/"
        },
        "outputId": "50993de4-e2cd-4145-fe24-5ab5c83ea9b8"
      },
      "execution_count": null,
      "outputs": [
        {
          "output_type": "stream",
          "name": "stdout",
          "text": [
            "   Unnamed: 0  Sid                                               Rule  \\\n",
            "0           0  213  alert tcp $EXTERNAL_NET any -> $TELNET_SERVERS...   \n",
            "1           1  214  alert tcp $EXTERNAL_NET any -> $TELNET_SERVERS...   \n",
            "2           2  215  alert tcp $EXTERNAL_NET any -> $TELNET_SERVERS...   \n",
            "3           3  216  alert tcp $EXTERNAL_NET any -> $TELNET_SERVERS...   \n",
            "4           4  233  alert tcp $EXTERNAL_NET any -> $HOME_NET 27665...   \n",
            "\n",
            "  technique ids  \n",
            "0     ['T1014']  \n",
            "1     ['T1014']  \n",
            "2     ['T1014']  \n",
            "3     ['T1014']  \n",
            "4     ['T1078']  \n"
          ]
        }
      ]
    },
    {
      "cell_type": "code",
      "source": [
        "def clean_response(text):\n",
        "    text = text.data.replace(\">\", \"\").strip()  # Remove leading \">\", whitespace\n",
        "    try:\n",
        "      text = text.replace(\"```json\", \"\")\n",
        "      text = text.replace(\"```\", \"\")\n",
        "    except:\n",
        "      pass\n",
        "    return text\n"
      ],
      "metadata": {
        "id": "z6Lqlzg1oMiX"
      },
      "execution_count": null,
      "outputs": []
    },
    {
      "cell_type": "markdown",
      "source": [
        "# **Prompting without techniques guide (WTG):**\n",
        "At this stage, the LLMs will receive a prompt that does not include the list of techniques from MITRE ATT&CK in order to examine the results of the models based on prior knowledge that has been trained. According to our request, the LLMs will classify the techniques according to the content of the rule.\n"
      ],
      "metadata": {
        "id": "-D9rfL2roNR9"
      }
    },
    {
      "cell_type": "markdown",
      "source": [
        "**Prompt1**:\n",
        "\n",
        "      prompt = f\"\"\"You are an information security expert. Your task is to label IDS rules for MITRE ATT&CK techniques based on your cybersecurity knowledge. For the task, you are going to get a single Snort IDS rule and you will need to return the most relevant techniques from MITRE ATT&CK that are related to the rule.\n",
        "      Try to search based on keywords and based on the knowledge you have. For each technique include the following information as JSON in this order: 'Sid', 'Technique ID', 'Technique Name', 'Quotes', 'Explanation'.\n",
        "      Note: The value of the citation field should contain quotation marks from the data sets relevant to the mapped technique are the main reason you chose this technique to be correct. The value of the explanation should be your explanation of why you decided to give the technique and how it relates to the rule. The technique ID should be the official MITRE technique ID.\n",
        "      Please don't write anything but the JSON. Rule: {snort_rule}\"\"\"\n",
        "\n",
        "\n",
        "**prompt2**:\n",
        "\n",
        "      prompt2 = f\"\"\"I'm going to give you a Snort rule. Read the Snort rule carefully, because I'm going to given you a task about it. Here is the Snort rule: <snort_rule>{snort_rule}</snort_rule>\n",
        "\n",
        "      First, find the techniques from MITRE ATT&CK that are most relevant to the Snort rule.\n",
        "\n",
        "      Then, answer the task, for each technique include the following information as JSON in this order: 'Sid', 'Technique ID', 'Technique Name', 'Quotes', 'Explanation'.\n",
        "\n",
        "      Note: The value of the citation field should contain quotation marks from the data sets relevant to the mapped technique are the main reason you chose this technique to be correct. The value of the explanation should be your explanation of why you decided to give the technique and how it relates to the rule. The technique ID should be the official MITRE technique ID.\n",
        "\n",
        "      Thus, the format of your overall response should look like what's shown between the <examples></examples> tags. Make sure to follow the formatting and spacing exactly.\n",
        "\n",
        "\n",
        "      <examples>\n",
        "        [\n",
        "          \"sid\": \"2274\",\n",
        "          \"Technique ID\": \"T1110\",\n",
        "          \"Technique name\": \"Brute Force\",\n",
        "          \"Quotes\": [\n",
        "            \"\\\"PROTOCOL-POP login brute force attempt\\\"\",\n",
        "            \"track by_dst,count 30,seconds 30\"\n",
        "          ],\n",
        "          \"Explanation\": \"The rule is looking for excessive \\\"USER\\\" commands within a short period of time, which are common indicators of brute-force attacks targeting the POP3 service.\"\n",
        "        ]\n",
        "        </examples>\n",
        "\n",
        "        Do not include anything besides write the JSON.\n",
        "        \"\"\"\n",
        "\n",
        "\n",
        "**prompt3**:\n",
        "\n",
        "        prompt3 = f\"\"\"You work in a company that deals with information security, your role in the company is to label techniques from MITRE ATT&CK to the rules of IDS systems. The labeling between a rule and a technique indicates that the attacker operated with a technique that you found to be suitable for the rule that alerted the IDS system. Now we will test your knowledge labeling IDS rules for MITRE ATT&CK techniques. For your task, you're going to have a single Snort IDS rule and you'll need to label the most relevant techniques from MITRE ATT&CK associated with the rule. From the rule you receive, your labeling should be based on your knowledge and the information found within the 'msg' in the rule received. For each technique you call the rule, include the following information as JSON format in this order: 'Sid', 'Technique ID', 'Technique Name', 'Quotes', 'Explanation'.  Note: The value of the 'Quotes' field should contain quotation marks from the data sets relevant to the mapped technique. The value of the 'Explanation' should be your explanation of why you decided to give the technique and how it relates to the rule. The 'Technique ID' should be the official MITRE technique ID.\n",
        "        Please don't write anything but the JSON. Rule: {snort_rule}\"\"\")\n",
        "\n",
        "\n",
        "**prompt4**\n",
        "\n",
        "        prompt4 = f'''You are going to receive a Snort rule and your task is to find as many MITRE ATT&CK techniques as possible that are associated with the rule. Note: You should categorize the techniques to 1 or 2. Technique of type 1 is a technique that you can associate with the rule directly based on the rule. Technique of type 2 is a technique that can be associated with the rule indirectly, based on your knowledge and understanding. The categorization value should be the value 1 or 2, based on the explanation given above. The quotes field value should contain quotes from the rules data that are relevant to the technique mapped and they are the main reason you believe the mapping to this technique is correct. The explanation’s value should be your explanation for why you decided to give the technique and how it is associated with the rule. The technique id should be the official MITRE technique id. For each technique include the following information as JSON: sid, Technique id, Technique name, Categorization, Quotes, Explanation. After each rule I will provide you with, answer according to the provided format. Please do not write anything else but the JSON. Rule: {snort_rule}''')\n"
      ],
      "metadata": {
        "id": "0-HP8vQIijhJ"
      }
    },
    {
      "cell_type": "code",
      "source": [
        "def wtg(snort_rule):\n",
        "\n",
        "  prompt = f\"\"\"You are an information security expert. Your task is to label IDS rules for MITRE ATT&CK techniques based on your cybersecurity knowledge. For the task, you are going to get a single Snort IDS rule and you will need to return the most relevant techniques from MITRE ATT&CK that are related to the rule.\n",
        "              Try to search based on keywords and based on the knowledge you have. For each technique include the following information as JSON in this order: 'Sid', 'Technique ID', 'Technique Name', 'Quotes', 'Explanation'.\n",
        "              Note: The value of the citation field should contain quotation marks from the data sets relevant to the mapped technique are the main reason you chose this technique to be correct. The value of the explanation should be your explanation of why you decided to give the technique and how it relates to the rule. The technique ID should be the official MITRE technique ID.\n",
        "              Please don't write anything but the JSON. Rule: {snort_rule}\"\"\"\n",
        "\n",
        "\n",
        "  message = client.messages.create(\n",
        "      max_tokens=1024,\n",
        "      messages=[\n",
        "          {\n",
        "              \"role\": \"user\",\n",
        "              \"content\": prompt,\n",
        "          }\n",
        "      ],\n",
        "      model=\"claude-2.1\",\n",
        "      temperature=0,\n",
        "  )\n",
        "\n",
        "  return message"
      ],
      "metadata": {
        "id": "MQqU79vkoUym"
      },
      "execution_count": null,
      "outputs": []
    },
    {
      "cell_type": "code",
      "source": [
        "rule_dict = {}\n",
        "max_retries = 3  # Maximum number of retries\n",
        "\n",
        "for index, rule in enumerate(rules_list):\n",
        "    retries = 0\n",
        "    while retries < max_retries:\n",
        "        try:\n",
        "            res = wtg(rule)\n",
        "            text = str(res.content)\n",
        "            # Check if the text contains the desired pattern\n",
        "            t_numbers = re.findall(r'[\\'\\\"](T\\d+(?:\\.\\d+)?)', text)\n",
        "            if t_numbers:  # If the pattern is found\n",
        "                rule_dict[data['Sid'][index]] = to_markdown(text)\n",
        "                break  # Break out of the retry loop if successful\n",
        "            else:\n",
        "                print(\"Desired pattern not found in the text. Retrying...\")\n",
        "                retries += 1\n",
        "                time.sleep(1)  # Wait for a short duration before retrying\n",
        "\n",
        "            time.sleep(15) # remove after we have money :)\n",
        "        except Exception as e:\n",
        "            print(f\"An error occurred: {e}\")\n",
        "            retries += 1\n",
        "            if retries < max_retries:\n",
        "                print(f\"Retrying... ({retries}/{max_retries})\")\n",
        "                time.sleep(1)  # Wait for a short duration before retrying\n",
        "            else:\n",
        "                print(\"Max retries reached. Unable to process this rule.\")\n",
        "\n",
        "# If sending fails, attempt to send again\n",
        "try:\n",
        "    # Code to send data\n",
        "    pass\n",
        "except Exception as e:\n",
        "    print(f\"Sending failed: {e}\")\n",
        "    # Retry sending here\n"
      ],
      "metadata": {
        "id": "g3PW59B_oaqu",
        "colab": {
          "base_uri": "https://localhost:8080/"
        },
        "outputId": "c941dd2a-41bf-4927-9a2a-7f8d2447fb74"
      },
      "execution_count": null,
      "outputs": [
        {
          "output_type": "stream",
          "name": "stdout",
          "text": [
            "An error occurred: Error code: 429 - {'type': 'error', 'error': {'type': 'rate_limit_error', 'message': 'Number of requests has exceeded your rate limit. Please try again later or contact sales@anthropic.com to discuss your options for a rate limit increase.'}}\n",
            "Retrying... (1/3)\n",
            "An error occurred: Error code: 429 - {'type': 'error', 'error': {'type': 'rate_limit_error', 'message': 'Number of requests has exceeded your rate limit. Please try again later or contact sales@anthropic.com to discuss your options for a rate limit increase.'}}\n",
            "Retrying... (1/3)\n",
            "An error occurred: Error code: 429 - {'type': 'error', 'error': {'type': 'rate_limit_error', 'message': 'Number of requests has exceeded your rate limit. Please try again later or contact sales@anthropic.com to discuss your options for a rate limit increase.'}}\n",
            "Retrying... (2/3)\n",
            "An error occurred: Error code: 529 - {'type': 'error', 'error': {'type': 'overloaded_error', 'message': 'Overloaded'}}\n",
            "Retrying... (1/3)\n",
            "An error occurred: Error code: 429 - {'type': 'error', 'error': {'type': 'rate_limit_error', 'message': 'Number of requests has exceeded your rate limit. Please try again later or contact sales@anthropic.com to discuss your options for a rate limit increase.'}}\n",
            "Retrying... (1/3)\n",
            "An error occurred: Error code: 429 - {'type': 'error', 'error': {'type': 'rate_limit_error', 'message': 'Number of requests has exceeded your rate limit. Please try again later or contact sales@anthropic.com to discuss your options for a rate limit increase.'}}\n",
            "Retrying... (2/3)\n",
            "An error occurred: Error code: 429 - {'type': 'error', 'error': {'type': 'rate_limit_error', 'message': 'Number of requests has exceeded your rate limit. Please try again later or contact sales@anthropic.com to discuss your options for a rate limit increase.'}}\n",
            "Retrying... (1/3)\n",
            "An error occurred: Error code: 429 - {'type': 'error', 'error': {'type': 'rate_limit_error', 'message': 'Number of requests has exceeded your rate limit. Please try again later or contact sales@anthropic.com to discuss your options for a rate limit increase.'}}\n",
            "Retrying... (1/3)\n",
            "An error occurred: Error code: 429 - {'type': 'error', 'error': {'type': 'rate_limit_error', 'message': 'Number of requests has exceeded your rate limit. Please try again later or contact sales@anthropic.com to discuss your options for a rate limit increase.'}}\n",
            "Retrying... (2/3)\n",
            "An error occurred: Error code: 429 - {'type': 'error', 'error': {'type': 'rate_limit_error', 'message': 'Number of requests has exceeded your rate limit. Please try again later or contact sales@anthropic.com to discuss your options for a rate limit increase.'}}\n",
            "Retrying... (1/3)\n",
            "An error occurred: Error code: 429 - {'type': 'error', 'error': {'type': 'rate_limit_error', 'message': 'Number of requests has exceeded your rate limit. Please try again later or contact sales@anthropic.com to discuss your options for a rate limit increase.'}}\n",
            "Retrying... (1/3)\n",
            "An error occurred: Error code: 429 - {'type': 'error', 'error': {'type': 'rate_limit_error', 'message': 'Number of requests has exceeded your rate limit. Please try again later or contact sales@anthropic.com to discuss your options for a rate limit increase.'}}\n",
            "Retrying... (1/3)\n",
            "An error occurred: Error code: 429 - {'type': 'error', 'error': {'type': 'rate_limit_error', 'message': 'Number of requests has exceeded your rate limit. Please try again later or contact sales@anthropic.com to discuss your options for a rate limit increase.'}}\n",
            "Retrying... (1/3)\n",
            "An error occurred: Error code: 429 - {'type': 'error', 'error': {'type': 'rate_limit_error', 'message': 'Number of requests has exceeded your rate limit. Please try again later or contact sales@anthropic.com to discuss your options for a rate limit increase.'}}\n",
            "Retrying... (2/3)\n",
            "An error occurred: Error code: 429 - {'type': 'error', 'error': {'type': 'rate_limit_error', 'message': 'Number of requests has exceeded your rate limit. Please try again later or contact sales@anthropic.com to discuss your options for a rate limit increase.'}}\n",
            "Retrying... (1/3)\n",
            "An error occurred: Error code: 429 - {'type': 'error', 'error': {'type': 'rate_limit_error', 'message': 'Number of requests has exceeded your rate limit. Please try again later or contact sales@anthropic.com to discuss your options for a rate limit increase.'}}\n",
            "Retrying... (2/3)\n",
            "An error occurred: Error code: 429 - {'type': 'error', 'error': {'type': 'rate_limit_error', 'message': 'Number of requests has exceeded your rate limit. Please try again later or contact sales@anthropic.com to discuss your options for a rate limit increase.'}}\n",
            "Retrying... (1/3)\n",
            "An error occurred: Error code: 429 - {'type': 'error', 'error': {'type': 'rate_limit_error', 'message': 'Number of requests has exceeded your rate limit. Please try again later or contact sales@anthropic.com to discuss your options for a rate limit increase.'}}\n",
            "Retrying... (2/3)\n",
            "An error occurred: Error code: 429 - {'type': 'error', 'error': {'type': 'rate_limit_error', 'message': 'Number of requests has exceeded your rate limit. Please try again later or contact sales@anthropic.com to discuss your options for a rate limit increase.'}}\n",
            "Retrying... (1/3)\n",
            "An error occurred: Error code: 429 - {'type': 'error', 'error': {'type': 'rate_limit_error', 'message': 'Number of requests has exceeded your rate limit. Please try again later or contact sales@anthropic.com to discuss your options for a rate limit increase.'}}\n",
            "Retrying... (2/3)\n",
            "An error occurred: Error code: 429 - {'type': 'error', 'error': {'type': 'rate_limit_error', 'message': 'Number of requests has exceeded your rate limit. Please try again later or contact sales@anthropic.com to discuss your options for a rate limit increase.'}}\n",
            "Retrying... (1/3)\n",
            "An error occurred: Error code: 429 - {'type': 'error', 'error': {'type': 'rate_limit_error', 'message': 'Number of requests has exceeded your rate limit. Please try again later or contact sales@anthropic.com to discuss your options for a rate limit increase.'}}\n",
            "Retrying... (2/3)\n",
            "An error occurred: Error code: 429 - {'type': 'error', 'error': {'type': 'rate_limit_error', 'message': 'Number of requests has exceeded your rate limit. Please try again later or contact sales@anthropic.com to discuss your options for a rate limit increase.'}}\n",
            "Retrying... (1/3)\n",
            "An error occurred: Error code: 429 - {'type': 'error', 'error': {'type': 'rate_limit_error', 'message': 'Number of requests has exceeded your rate limit. Please try again later or contact sales@anthropic.com to discuss your options for a rate limit increase.'}}\n",
            "Retrying... (2/3)\n",
            "An error occurred: Error code: 429 - {'type': 'error', 'error': {'type': 'rate_limit_error', 'message': 'Number of requests has exceeded your rate limit. Please try again later or contact sales@anthropic.com to discuss your options for a rate limit increase.'}}\n",
            "Retrying... (1/3)\n",
            "An error occurred: Error code: 429 - {'type': 'error', 'error': {'type': 'rate_limit_error', 'message': 'Number of requests has exceeded your rate limit. Please try again later or contact sales@anthropic.com to discuss your options for a rate limit increase.'}}\n",
            "Retrying... (2/3)\n",
            "An error occurred: Error code: 429 - {'type': 'error', 'error': {'type': 'rate_limit_error', 'message': 'Number of requests has exceeded your rate limit. Please try again later or contact sales@anthropic.com to discuss your options for a rate limit increase.'}}\n",
            "Max retries reached. Unable to process this rule.\n",
            "An error occurred: Error code: 429 - {'type': 'error', 'error': {'type': 'rate_limit_error', 'message': 'Number of requests has exceeded your rate limit. Please try again later or contact sales@anthropic.com to discuss your options for a rate limit increase.'}}\n",
            "Retrying... (1/3)\n",
            "An error occurred: Error code: 429 - {'type': 'error', 'error': {'type': 'rate_limit_error', 'message': 'Number of requests has exceeded your rate limit. Please try again later or contact sales@anthropic.com to discuss your options for a rate limit increase.'}}\n",
            "Retrying... (2/3)\n",
            "An error occurred: Error code: 429 - {'type': 'error', 'error': {'type': 'rate_limit_error', 'message': 'Number of requests has exceeded your rate limit. Please try again later or contact sales@anthropic.com to discuss your options for a rate limit increase.'}}\n",
            "Retrying... (1/3)\n",
            "An error occurred: Error code: 429 - {'type': 'error', 'error': {'type': 'rate_limit_error', 'message': 'Number of requests has exceeded your rate limit. Please try again later or contact sales@anthropic.com to discuss your options for a rate limit increase.'}}\n",
            "Retrying... (2/3)\n",
            "An error occurred: Error code: 429 - {'type': 'error', 'error': {'type': 'rate_limit_error', 'message': 'Number of requests has exceeded your rate limit. Please try again later or contact sales@anthropic.com to discuss your options for a rate limit increase.'}}\n",
            "Max retries reached. Unable to process this rule.\n"
          ]
        }
      ]
    },
    {
      "cell_type": "markdown",
      "source": [
        "Write to csv"
      ],
      "metadata": {
        "id": "Au3iaHvfg2_g"
      }
    },
    {
      "cell_type": "code",
      "source": [
        "\n",
        "# Define the field names\n",
        "field_names = [\"Sid\", \"Response\", \"Technique_id\", \"True_labels\"]\n",
        "\n",
        "# Open the CSV file in write mode (truncating any existing content)\n",
        "with open(\"prompting_without_techniques_guide.csv\", \"w\", newline=\"\") as csvfile:\n",
        "    # Create a DictWriter object with the specified field names\n",
        "    writer = csv.DictWriter(csvfile, fieldnames=field_names)\n",
        "\n",
        "    # Write the header row\n",
        "    writer.writeheader()\n",
        "\n",
        "    # Extract relevant data from each item and write it as a dictionary\n",
        "    counter = 0\n",
        "    for key, value in rule_dict.items():\n",
        "      text = clean_response(value)\n",
        "      technique_ids = []\n",
        "\n",
        "      if \"'Sid\" in text:\n",
        "        # Define a regex pattern to switch single quotes to double quotes\n",
        "        pattern = re.compile(r\"((^|\\s)'((?:[^'\\\\]|\\\\.)*)'(?=[\\s.,:;!?)]))|(:\\s*'((?:[^'\\\\]|\\\\.)+)')\")\n",
        "        # Switch single quotes to double quotes\n",
        "        text = pattern.sub(lambda x: x.group().replace(\"'\", '\"'), text)\n",
        "\n",
        "        pattern = re.compile(r'\"\\S+\"[\\s\\.]|\\s\"[\\w\\s]*\"\\s')\n",
        "        text = re.sub(pattern, \"\", text)\n",
        "\n",
        "      # Extracting \"TXXXX\" numbers using regular expression\n",
        "      technique_ids = re.findall(r'[\\'\\\"](T\\d+(?:\\.\\d+)?)', text)\n",
        "\n",
        "      # Extracting \"Sid\"\n",
        "      match = re.search(r'[\\'\\\"][s|S]id[\\'\\\"]: [\\'\\\"](\\d+)[\\'\\\"]', text)\n",
        "      if match:\n",
        "          sid_number = match.group(1)\n",
        "\n",
        "\n",
        "      # Assuming each item has all necessary fields:\n",
        "      insertRow = {\n",
        "          \"Sid\": sid_number,\n",
        "          \"Response\": text,\n",
        "          \"Technique_id\": technique_ids,  # Handle potential absence\n",
        "          \"True_labels\": true_labels[counter],\n",
        "      }\n",
        "      writer.writerow(insertRow)\n",
        "      counter += 1\n"
      ],
      "metadata": {
        "id": "8O333P2lagRU"
      },
      "execution_count": null,
      "outputs": []
    },
    {
      "cell_type": "markdown",
      "source": [
        "# Evaluation\n",
        "\n",
        "\n",
        "*   Persicion\n",
        "*   Recall\n",
        "*   F-1\n",
        "\n"
      ],
      "metadata": {
        "id": "b4KI1_Ihg8Gr"
      }
    },
    {
      "cell_type": "code",
      "source": [
        "import ast\n",
        "from sklearn.metrics import precision_score, recall_score, f1_score\n",
        "from sklearn.metrics import confusion_matrix\n",
        "\n",
        "def evaluation(true_labels, predicted_labels):\n",
        "\n",
        "  recall = []\n",
        "  precision = []\n",
        "  f1 = []\n",
        "\n",
        "\n",
        "  for i in range(len(true_labels)):\n",
        "    trueList = ast.literal_eval(true_labels[i])\n",
        "    predList = ast.literal_eval(predicted_labels[i])\n",
        "    # Extract only the 'TXXXX' part from each string in the list\n",
        "    predList = [item.split('.')[0] if '.' in item else item for item in predList]\n",
        "    intersection = set(trueList).intersection(set(predList))\n",
        "    #print(list(intersection))\n",
        "\n",
        "    if (len(predList) != 0):\n",
        "      recall.append(len(intersection) / len(trueList))\n",
        "      precision.append(len(intersection) / len(predList))\n",
        "      try:\n",
        "        f1.append((2 * precision[i] * recall[i]) / (recall[i] + precision[i]))\n",
        "      except:\n",
        "        f1.append(0)\n",
        "\n",
        "  # Avg.\n",
        "  average_recall = sum(recall) / len(recall)\n",
        "  average_precision = sum(precision) / len(precision)\n",
        "  average_f1 = sum(f1) / len(f1)\n",
        "\n",
        "  print(\"Metric    |   Score\")\n",
        "  print(\"-------------------\")\n",
        "  print(f\"Precision |   {average_precision:.2f}\")\n",
        "  print(f\"Recall    |   {average_recall:.2f}\")\n",
        "  print(f\"F1 Score  |   {average_f1:.2f}\")"
      ],
      "metadata": {
        "id": "WlJZ7D0Pg8zQ"
      },
      "execution_count": null,
      "outputs": []
    },
    {
      "cell_type": "code",
      "source": [
        "loadData = pd.read_csv('prompting_without_techniques_guide.csv')\n",
        "true_labels = loadData['True_labels']\n",
        "predicted_labels = loadData['Technique_id']\n",
        "\n",
        "evaluation(true_labels, predicted_labels)\n"
      ],
      "metadata": {
        "id": "N6rrCwGQhAMo",
        "colab": {
          "base_uri": "https://localhost:8080/"
        },
        "outputId": "490c4687-3ae3-4b7a-e0f9-0331706a62b6"
      },
      "execution_count": null,
      "outputs": [
        {
          "output_type": "stream",
          "name": "stdout",
          "text": [
            "Metric    |   Score\n",
            "-------------------\n",
            "Precision |   0.38\n",
            "Recall    |   0.32\n",
            "F1 Score  |   0.33\n"
          ]
        }
      ]
    },
    {
      "cell_type": "markdown",
      "source": [
        "# **Prompting with techniques guide (TG):**\n",
        "In the next step, we will provide the LLMs with the list of all the techniques from MITRE ATT&CK, to guarantee that the models are targeted to the present techniques, even the infrequently used ones. Each technique will include the technique number, the name of the technique and its description. The techniques will be provided to the models in the form of batches (due to the memory limit of the models) and after each batch we will ask him to classify the appropriate techniques from the list he received (if exist), finally we will unite the model's answers for each individual rule.\n"
      ],
      "metadata": {
        "id": "0wJiTDVOhEvI"
      }
    },
    {
      "cell_type": "markdown",
      "source": [
        "pre colletion data for TG"
      ],
      "metadata": {
        "id": "5JRQ_LnRhKXB"
      }
    },
    {
      "cell_type": "code",
      "source": [
        "def recursive_enter(path: str, file_list: list = None) -> list:\n",
        "    if file_list is None:\n",
        "        file_list = []\n",
        "\n",
        "    try:\n",
        "        os.chdir(path)  # Change path\n",
        "\n",
        "        items = os.listdir()  # List everything in the directory\n",
        "        for item in items:\n",
        "            full_path = os.path.join(path, item)\n",
        "\n",
        "            if full_path.endswith(\".json\"):\n",
        "                with open(full_path) as f:\n",
        "                    file_list.append(json.load(f))\n",
        "\n",
        "    except Exception as e:\n",
        "        print(f\"An error occurred: {e}\")\n",
        "\n",
        "    return file_list\n",
        "\n",
        "tacticFolder = \"/content/Labeling_IDS_to_MITRE/Extract data from MITRE ATTACK/techniques_split\"\n",
        "file_list = []\n",
        "MITRE_Technique = recursive_enter(tacticFolder, file_list)\n",
        "print(len(MITRE_Technique))\n",
        "os.chdir(\"/content/\")"
      ],
      "metadata": {
        "id": "ykUTf_6NhHcA",
        "colab": {
          "base_uri": "https://localhost:8080/"
        },
        "outputId": "c2c683e0-8019-46b1-9465-ff82e6126e39"
      },
      "execution_count": null,
      "outputs": [
        {
          "output_type": "stream",
          "name": "stdout",
          "text": [
            "11\n"
          ]
        }
      ]
    },
    {
      "cell_type": "code",
      "source": [
        "def tg(snort_rule, techniques):\n",
        "\n",
        "  prePrompt = f\"\"\"You are an information security expert. Now I will provide you information about techniques from MITRE ATT&CK, you will use the information for a task you will receive later. Do not reply to the information you receive.\"\"\"\n",
        "\n",
        "  dataPrompt = f\"The information:\\n {str(techniques)}\"\n",
        "\n",
        "  response_data = f\"\"\"Your task is to label IDS rules for MITRE ATT&CK techniques based on the information I have provided you. For the task, you are going to get a single Snort IDS rule and you will need to return the most relevant techniques associated with the rule from the information I provided you only.\n",
        "   Note 1: There is not necessarily a suitable technique in the information, return a technique if and only if it has an unambiguous relationship to the provided rule, if not return an empty JSON. For each technique include the following information as JSON in this order: 'Sid', 'Technique ID', 'Technique Name', 'Quotes', 'Explanation'.\n",
        "   Note 2: The value of the citation field should contain quotation marks from the data sets relevant to the mapped technique are the main reason you chose this technique to be correct. The value of the explanation should be your explanation of why you decided to give the technique and how it relates to the rule. The technique ID should be the official MITRE technique ID.\n",
        "   Please don't write anything but the JSON. Rule: {snort_rule}\"\"\"\n",
        "\n",
        "  tg_data_list = prePrompt + dataPrompt + response_data\n",
        "\n",
        "  message = client.messages.create(\n",
        "      max_tokens=1024,\n",
        "      messages=[\n",
        "          {\n",
        "              \"role\": \"user\",\n",
        "              \"content\": tg_data_list,\n",
        "          }\n",
        "      ],\n",
        "      model=\"claude-2.1\",\n",
        "      temperature=0,\n",
        "  )\n",
        "\n",
        "  return message\n",
        "\n",
        "\n"
      ],
      "metadata": {
        "id": "zAvAiBmLhPBf"
      },
      "execution_count": null,
      "outputs": []
    },
    {
      "cell_type": "code",
      "source": [
        "import csv\n",
        "import re\n",
        "\n",
        "headersCSV_TG = [\"Sid\", \"Response\", \"Technique_id\", \"True_labels\"]\n",
        "\n",
        "# Initial write to csv with header\n",
        "with open('prompting_with_techniques_guide.csv', 'w', newline='') as csvfile:\n",
        "    writer = csv.DictWriter(csvfile, fieldnames=headersCSV_TG)\n",
        "    writer.writeheader()\n",
        "\n",
        "def appendToCSV(rows_data, counter) -> None:\n",
        "    '''\n",
        "    rows_data -> {213: [<IPython.core.display.Markdown object>, <IPython.core.display.Markdown object>, ...]}\n",
        "    '''\n",
        "    # Open the CSV file in append mode to add new rows\n",
        "    with open('prompting_with_techniques_guide.csv', 'a', newline='') as csvfile:\n",
        "        writer = csv.DictWriter(csvfile, fieldnames=headersCSV_TG)\n",
        "\n",
        "        # Loop through each row and write data\n",
        "        for row, value in rows_data.items():\n",
        "            technique_ids = []\n",
        "            response_text = \"\"\n",
        "            for i in value:\n",
        "                text = clean_response(i)\n",
        "                response_text += text\n",
        "                #print(text)\n",
        "\n",
        "                try:\n",
        "                    # Extracting \"TXXXX\" numbers using regular expression\n",
        "                    technique_ids.extend(re.findall(r': [\\'\\\"](T\\d+(?:\\.\\d+)?)', text))\n",
        "                except Exception as e:\n",
        "                    print(f\"Error extracting technique IDs: {e}\")\n",
        "\n",
        "            insertRow = {\n",
        "                \"Sid\": row,\n",
        "                \"Response\": response_text,\n",
        "                \"Technique_id\": technique_ids,\n",
        "                \"True_labels\": true_labels[counter]\n",
        "            }\n",
        "\n",
        "            # Write the row to the CSV file\n",
        "            writer.writerow(insertRow)\n"
      ],
      "metadata": {
        "id": "fsUbfkVjhPqn"
      },
      "execution_count": null,
      "outputs": []
    },
    {
      "cell_type": "code",
      "source": [
        "def tg_split_data(rules_list_index, index):\n",
        "\n",
        "  for rule in rules_list_index:\n",
        "    print(f\"index {index} \\t Sid: {data['Sid'][index]}\")\n",
        "\n",
        "    tg_dict = {}\n",
        "    count = 0 #####\n",
        "    for batch in MITRE_Technique: # 11 files\n",
        "      res = tg(rule, batch)\n",
        "      sid = data['Sid'][index]\n",
        "      if sid not in tg_dict:\n",
        "        tg_dict[sid] = []\n",
        "        tg_dict[sid].append(to_markdown(str(res.content)))\n",
        "      else:\n",
        "        tg_dict[sid].append(to_markdown(str(res.content)))\n",
        "      print(f\"~~~~~~~~~~~~~~~~~~~~~~~~~~~~~~~~~{count}~~~~~~~~~~~~~~~~~~~~~~~~~~~~~~~~~~~~~~\") #####\n",
        "      print(to_markdown(str(res.content)))\n",
        "      count += 1 #######\n",
        "      time.sleep(15)\n",
        "\n",
        "    # Write to csv\n",
        "    appendToCSV(tg_dict, index)\n",
        "    index += 1\n",
        "\n"
      ],
      "metadata": {
        "id": "WcvPIziJhRkA"
      },
      "execution_count": null,
      "outputs": []
    },
    {
      "cell_type": "code",
      "source": [
        "rules_list1 = rules_list[:5] # index 0-1\n",
        "#rules_list2 = rules_list[2:4] # index 2-3\n",
        "\n",
        "tg_split_data(rules_list1, 0)\n",
        "# tg_split_data(rules_list2, 2)"
      ],
      "metadata": {
        "id": "0pKRMVH_hUpQ",
        "colab": {
          "base_uri": "https://localhost:8080/"
        },
        "outputId": "d4d66ff7-7a9c-4d19-c2e3-c4e5e4bd88b1"
      },
      "execution_count": null,
      "outputs": [
        {
          "output_type": "stream",
          "name": "stdout",
          "text": [
            "index 0 \t Sid: 286\n",
            "~~~~~~~~~~~~~~~~~~~~~~~~~~~~~~~~~0~~~~~~~~~~~~~~~~~~~~~~~~~~~~~~~~~~~~~~\n",
            "<IPython.core.display.Markdown object>\n",
            "~~~~~~~~~~~~~~~~~~~~~~~~~~~~~~~~~1~~~~~~~~~~~~~~~~~~~~~~~~~~~~~~~~~~~~~~\n",
            "<IPython.core.display.Markdown object>\n",
            "~~~~~~~~~~~~~~~~~~~~~~~~~~~~~~~~~2~~~~~~~~~~~~~~~~~~~~~~~~~~~~~~~~~~~~~~\n",
            "<IPython.core.display.Markdown object>\n",
            "~~~~~~~~~~~~~~~~~~~~~~~~~~~~~~~~~3~~~~~~~~~~~~~~~~~~~~~~~~~~~~~~~~~~~~~~\n",
            "<IPython.core.display.Markdown object>\n",
            "~~~~~~~~~~~~~~~~~~~~~~~~~~~~~~~~~4~~~~~~~~~~~~~~~~~~~~~~~~~~~~~~~~~~~~~~\n",
            "<IPython.core.display.Markdown object>\n",
            "~~~~~~~~~~~~~~~~~~~~~~~~~~~~~~~~~5~~~~~~~~~~~~~~~~~~~~~~~~~~~~~~~~~~~~~~\n",
            "<IPython.core.display.Markdown object>\n",
            "~~~~~~~~~~~~~~~~~~~~~~~~~~~~~~~~~6~~~~~~~~~~~~~~~~~~~~~~~~~~~~~~~~~~~~~~\n",
            "<IPython.core.display.Markdown object>\n",
            "~~~~~~~~~~~~~~~~~~~~~~~~~~~~~~~~~7~~~~~~~~~~~~~~~~~~~~~~~~~~~~~~~~~~~~~~\n",
            "<IPython.core.display.Markdown object>\n",
            "~~~~~~~~~~~~~~~~~~~~~~~~~~~~~~~~~8~~~~~~~~~~~~~~~~~~~~~~~~~~~~~~~~~~~~~~\n",
            "<IPython.core.display.Markdown object>\n",
            "~~~~~~~~~~~~~~~~~~~~~~~~~~~~~~~~~9~~~~~~~~~~~~~~~~~~~~~~~~~~~~~~~~~~~~~~\n",
            "<IPython.core.display.Markdown object>\n",
            "~~~~~~~~~~~~~~~~~~~~~~~~~~~~~~~~~10~~~~~~~~~~~~~~~~~~~~~~~~~~~~~~~~~~~~~~\n",
            "<IPython.core.display.Markdown object>\n",
            "index 1 \t Sid: 366\n",
            "~~~~~~~~~~~~~~~~~~~~~~~~~~~~~~~~~0~~~~~~~~~~~~~~~~~~~~~~~~~~~~~~~~~~~~~~\n",
            "<IPython.core.display.Markdown object>\n",
            "~~~~~~~~~~~~~~~~~~~~~~~~~~~~~~~~~1~~~~~~~~~~~~~~~~~~~~~~~~~~~~~~~~~~~~~~\n",
            "<IPython.core.display.Markdown object>\n",
            "~~~~~~~~~~~~~~~~~~~~~~~~~~~~~~~~~2~~~~~~~~~~~~~~~~~~~~~~~~~~~~~~~~~~~~~~\n",
            "<IPython.core.display.Markdown object>\n",
            "~~~~~~~~~~~~~~~~~~~~~~~~~~~~~~~~~3~~~~~~~~~~~~~~~~~~~~~~~~~~~~~~~~~~~~~~\n",
            "<IPython.core.display.Markdown object>\n",
            "~~~~~~~~~~~~~~~~~~~~~~~~~~~~~~~~~4~~~~~~~~~~~~~~~~~~~~~~~~~~~~~~~~~~~~~~\n",
            "<IPython.core.display.Markdown object>\n",
            "~~~~~~~~~~~~~~~~~~~~~~~~~~~~~~~~~5~~~~~~~~~~~~~~~~~~~~~~~~~~~~~~~~~~~~~~\n",
            "<IPython.core.display.Markdown object>\n",
            "~~~~~~~~~~~~~~~~~~~~~~~~~~~~~~~~~6~~~~~~~~~~~~~~~~~~~~~~~~~~~~~~~~~~~~~~\n",
            "<IPython.core.display.Markdown object>\n",
            "~~~~~~~~~~~~~~~~~~~~~~~~~~~~~~~~~7~~~~~~~~~~~~~~~~~~~~~~~~~~~~~~~~~~~~~~\n",
            "<IPython.core.display.Markdown object>\n",
            "~~~~~~~~~~~~~~~~~~~~~~~~~~~~~~~~~8~~~~~~~~~~~~~~~~~~~~~~~~~~~~~~~~~~~~~~\n",
            "<IPython.core.display.Markdown object>\n",
            "~~~~~~~~~~~~~~~~~~~~~~~~~~~~~~~~~9~~~~~~~~~~~~~~~~~~~~~~~~~~~~~~~~~~~~~~\n",
            "<IPython.core.display.Markdown object>\n",
            "~~~~~~~~~~~~~~~~~~~~~~~~~~~~~~~~~10~~~~~~~~~~~~~~~~~~~~~~~~~~~~~~~~~~~~~~\n",
            "<IPython.core.display.Markdown object>\n",
            "index 2 \t Sid: 382\n",
            "~~~~~~~~~~~~~~~~~~~~~~~~~~~~~~~~~0~~~~~~~~~~~~~~~~~~~~~~~~~~~~~~~~~~~~~~\n",
            "<IPython.core.display.Markdown object>\n",
            "~~~~~~~~~~~~~~~~~~~~~~~~~~~~~~~~~1~~~~~~~~~~~~~~~~~~~~~~~~~~~~~~~~~~~~~~\n",
            "<IPython.core.display.Markdown object>\n",
            "~~~~~~~~~~~~~~~~~~~~~~~~~~~~~~~~~2~~~~~~~~~~~~~~~~~~~~~~~~~~~~~~~~~~~~~~\n",
            "<IPython.core.display.Markdown object>\n",
            "~~~~~~~~~~~~~~~~~~~~~~~~~~~~~~~~~3~~~~~~~~~~~~~~~~~~~~~~~~~~~~~~~~~~~~~~\n",
            "<IPython.core.display.Markdown object>\n",
            "~~~~~~~~~~~~~~~~~~~~~~~~~~~~~~~~~4~~~~~~~~~~~~~~~~~~~~~~~~~~~~~~~~~~~~~~\n",
            "<IPython.core.display.Markdown object>\n",
            "~~~~~~~~~~~~~~~~~~~~~~~~~~~~~~~~~5~~~~~~~~~~~~~~~~~~~~~~~~~~~~~~~~~~~~~~\n",
            "<IPython.core.display.Markdown object>\n",
            "~~~~~~~~~~~~~~~~~~~~~~~~~~~~~~~~~6~~~~~~~~~~~~~~~~~~~~~~~~~~~~~~~~~~~~~~\n",
            "<IPython.core.display.Markdown object>\n",
            "~~~~~~~~~~~~~~~~~~~~~~~~~~~~~~~~~7~~~~~~~~~~~~~~~~~~~~~~~~~~~~~~~~~~~~~~\n",
            "<IPython.core.display.Markdown object>\n",
            "~~~~~~~~~~~~~~~~~~~~~~~~~~~~~~~~~8~~~~~~~~~~~~~~~~~~~~~~~~~~~~~~~~~~~~~~\n",
            "<IPython.core.display.Markdown object>\n",
            "~~~~~~~~~~~~~~~~~~~~~~~~~~~~~~~~~9~~~~~~~~~~~~~~~~~~~~~~~~~~~~~~~~~~~~~~\n",
            "<IPython.core.display.Markdown object>\n",
            "~~~~~~~~~~~~~~~~~~~~~~~~~~~~~~~~~10~~~~~~~~~~~~~~~~~~~~~~~~~~~~~~~~~~~~~~\n",
            "<IPython.core.display.Markdown object>\n",
            "index 3 \t Sid: 384\n",
            "~~~~~~~~~~~~~~~~~~~~~~~~~~~~~~~~~0~~~~~~~~~~~~~~~~~~~~~~~~~~~~~~~~~~~~~~\n",
            "<IPython.core.display.Markdown object>\n",
            "~~~~~~~~~~~~~~~~~~~~~~~~~~~~~~~~~1~~~~~~~~~~~~~~~~~~~~~~~~~~~~~~~~~~~~~~\n",
            "<IPython.core.display.Markdown object>\n",
            "~~~~~~~~~~~~~~~~~~~~~~~~~~~~~~~~~2~~~~~~~~~~~~~~~~~~~~~~~~~~~~~~~~~~~~~~\n",
            "<IPython.core.display.Markdown object>\n",
            "~~~~~~~~~~~~~~~~~~~~~~~~~~~~~~~~~3~~~~~~~~~~~~~~~~~~~~~~~~~~~~~~~~~~~~~~\n",
            "<IPython.core.display.Markdown object>\n",
            "~~~~~~~~~~~~~~~~~~~~~~~~~~~~~~~~~4~~~~~~~~~~~~~~~~~~~~~~~~~~~~~~~~~~~~~~\n",
            "<IPython.core.display.Markdown object>\n",
            "~~~~~~~~~~~~~~~~~~~~~~~~~~~~~~~~~5~~~~~~~~~~~~~~~~~~~~~~~~~~~~~~~~~~~~~~\n",
            "<IPython.core.display.Markdown object>\n",
            "~~~~~~~~~~~~~~~~~~~~~~~~~~~~~~~~~6~~~~~~~~~~~~~~~~~~~~~~~~~~~~~~~~~~~~~~\n",
            "<IPython.core.display.Markdown object>\n",
            "~~~~~~~~~~~~~~~~~~~~~~~~~~~~~~~~~7~~~~~~~~~~~~~~~~~~~~~~~~~~~~~~~~~~~~~~\n",
            "<IPython.core.display.Markdown object>\n",
            "~~~~~~~~~~~~~~~~~~~~~~~~~~~~~~~~~8~~~~~~~~~~~~~~~~~~~~~~~~~~~~~~~~~~~~~~\n",
            "<IPython.core.display.Markdown object>\n",
            "~~~~~~~~~~~~~~~~~~~~~~~~~~~~~~~~~9~~~~~~~~~~~~~~~~~~~~~~~~~~~~~~~~~~~~~~\n",
            "<IPython.core.display.Markdown object>\n",
            "~~~~~~~~~~~~~~~~~~~~~~~~~~~~~~~~~10~~~~~~~~~~~~~~~~~~~~~~~~~~~~~~~~~~~~~~\n",
            "<IPython.core.display.Markdown object>\n",
            "index 4 \t Sid: 408\n",
            "~~~~~~~~~~~~~~~~~~~~~~~~~~~~~~~~~0~~~~~~~~~~~~~~~~~~~~~~~~~~~~~~~~~~~~~~\n",
            "<IPython.core.display.Markdown object>\n",
            "~~~~~~~~~~~~~~~~~~~~~~~~~~~~~~~~~1~~~~~~~~~~~~~~~~~~~~~~~~~~~~~~~~~~~~~~\n",
            "<IPython.core.display.Markdown object>\n",
            "~~~~~~~~~~~~~~~~~~~~~~~~~~~~~~~~~2~~~~~~~~~~~~~~~~~~~~~~~~~~~~~~~~~~~~~~\n",
            "<IPython.core.display.Markdown object>\n",
            "~~~~~~~~~~~~~~~~~~~~~~~~~~~~~~~~~3~~~~~~~~~~~~~~~~~~~~~~~~~~~~~~~~~~~~~~\n",
            "<IPython.core.display.Markdown object>\n",
            "~~~~~~~~~~~~~~~~~~~~~~~~~~~~~~~~~4~~~~~~~~~~~~~~~~~~~~~~~~~~~~~~~~~~~~~~\n",
            "<IPython.core.display.Markdown object>\n",
            "~~~~~~~~~~~~~~~~~~~~~~~~~~~~~~~~~5~~~~~~~~~~~~~~~~~~~~~~~~~~~~~~~~~~~~~~\n",
            "<IPython.core.display.Markdown object>\n",
            "~~~~~~~~~~~~~~~~~~~~~~~~~~~~~~~~~6~~~~~~~~~~~~~~~~~~~~~~~~~~~~~~~~~~~~~~\n",
            "<IPython.core.display.Markdown object>\n",
            "~~~~~~~~~~~~~~~~~~~~~~~~~~~~~~~~~7~~~~~~~~~~~~~~~~~~~~~~~~~~~~~~~~~~~~~~\n",
            "<IPython.core.display.Markdown object>\n",
            "~~~~~~~~~~~~~~~~~~~~~~~~~~~~~~~~~8~~~~~~~~~~~~~~~~~~~~~~~~~~~~~~~~~~~~~~\n",
            "<IPython.core.display.Markdown object>\n",
            "~~~~~~~~~~~~~~~~~~~~~~~~~~~~~~~~~9~~~~~~~~~~~~~~~~~~~~~~~~~~~~~~~~~~~~~~\n",
            "<IPython.core.display.Markdown object>\n",
            "~~~~~~~~~~~~~~~~~~~~~~~~~~~~~~~~~10~~~~~~~~~~~~~~~~~~~~~~~~~~~~~~~~~~~~~~\n",
            "<IPython.core.display.Markdown object>\n"
          ]
        }
      ]
    },
    {
      "cell_type": "markdown",
      "source": [
        "# Evaluation\n",
        "\n",
        "\n",
        "*   Persicion\n",
        "*   Recall\n",
        "*   F-1\n",
        "\n"
      ],
      "metadata": {
        "id": "AfAT6QE4lyCU"
      }
    },
    {
      "cell_type": "code",
      "source": [
        "loadData = pd.read_csv('prompting_with_techniques_guide.csv')\n",
        "true_labels = loadData['True_labels']\n",
        "predicted_labels = loadData['Technique_id']\n",
        "\n",
        "evaluation(true_labels, predicted_labels)\n"
      ],
      "metadata": {
        "id": "tEyK5479k9JS"
      },
      "execution_count": null,
      "outputs": []
    },
    {
      "cell_type": "markdown",
      "source": [
        "# Original\n",
        "\n",
        "## Same code without split data (long running)"
      ],
      "metadata": {
        "id": "a_BIf2pFhW1g"
      }
    },
    {
      "cell_type": "code",
      "source": [
        "for index, rule in enumerate(rules_list[:5]): # 162 rules\n",
        "  print(f\"index {index} \\t Sid: {data['Sid'][index]}\")\n",
        "\n",
        "  # Splice from index 1 to index 3 (exclusive)\n",
        "  start_index = 0\n",
        "  #end_index = 1\n",
        "  spliced_dict = {k: MITRE_Technique[k] for k in list(MITRE_Technique.keys())[start_index:]}\n",
        "\n",
        "\n",
        "  tg_dict = {}\n",
        "  count = 0 #####\n",
        "  for tactics, techniques_inside in spliced_dict.items(): # 14 folders  #################### return to MITRE_Technique.items()\n",
        "    print(f\"Tactic check: {tactics}\")\n",
        "    for techniques in techniques_inside[:1]:\n",
        "      print(f\"inside folder tactic: {techniques}\\n\")\n",
        "      res = tg(rule, tactics, techniques)\n",
        "      sid = data['Sid'][index]\n",
        "      if sid not in tg_dict:\n",
        "        tg_dict[sid] = []\n",
        "        tg_dict[sid].append(to_markdown(str(res.content)))\n",
        "      else:\n",
        "        tg_dict[sid].append(to_markdown(str(res.content)))\n",
        "      print(f\"~~~~~~~~~~~~~~~~~~~~~~~~~~~~~~~~~{count}~~~~~~~~~~~~~~~~~~~~~~~~~~~~~~~~~~~~~~\") #####\n",
        "      print(to_markdown(str(res.content)))\n",
        "      count += 1 #######\n",
        "      time.sleep(20)\n",
        "\n",
        "  # Write to csv\n",
        "  appendToCSV(tg_dict, index)\n"
      ],
      "metadata": {
        "colab": {
          "base_uri": "https://localhost:8080/",
          "height": 1000
        },
        "id": "2zHxHP-OhXiR",
        "outputId": "3e0169b0-c144-4c02-f933-1f51c1fa09b1"
      },
      "execution_count": null,
      "outputs": [
        {
          "output_type": "stream",
          "name": "stdout",
          "text": [
            "index 0 \t Sid: 286\n",
            "Tactic check: Persistence\n",
            "inside folder tactic: {'T1547.014': ['Active Setup', 'Adversaries may achieve persistence by adding a Registry key to the Active Setup of the local machine'], 'T1547.015': ['Login Items', 'Adversaries may add login items to execute upon user login to gain persistence or escalate privileges'], 'T1037': ['Boot or Logon Initialization Scripts', 'Adversaries may use scripts automatically executed at boot or logon initialization to establish persistence'], 'T1037.001': ['Logon Script (Windows)', 'Adversaries may use Windows logon scripts automatically executed at logon initialization to establish persistence'], 'T1037.002': ['Login Hook', 'Adversaries may use a Login Hook to establish persistence executed upon user logon'], 'T1037.003': ['Network Logon Script', 'Adversaries may use network logon scripts automatically executed at logon initialization to establish persistence'], 'T1037.004': ['RC Scripts', 'Adversaries may establish persistence by modifying RC scripts which are executed during a Unix-like system’s startup'], 'T1037.005': ['Startup Items', 'Adversaries may use startup items automatically executed at boot initialization to establish persistence'], 'T1176': ['Browser Extensions', 'Adversaries may abuse Internet browser extensions to establish persistent access to victim systems'], 'T1554': ['Compromise Client Software Binary', 'Adversaries may modify client software binaries to establish persistent access to systems'], 'T1136': ['Create Account', 'Adversaries may create an account to maintain access to victim systems'], 'T1136.001': ['Local Account', 'Adversaries may create a local account to maintain access to victim systems'], 'T1136.002': ['Domain Account', 'Adversaries may create a domain account to maintain access to victim systems'], 'T1136.003': ['Cloud Account', 'Adversaries may create a cloud account to maintain access to victim systems'], 'T1543': ['Create or Modify System Process', 'Adversaries may create or modify system-level processes to repeatedly execute malicious payloads as part of persistence'], 'T1543.001': ['Launch Agent', 'Adversaries may create or modify launch agents to repeatedly execute malicious payloads as part of persistence'], 'T1543.002': ['Systemd Service', 'Adversaries may create or modify systemd services to repeatedly execute malicious payloads as part of persistence'], 'T1543.003': ['Windows Service', 'Adversaries may create or modify Windows services to repeatedly execute malicious payloads as part of persistence'], 'T1543.004': ['Launch Daemon', 'Adversaries may create or modify Launch Daemons to execute malicious payloads as part of persistence'], 'T1546': ['Event Triggered Execution', 'Adversaries may establish persistence and/or elevate privileges using system mechanisms that trigger execution based on specific events'], 'T1546.001': ['Change Default File Association', 'Adversaries may establish persistence by executing malicious content triggered by a file type association'], 'T1546.002': ['Screensaver', 'Adversaries may establish persistence by executing malicious content triggered by user inactivity'], 'T1546.003': ['Windows Management Instrumentation Event Subscription', 'Adversaries may establish persistence and elevate privileges by executing malicious content triggered by a Windows Management Instrumentation (WMI) event subscription']}\n",
            "\n",
            "~~~~~~~~~~~~~~~~~~~~~~~~~~~~~~~~~0~~~~~~~~~~~~~~~~~~~~~~~~~~~~~~~~~~~~~~\n",
            "<IPython.core.display.Markdown object>\n",
            "Tactic check: Impact\n",
            "inside folder tactic: {'T1531': ['Account Access Removal', 'Adversaries may interrupt availability of system and network resources by inhibiting access to accounts utilized by legitimate users'], 'T1485': ['Data Destruction', 'Adversaries may destroy data and files on specific systems or in large numbers on a network to interrupt availability to systems, services, and network resources'], 'T1486': ['Data Encrypted for Impact', 'Adversaries may encrypt data on target systems or on large numbers of systems in a network to interrupt availability to system and network resources'], 'T1565': ['Data Manipulation', 'Adversaries may insert, delete, or manipulate data in order to influence external outcomes or hide activity, thus threatening the integrity of the data'], 'T1565.001': ['Stored Data Manipulation', 'Adversaries may insert, delete, or manipulate data at rest in order to influence external outcomes or hide activity, thus threatening the integrity of the data'], 'T1565.002': ['Transmitted Data Manipulation', 'Adversaries may alter data en route to storage or other systems in order to manipulate external outcomes or hide activity, thus threatening the integrity of the data'], 'T1565.003': ['Runtime Data Manipulation', 'Adversaries may modify systems in order to manipulate the data as it is accessed and displayed to an end user, thus threatening the integrity of the data'], 'T1491': ['Defacement', 'Adversaries may modify visual content available internally or externally to an enterprise network, thus affecting the integrity of the original content'], 'T1491.001': ['Internal Defacement', 'An adversary may deface systems internal to an organization in an attempt to intimidate or mislead users, thus discrediting the integrity of the systems'], 'T1491.002': ['External Defacement', 'An adversary may deface systems external to an organization in an attempt to deliver messaging, intimidate, or otherwise mislead an organization or users'], 'T1561': ['Disk Wipe', 'Adversaries may wipe or corrupt raw disk data on specific systems or in large numbers in a network to interrupt availability to system and network resources'], 'T1561.001': ['Disk Content Wipe', 'Adversaries may erase the contents of storage devices on specific systems or in large numbers in a network to interrupt availability to system and network resources'], 'T1561.002': ['Disk Structure Wipe', 'Adversaries may corrupt or wipe the disk data structures on a hard drive necessary to boot a system; targeting specific critical systems or in large numbers in a network to interrupt availability to system and network resources'], 'T1499': ['Endpoint Denial of Service', 'Adversaries may perform Endpoint Denial of Service (DoS) attacks to degrade or block the availability of services to users'], 'T1499.001': ['OS Exhaustion Flood', \"Adversaries may launch a denial of service (DoS) attack targeting an endpoint's operating system (OS)\"], 'T1499.002': ['Service Exhaustion Flood', 'Adversaries may target the different network services provided by systems to conduct a denial of service (DoS)'], 'T1499.003': ['Application Exhaustion Flood', 'Adversaries may target resource intensive features of applications to cause a denial of service (DoS), denying availability to those applications']}\n",
            "\n",
            "~~~~~~~~~~~~~~~~~~~~~~~~~~~~~~~~~1~~~~~~~~~~~~~~~~~~~~~~~~~~~~~~~~~~~~~~\n",
            "<IPython.core.display.Markdown object>\n",
            "Tactic check: Discovery\n",
            "inside folder tactic: {'T1087': ['Account Discovery', 'Adversaries may attempt to get a listing of valid accounts, usernames, or email addresses on a system or within a compromised environment'], 'T1087.001': ['Local Account', 'Adversaries may attempt to get a listing of local system accounts'], 'T1087.002': ['Domain Account', 'Adversaries may attempt to get a listing of domain accounts'], 'T1087.003': ['Email Account', 'Adversaries may attempt to get a listing of email addresses and accounts'], 'T1087.004': ['Cloud Account', 'Adversaries may attempt to get a listing of cloud accounts'], 'T1010': ['Application Window Discovery', 'Adversaries may attempt to get a listing of open application windows'], 'T1217': ['Browser Information Discovery', 'Adversaries may enumerate information about browsers to learn more about compromised environments'], 'T1580': ['Cloud Infrastructure Discovery', 'An adversary may attempt to discover infrastructure and resources that are available within an infrastructure-as-a-service (IaaS) environment'], 'T1538': ['Cloud Service Dashboard', 'An adversary may use a cloud service dashboard GUI with stolen credentials to gain useful information from an operational cloud environment, such as specific services, resources, and features'], 'T1526': ['Cloud Service Discovery', 'An adversary may attempt to enumerate the cloud services running on a system after gaining access'], 'T1619': ['Cloud Storage Object Discovery', 'Adversaries may enumerate objects in cloud storage infrastructure'], 'T1613': ['Container and Resource Discovery', 'Adversaries may attempt to discover containers and other resources that are available within a containers environment'], 'T1622': ['Debugger Evasion', 'Adversaries may employ various means to detect and avoid debuggers'], 'T1652': ['Device Driver Discovery', 'Adversaries may attempt to enumerate local device drivers on a victim host'], 'T1482': ['Domain Trust Discovery', 'Adversaries may attempt to gather information on domain trust relationships that may be used to identify lateral movement opportunities in Windows multi-domain/forest environments'], 'T1083': ['File and Directory Discovery', 'Adversaries may enumerate files and directories or may search in specific locations of a host or network share for certain information within a file system'], 'T1615': ['Group Policy Discovery', 'Adversaries may gather information on Group Policy settings to identify paths for privilege escalation, security measures applied within a domain, and to discover patterns in domain objects that can be manipulated or used to blend in the environment'], 'T1654': ['Log Enumeration', 'Adversaries may enumerate system and service logs to find useful data'], 'T1046': ['Network Service Discovery', 'Adversaries may attempt to get a listing of services running on remote hosts and local network infrastructure devices, including those that may be vulnerable to remote software exploitation'], 'T1135': ['Network Share Discovery', 'Adversaries may look for folders and drives shared on remote systems as a means of identifying sources of information to gather as a precursor for Collection and to identify potential systems of interest for Lateral Movement']}\n",
            "\n",
            "~~~~~~~~~~~~~~~~~~~~~~~~~~~~~~~~~2~~~~~~~~~~~~~~~~~~~~~~~~~~~~~~~~~~~~~~\n",
            "<IPython.core.display.Markdown object>\n",
            "Tactic check: Execution\n",
            "inside folder tactic: {'T1648': ['Serverless Execution', 'Adversaries may abuse serverless computing, integration, and automation services to execute arbitrary code in cloud environments'], 'T1129': ['Shared Modules', 'Adversaries may execute malicious payloads via loading shared modules'], 'T1072': ['Software Deployment Tools', 'Adversaries may gain access to and use third-party software suites installed within an enterprise network, such as administration, monitoring, and deployment systems, to move laterally through the network'], 'T1569': ['System Services', 'Adversaries may abuse system services or daemons to execute commands or programs'], 'T1569.001': ['Launchctl', 'Adversaries may abuse launchctl to execute commands or programs'], 'T1569.002': ['Service Execution', 'Adversaries may abuse the Windows service control manager to execute malicious commands or payloads'], 'T1204': ['User Execution', 'An adversary may rely upon specific actions by a user in order to gain execution'], 'T1204.001': ['Malicious Link', 'An adversary may rely upon a user clicking a malicious link in order to gain execution'], 'T1204.002': ['Malicious File', 'An adversary may rely upon a user opening a malicious file in order to gain execution'], 'T1204.003': ['Malicious Image', 'Adversaries may rely on a user running a malicious image to facilitate execution'], 'T1047': ['Windows Management Instrumentation', 'Adversaries may abuse Windows Management Instrumentation (WMI) to execute malicious commands and payloads']}\n",
            "\n",
            "~~~~~~~~~~~~~~~~~~~~~~~~~~~~~~~~~3~~~~~~~~~~~~~~~~~~~~~~~~~~~~~~~~~~~~~~\n",
            "<IPython.core.display.Markdown object>\n",
            "Tactic check: Command and Control\n",
            "inside folder tactic: {'T1071': ['Application Layer Protocol', 'Adversaries may communicate using OSI application layer protocols to avoid detection/network filtering by blending in with existing traffic'], 'T1071.001': ['Web Protocols', 'Adversaries may communicate using application layer protocols associated with web traffic to avoid detection/network filtering by blending in with existing traffic'], 'T1071.002': ['File Transfer Protocols', 'Adversaries may communicate using application layer protocols associated with transferring files to avoid detection/network filtering by blending in with existing traffic'], 'T1071.003': ['Mail Protocols', 'Adversaries may communicate using application layer protocols associated with electronic mail delivery to avoid detection/network filtering by blending in with existing traffic'], 'T1071.004': ['DNS', 'Adversaries may communicate using the Domain Name System (DNS) application layer protocol to avoid detection/network filtering by blending in with existing traffic'], 'T1092': ['Communication Through Removable Media', 'Adversaries can perform command and control between compromised hosts on potentially disconnected networks using removable media to transfer commands from system to system'], 'T1659': ['Content Injection', 'Adversaries may gain access and continuously communicate with victims by injecting malicious content into systems through online network traffic'], 'T1132': ['Data Encoding', 'Adversaries may encode data to make the content of command and control traffic more difficult to detect'], 'T1132.001': ['Standard Encoding', 'Adversaries may encode data with a standard data encoding system to make the content of command and control traffic more difficult to detect'], 'T1132.002': ['Non-Standard Encoding', 'Adversaries may encode data with a non-standard data encoding system to make the content of command and control traffic more difficult to detect'], 'T1001': ['Data Obfuscation', 'Adversaries may obfuscate command and control traffic to make it more difficult to detect'], 'T1001.001': ['Junk Data', 'Adversaries may add junk data to protocols used for command and control to make detection more difficult'], 'T1001.002': ['Steganography', 'Adversaries may use steganographic techniques to hide command and control traffic to make detection efforts more difficult'], 'T1001.003': ['Protocol Impersonation', 'Adversaries may impersonate legitimate protocols or web service traffic to disguise command and control activity and thwart analysis efforts'], 'T1568': ['Dynamic Resolution', 'Adversaries may dynamically establish connections to command and control infrastructure to evade common detections and remediations'], 'T1568.001': ['Fast Flux DNS', 'Adversaries may use Fast Flux DNS to hide a command and control channel behind an array of rapidly changing IP addresses linked to a single domain resolution'], 'T1568.002': ['Domain Generation Algorithms', 'Adversaries may make use of Domain Generation Algorithms (DGAs) to dynamically identify a destination domain for command and control traffic rather than relying on a list of static IP addresses or domains']}\n",
            "\n",
            "~~~~~~~~~~~~~~~~~~~~~~~~~~~~~~~~~4~~~~~~~~~~~~~~~~~~~~~~~~~~~~~~~~~~~~~~\n",
            "<IPython.core.display.Markdown object>\n",
            "Tactic check: Privilege Escalation\n",
            "inside folder tactic: {'T1053.003': ['Cron', 'Adversaries may abuse the cron utility to perform task scheduling for initial or recurring execution of malicious code'], 'T1053.005': ['Scheduled Task', 'Adversaries may abuse the Windows Task Scheduler to perform task scheduling for initial or recurring execution of malicious code'], 'T1053.006': ['Systemd Timers', 'Adversaries may abuse systemd timers to perform task scheduling for initial or recurring execution of malicious code'], 'T1053.007': ['Container Orchestration Job', 'Adversaries may abuse task scheduling functionality provided by container orchestration tools such as Kubernetes to schedule deployment of containers configured to execute malicious code'], 'T1078': ['Valid Accounts', 'Adversaries may obtain and abuse credentials of existing accounts as a means of gaining Initial Access, Persistence, Privilege Escalation, or Defense Evasion'], 'T1078.001': ['Default Accounts', 'Adversaries may obtain and abuse credentials of a default account as a means of gaining Initial Access, Persistence, Privilege Escalation, or Defense Evasion'], 'T1078.002': ['Domain Accounts', 'Adversaries may obtain and abuse credentials of a domain account as a means of gaining Initial Access, Persistence, Privilege Escalation, or Defense Evasion'], 'T1078.003': ['Local Accounts', 'Adversaries may obtain and abuse credentials of a local account as a means of gaining Initial Access, Persistence, Privilege Escalation, or Defense Evasion'], 'T1078.004': ['Cloud Accounts', 'Valid accounts in cloud environments may allow adversaries to perform actions to achieve Initial Access, Persistence, Privilege Escalation, or Defense Evasion']}\n",
            "\n",
            "~~~~~~~~~~~~~~~~~~~~~~~~~~~~~~~~~5~~~~~~~~~~~~~~~~~~~~~~~~~~~~~~~~~~~~~~\n",
            "<IPython.core.display.Markdown object>\n",
            "Tactic check: Defense Evasion\n",
            "inside folder tactic: {'T1484.002': ['Domain Trust Modification', 'Adversaries may add new domain trusts or modify the properties of existing domain trusts to evade defenses and/or elevate privileges'], 'T1480': ['Execution Guardrails', 'Adversaries may use execution guardrails to constrain execution or actions based on adversary supplied and environment specific conditions that are expected to be present on the target'], 'T1480.001': ['Environmental Keying', 'Adversaries may environmentally key payloads or other features of malware to evade defenses and constraint execution to a specific target environment'], 'T1211': ['Exploitation for Defense Evasion', 'Adversaries may exploit a system or application vulnerability to bypass security features'], 'T1222': ['File and Directory Permissions Modification', 'Adversaries may modify file or directory permissions/attributes to evade access control lists (ACLs) and access protected files'], 'T1222.001': ['Windows File and Directory Permissions Modification', 'Adversaries may modify file or directory permissions/attributes to evade access control lists (ACLs) and access protected files'], 'T1222.002': ['Linux and Mac File and Directory Permissions Modification', 'Adversaries may modify file or directory permissions/attributes to evade access control lists (ACLs) and access protected files'], 'T1564': ['Hide Artifacts', 'Adversaries may attempt to hide artifacts associated with their behaviors to evade detection'], 'T1564.001': ['Hidden Files and Directories', 'Adversaries may set files and directories to be hidden to evade detection mechanisms'], 'T1564.002': ['Hidden Users', 'Adversaries may use hidden users to hide the presence of user accounts they create or modify'], 'T1564.003': ['Hidden Window', 'Adversaries may use hidden windows to conceal malicious activity from the plain sight of users'], 'T1564.004': ['NTFS File Attributes', 'Adversaries may use NTFS file attributes to hide their malicious data in order to evade detection'], 'T1564.005': ['Hidden File System', 'Adversaries may use a hidden file system to conceal malicious activity from users and security tools'], 'T1564.006': ['Run Virtual Instance', 'Adversaries may carry out malicious operations using a virtual instance to avoid detection'], 'T1564.007': ['VBA Stomping', 'Adversaries may hide malicious Visual Basic for Applications (VBA) payloads embedded within MS Office documents by replacing the VBA source code with benign data'], 'T1564.008': ['Email Hiding Rules', \"Adversaries may use email rules to hide inbound emails in a compromised user's mailbox\"], 'T1564.009': ['Resource Forking', 'Adversaries may abuse resource forks to hide malicious code or executables to evade detection and bypass security applications'], 'T1564.010': ['Process Argument Spoofing', 'Adversaries may attempt to hide process command-line arguments by overwriting process memory'], 'T1564.011': ['Ignore Process Interrupts', 'Adversaries may evade defensive mechanisms by executing commands that hide from process interrupt signals'], 'T1574': ['Hijack Execution Flow', 'Adversaries may execute their own malicious payloads by hijacking the way operating systems run programs']}\n",
            "\n",
            "~~~~~~~~~~~~~~~~~~~~~~~~~~~~~~~~~6~~~~~~~~~~~~~~~~~~~~~~~~~~~~~~~~~~~~~~\n",
            "<IPython.core.display.Markdown object>\n",
            "Tactic check: Credential Access\n",
            "inside folder tactic: {'T1557': ['Adversary-in-the-Middle', 'Adversaries may attempt to position themselves between two or more networked devices using an adversary-in-the-middle (AiTM) technique to support follow-on behaviors such as Network Sniffing, Transmitted Data Manipulation, or replay attacks (Exploitation for Credential Access)'], 'T1557.001': ['LLMNR/NBT-NS Poisoning and SMB Relay', 'By responding to LLMNR/NBT-NS network traffic, adversaries may spoof an authoritative source for name resolution to force communication with an adversary controlled system'], 'T1557.002': ['ARP Cache Poisoning', 'Adversaries may poison Address Resolution Protocol (ARP) caches to position themselves between the communication of two or more networked devices'], 'T1557.003': ['DHCP Spoofing', 'Adversaries may redirect network traffic to adversary-owned systems by spoofing Dynamic Host Configuration Protocol (DHCP) traffic and acting as a malicious DHCP server on the victim network'], 'T1110': ['Brute Force', 'Adversaries may use brute force techniques to gain access to accounts when passwords are unknown or when password hashes are obtained'], 'T1110.001': ['Password Guessing', 'Adversaries with no prior knowledge of legitimate credentials within the system or environment may guess passwords to attempt access to accounts'], 'T1110.002': ['Password Cracking', 'Adversaries may use password cracking to attempt to recover usable credentials, such as plaintext passwords, when credential material such as password hashes are obtained'], 'T1110.003': ['Password Spraying', 'Adversaries may use a single or small list of commonly used passwords against many different accounts to attempt to acquire valid account credentials'], 'T1110.004': ['Credential Stuffing', 'Adversaries may use credentials obtained from breach dumps of unrelated accounts to gain access to target accounts through credential overlap'], 'T1555': ['Credentials from Password Stores', 'Adversaries may search for common password storage locations to obtain user credentials'], 'T1555.001': ['Keychain', 'Adversaries may acquire credentials from Keychain'], 'T1555.002': ['Securityd Memory', 'An adversary may obtain root access (allowing them to read securityd’s memory), then they can scan through memory to find the correct sequence of keys in relatively few tries to decrypt the user’s logon keychain'], 'T1555.003': ['Credentials from Web Browsers', 'Adversaries may acquire credentials from web browsers by reading files specific to the target browser'], 'T1555.004': ['Windows Credential Manager', 'Adversaries may acquire credentials from the Windows Credential Manager'], 'T1555.005': ['Password Managers', 'Adversaries may acquire user credentials from third-party password managers'], 'T1555.006': ['Cloud Secrets Management Stores', 'Adversaries may acquire credentials from cloud-native secret management solutions such as AWS Secrets Manager, GCP Secret Manager, Azure Key Vault, and Terraform Vault'], 'T1212': ['Exploitation for Credential Access', 'Adversaries may exploit software vulnerabilities in an attempt to collect credentials']}\n",
            "\n",
            "~~~~~~~~~~~~~~~~~~~~~~~~~~~~~~~~~7~~~~~~~~~~~~~~~~~~~~~~~~~~~~~~~~~~~~~~\n",
            "<IPython.core.display.Markdown object>\n",
            "Tactic check: Collection\n",
            "inside folder tactic: {'T1557': ['Adversary-in-the-Middle', 'Adversaries may attempt to position themselves between two or more networked devices using an adversary-in-the-middle (AiTM) technique to support follow-on behaviors such as Network Sniffing, Transmitted Data Manipulation, or replay attacks (Exploitation for Credential Access)'], 'T1557.001': ['LLMNR/NBT-NS Poisoning and SMB Relay', 'By responding to LLMNR/NBT-NS network traffic, adversaries may spoof an authoritative source for name resolution to force communication with an adversary controlled system'], 'T1557.002': ['ARP Cache Poisoning', 'Adversaries may poison Address Resolution Protocol (ARP) caches to position themselves between the communication of two or more networked devices'], 'T1557.003': ['DHCP Spoofing', 'Adversaries may redirect network traffic to adversary-owned systems by spoofing Dynamic Host Configuration Protocol (DHCP) traffic and acting as a malicious DHCP server on the victim network'], 'T1560': ['Archive Collected Data', 'An adversary may compress and/or encrypt data that is collected prior to exfiltration'], 'T1560.001': ['Archive via Utility', 'Adversaries may use utilities to compress and/or encrypt collected data prior to exfiltration'], 'T1560.002': ['Archive via Library', 'An adversary may compress or encrypt data that is collected prior to exfiltration using 3rd party libraries'], 'T1560.003': ['Archive via Custom Method', 'An adversary may compress or encrypt data that is collected prior to exfiltration using a custom method'], 'T1123': ['Audio Capture', \"An adversary can leverage a computer's peripheral devices (e\"], 'T1119': ['Automated Collection', 'Once established within a system or network, an adversary may use automated techniques for collecting internal data'], 'T1185': ['Browser Session Hijacking', 'Adversaries may take advantage of security vulnerabilities and inherent functionality in browser software to change content, modify user-behaviors, and intercept information as part of various browser session hijacking techniques'], 'T1115': ['Clipboard Data', 'Adversaries may collect data stored in the clipboard from users copying information within or between applications'], 'T1530': ['Data from Cloud Storage', 'Adversaries may access data from cloud storage'], 'T1602': ['Data from Configuration Repository', 'Adversaries may collect data related to managed devices from configuration repositories'], 'T1602.001': ['SNMP (MIB Dump)', 'Adversaries may target the Management Information Base (MIB) to collect and/or mine valuable information in a network managed using Simple Network Management Protocol (SNMP)'], 'T1602.002': ['Network Device Configuration Dump', 'Adversaries may access network configuration files to collect sensitive data about the device and the network'], 'T1213': ['Data from Information Repositories', 'Adversaries may leverage information repositories to mine valuable information'], 'T1213.001': ['Confluence', 'Adversaries may leverage Confluence repositories to mine valuable information'], 'T1213.002': ['Sharepoint', 'Adversaries may leverage the SharePoint repository as a source to mine valuable information']}\n",
            "\n",
            "~~~~~~~~~~~~~~~~~~~~~~~~~~~~~~~~~8~~~~~~~~~~~~~~~~~~~~~~~~~~~~~~~~~~~~~~\n",
            "<IPython.core.display.Markdown object>\n",
            "Tactic check: Reconnaissance\n",
            "inside folder tactic: {'T1595': ['Active Scanning', 'Adversaries may execute active reconnaissance scans to gather information that can be used during targeting'], 'T1595.001': ['Scanning IP Blocks', 'Adversaries may scan victim IP blocks to gather information that can be used during targeting'], 'T1595.002': ['Vulnerability Scanning', 'Adversaries may scan victims for vulnerabilities that can be used during targeting'], 'T1595.003': ['Wordlist Scanning', 'Adversaries may iteratively probe infrastructure using brute-forcing and crawling techniques'], 'T1592': ['Gather Victim Host Information', \"Adversaries may gather information about the victim's hosts that can be used during targeting\"], 'T1592.001': ['Hardware', \"Adversaries may gather information about the victim's host hardware that can be used during targeting\"], 'T1592.002': ['Software', \"Adversaries may gather information about the victim's host software that can be used during targeting\"], 'T1592.003': ['Firmware', \"Adversaries may gather information about the victim's host firmware that can be used during targeting\"], 'T1592.004': ['Client Configurations', \"Adversaries may gather information about the victim's client configurations that can be used during targeting\"], 'T1589': ['Gather Victim Identity Information', \"Adversaries may gather information about the victim's identity that can be used during targeting\"], 'T1589.001': ['Credentials', 'Adversaries may gather credentials that can be used during targeting'], 'T1589.002': ['Email Addresses', 'Adversaries may gather email addresses that can be used during targeting'], 'T1589.003': ['Employee Names', 'Adversaries may gather employee names that can be used during targeting'], 'T1590': ['Gather Victim Network Information', \"Adversaries may gather information about the victim's networks that can be used during targeting\"], 'T1590.001': ['Domain Properties', \"Adversaries may gather information about the victim's network domain(s) that can be used during targeting\"], 'T1590.002': ['DNS', \"Adversaries may gather information about the victim's DNS that can be used during targeting\"], 'T1590.003': ['Network Trust Dependencies', \"Adversaries may gather information about the victim's network trust dependencies that can be used during targeting\"], 'T1590.004': ['Network Topology', \"Adversaries may gather information about the victim's network topology that can be used during targeting\"], 'T1590.005': ['IP Addresses', \"Adversaries may gather the victim's IP addresses that can be used during targeting\"], 'T1590.006': ['Network Security Appliances', \"Adversaries may gather information about the victim's network security appliances that can be used during targeting\"], 'T1591': ['Gather Victim Org Information', \"Adversaries may gather information about the victim's organization that can be used during targeting\"], 'T1591.001': ['Determine Physical Locations', \"Adversaries may gather the victim's physical location(s) that can be used during targeting\"], 'T1591.002': ['Business Relationships', \"Adversaries may gather information about the victim's business relationships that can be used during targeting\"]}\n",
            "\n",
            "~~~~~~~~~~~~~~~~~~~~~~~~~~~~~~~~~9~~~~~~~~~~~~~~~~~~~~~~~~~~~~~~~~~~~~~~\n",
            "<IPython.core.display.Markdown object>\n",
            "Tactic check: Exfiltration\n",
            "inside folder tactic: {'T1020': ['Automated Exfiltration', 'Adversaries may exfiltrate data, such as sensitive documents, through the use of automated processing after being gathered during Collection'], 'T1020.001': ['Traffic Duplication', 'Adversaries may leverage traffic mirroring in order to automate data exfiltration over compromised infrastructure'], 'T1030': ['Data Transfer Size Limits', 'An adversary may exfiltrate data in fixed size chunks instead of whole files or limit packet sizes below certain thresholds'], 'T1048': ['Exfiltration Over Alternative Protocol', 'Adversaries may steal data by exfiltrating it over a different protocol than that of the existing command and control channel'], 'T1048.001': ['Exfiltration Over Symmetric Encrypted Non-C2 Protocol', 'Adversaries may steal data by exfiltrating it over a symmetrically encrypted network protocol other than that of the existing command and control channel'], 'T1048.002': ['Exfiltration Over Asymmetric Encrypted Non-C2 Protocol', 'Adversaries may steal data by exfiltrating it over an asymmetrically encrypted network protocol other than that of the existing command and control channel'], 'T1048.003': ['Exfiltration Over Unencrypted Non-C2 Protocol', 'Adversaries may steal data by exfiltrating it over an un-encrypted network protocol other than that of the existing command and control channel'], 'T1041': ['Exfiltration Over C2 Channel', 'Adversaries may steal data by exfiltrating it over an existing command and control channel'], 'T1011': ['Exfiltration Over Other Network Medium', 'Adversaries may attempt to exfiltrate data over a different network medium than the command and control channel'], 'T1011.001': ['Exfiltration Over Bluetooth', 'Adversaries may attempt to exfiltrate data over Bluetooth rather than the command and control channel'], 'T1052': ['Exfiltration Over Physical Medium', 'Adversaries may attempt to exfiltrate data via a physical medium, such as a removable drive'], 'T1052.001': ['Exfiltration over USB', 'Adversaries may attempt to exfiltrate data over a USB connected physical device'], 'T1567': ['Exfiltration Over Web Service', 'Adversaries may use an existing, legitimate external Web service to exfiltrate data rather than their primary command and control channel'], 'T1567.001': ['Exfiltration to Code Repository', 'Adversaries may exfiltrate data to a code repository rather than over their primary command and control channel'], 'T1567.002': ['Exfiltration to Cloud Storage', 'Adversaries may exfiltrate data to a cloud storage service rather than over their primary command and control channel'], 'T1567.003': ['Exfiltration to Text Storage Sites', 'Adversaries may exfiltrate data to text storage sites instead of their primary command and control channel'], 'T1567.004': ['Exfiltration Over Webhook', 'Adversaries may exfiltrate data to a webhook endpoint rather than over their primary command and control channel'], 'T1029': ['Scheduled Transfer', 'Adversaries may schedule data exfiltration to be performed only at certain times of day or at certain intervals'], 'T1537': ['Transfer Data to Cloud Account', 'Adversaries may exfiltrate data by transferring the data, including backups of cloud environments, to another cloud account they control on the same service to avoid typical file transfers/downloads and network-based exfiltration detection']}\n",
            "\n",
            "~~~~~~~~~~~~~~~~~~~~~~~~~~~~~~~~~10~~~~~~~~~~~~~~~~~~~~~~~~~~~~~~~~~~~~~~\n",
            "<IPython.core.display.Markdown object>\n",
            "Tactic check: Initial Access\n",
            "inside folder tactic: {'T1659': ['Content Injection', 'Adversaries may gain access and continuously communicate with victims by injecting malicious content into systems through online network traffic'], 'T1189': ['Drive-by Compromise', 'Adversaries may gain access to a system through a user visiting a website over the normal course of browsing'], 'T1190': ['Exploit Public-Facing Application', 'Adversaries may attempt to exploit a weakness in an Internet-facing host or system to initially access a network'], 'T1133': ['External Remote Services', 'Adversaries may leverage external-facing remote services to initially access and/or persist within a network'], 'T1200': ['Hardware Additions', 'Adversaries may introduce computer accessories, networking hardware, or other computing devices into a system or network that can be used as a vector to gain access'], 'T1566': ['Phishing', 'Adversaries may send phishing messages to gain access to victim systems'], 'T1566.001': ['Spearphishing Attachment', 'Adversaries may send spearphishing emails with a malicious attachment in an attempt to gain access to victim systems'], 'T1566.002': ['Spearphishing Link', 'Adversaries may send spearphishing emails with a malicious link in an attempt to gain access to victim systems'], 'T1566.003': ['Spearphishing via Service', 'Adversaries may send spearphishing messages via third-party services in an attempt to gain access to victim systems'], 'T1566.004': ['Spearphishing Voice', 'Adversaries may use voice communications to ultimately gain access to victim systems'], 'T1091': ['Replication Through Removable Media', 'Adversaries may move onto systems, possibly those on disconnected or air-gapped networks, by copying malware to removable media and taking advantage of Autorun features when the media is inserted into a system and executes'], 'T1195': ['Supply Chain Compromise', 'Adversaries may manipulate products or product delivery mechanisms prior to receipt by a final consumer for the purpose of data or system compromise'], 'T1195.001': ['Compromise Software Dependencies and Development Tools', 'Adversaries may manipulate software dependencies and development tools prior to receipt by a final consumer for the purpose of data or system compromise'], 'T1195.002': ['Compromise Software Supply Chain', 'Adversaries may manipulate application software prior to receipt by a final consumer for the purpose of data or system compromise'], 'T1195.003': ['Compromise Hardware Supply Chain', 'Adversaries may manipulate hardware components in products prior to receipt by a final consumer for the purpose of data or system compromise'], 'T1199': ['Trusted Relationship', 'Adversaries may breach or otherwise leverage organizations who have access to intended victims'], 'T1078': ['Valid Accounts', 'Adversaries may obtain and abuse credentials of existing accounts as a means of gaining Initial Access, Persistence, Privilege Escalation, or Defense Evasion'], 'T1078.001': ['Default Accounts', 'Adversaries may obtain and abuse credentials of a default account as a means of gaining Initial Access, Persistence, Privilege Escalation, or Defense Evasion']}\n",
            "\n",
            "~~~~~~~~~~~~~~~~~~~~~~~~~~~~~~~~~11~~~~~~~~~~~~~~~~~~~~~~~~~~~~~~~~~~~~~~\n",
            "<IPython.core.display.Markdown object>\n",
            "Tactic check: Lateral Movement\n",
            "inside folder tactic: {'T1550': ['Use Alternate Authentication Material', 'Adversaries may use alternate authentication material, such as password hashes, Kerberos tickets, and application access tokens, in order to move laterally within an environment and bypass normal system access controls'], 'T1550.001': ['Application Access Token', 'Adversaries may use stolen application access tokens to bypass the typical authentication process and access restricted accounts, information, or services on remote systems'], 'T1550.002': ['Pass the Hash', 'Adversaries may \"pass the hash\" using stolen password hashes to move laterally within an environment, bypassing normal system access controls'], 'T1550.003': ['Pass the Ticket', 'Adversaries may \"pass the ticket\" using stolen Kerberos tickets to move laterally within an environment, bypassing normal system access controls'], 'T1550.004': ['Web Session Cookie', 'Adversaries can use stolen session cookies to authenticate to web applications and services']}\n",
            "\n",
            "~~~~~~~~~~~~~~~~~~~~~~~~~~~~~~~~~12~~~~~~~~~~~~~~~~~~~~~~~~~~~~~~~~~~~~~~\n",
            "<IPython.core.display.Markdown object>\n",
            "Tactic check: Resource Development\n",
            "inside folder tactic: {'T1587.003': ['Digital Certificates', 'Adversaries may create self-signed SSL/TLS certificates that can be used during targeting'], 'T1587.004': ['Exploits', 'Adversaries may develop exploits that can be used during targeting'], 'T1585': ['Establish Accounts', 'Adversaries may create and cultivate accounts with services that can be used during targeting'], 'T1585.001': ['Social Media Accounts', 'Adversaries may create and cultivate social media accounts that can be used during targeting'], 'T1585.002': ['Email Accounts', 'Adversaries may create email accounts that can be used during targeting'], 'T1585.003': ['Cloud Accounts', 'Adversaries may create accounts with cloud providers that can be used during targeting'], 'T1588': ['Obtain Capabilities', 'Adversaries may buy and/or steal capabilities that can be used during targeting'], 'T1588.001': ['Malware', 'Adversaries may buy, steal, or download malware that can be used during targeting'], 'T1588.002': ['Tool', 'Adversaries may buy, steal, or download software tools that can be used during targeting'], 'T1588.003': ['Code Signing Certificates', 'Adversaries may buy and/or steal code signing certificates that can be used during targeting'], 'T1588.004': ['Digital Certificates', 'Adversaries may buy and/or steal SSL/TLS certificates that can be used during targeting'], 'T1588.005': ['Exploits', 'Adversaries may buy, steal, or download exploits that can be used during targeting'], 'T1588.006': ['Vulnerabilities', 'Adversaries may acquire information about vulnerabilities that can be used during targeting'], 'T1608': ['Stage Capabilities', 'Adversaries may upload, install, or otherwise set up capabilities that can be used during targeting'], 'T1608.001': ['Upload Malware', 'Adversaries may upload malware to third-party or adversary controlled infrastructure to make it accessible during targeting'], 'T1608.002': ['Upload Tool', 'Adversaries may upload tools to third-party or adversary controlled infrastructure to make it accessible during targeting'], 'T1608.003': ['Install Digital Certificate', 'Adversaries may install SSL/TLS certificates that can be used during targeting'], 'T1608.004': ['Drive-by Target', 'Adversaries may prepare an operational environment to infect systems that visit a website over the normal course of browsing'], 'T1608.005': ['Link Target', 'Adversaries may put in place resources that are referenced by a link that can be used during targeting'], 'T1608.006': ['SEO Poisoning', 'Adversaries may poison mechanisms that influence search engine optimization (SEO) to further lure staged capabilities towards potential victims']}\n",
            "\n",
            "~~~~~~~~~~~~~~~~~~~~~~~~~~~~~~~~~13~~~~~~~~~~~~~~~~~~~~~~~~~~~~~~~~~~~~~~\n",
            "<IPython.core.display.Markdown object>\n",
            "Tactic check: Reconnaissance_1.json\n",
            "inside folder tactic: {'T1595': ['Active Scanning', 'Adversaries may execute active reconnaissance scans to gather information that can be used during targeting'], 'T1595.001': ['Scanning IP Blocks', 'Adversaries may scan victim IP blocks to gather information that can be used during targeting'], 'T1595.002': ['Vulnerability Scanning', 'Adversaries may scan victims for vulnerabilities that can be used during targeting'], 'T1595.003': ['Wordlist Scanning', 'Adversaries may iteratively probe infrastructure using brute-forcing and crawling techniques'], 'T1592': ['Gather Victim Host Information', \"Adversaries may gather information about the victim's hosts that can be used during targeting\"], 'T1592.001': ['Hardware', \"Adversaries may gather information about the victim's host hardware that can be used during targeting\"], 'T1592.002': ['Software', \"Adversaries may gather information about the victim's host software that can be used during targeting\"], 'T1592.003': ['Firmware', \"Adversaries may gather information about the victim's host firmware that can be used during targeting\"], 'T1592.004': ['Client Configurations', \"Adversaries may gather information about the victim's client configurations that can be used during targeting\"], 'T1589': ['Gather Victim Identity Information', \"Adversaries may gather information about the victim's identity that can be used during targeting\"], 'T1589.001': ['Credentials', 'Adversaries may gather credentials that can be used during targeting'], 'T1589.002': ['Email Addresses', 'Adversaries may gather email addresses that can be used during targeting'], 'T1589.003': ['Employee Names', 'Adversaries may gather employee names that can be used during targeting'], 'T1590': ['Gather Victim Network Information', \"Adversaries may gather information about the victim's networks that can be used during targeting\"], 'T1590.001': ['Domain Properties', \"Adversaries may gather information about the victim's network domain(s) that can be used during targeting\"], 'T1590.002': ['DNS', \"Adversaries may gather information about the victim's DNS that can be used during targeting\"], 'T1590.003': ['Network Trust Dependencies', \"Adversaries may gather information about the victim's network trust dependencies that can be used during targeting\"], 'T1590.004': ['Network Topology', \"Adversaries may gather information about the victim's network topology that can be used during targeting\"], 'T1590.005': ['IP Addresses', \"Adversaries may gather the victim's IP addresses that can be used during targeting\"], 'T1590.006': ['Network Security Appliances', \"Adversaries may gather information about the victim's network security appliances that can be used during targeting\"], 'T1591': ['Gather Victim Org Information', \"Adversaries may gather information about the victim's organization that can be used during targeting\"], 'T1591.001': ['Determine Physical Locations', \"Adversaries may gather the victim's physical location(s) that can be used during targeting\"], 'T1591.002': ['Business Relationships', \"Adversaries may gather information about the victim's business relationships that can be used during targeting\"], 'T1591.003': ['Identify Business Tempo', \"Adversaries may gather information about the victim's business tempo that can be used during targeting\"], 'T1591.004': ['Identify Roles', 'Adversaries may gather information about identities and roles within the victim organization that can be used during targeting'], 'T1598': ['Phishing for Information', 'Adversaries may send phishing messages to elicit sensitive information that can be used during targeting']}\n",
            "\n",
            "~~~~~~~~~~~~~~~~~~~~~~~~~~~~~~~~~14~~~~~~~~~~~~~~~~~~~~~~~~~~~~~~~~~~~~~~\n",
            "<IPython.core.display.Markdown object>\n",
            "index 1 \t Sid: 366\n",
            "Tactic check: Persistence\n",
            "inside folder tactic: {'T1547.014': ['Active Setup', 'Adversaries may achieve persistence by adding a Registry key to the Active Setup of the local machine'], 'T1547.015': ['Login Items', 'Adversaries may add login items to execute upon user login to gain persistence or escalate privileges'], 'T1037': ['Boot or Logon Initialization Scripts', 'Adversaries may use scripts automatically executed at boot or logon initialization to establish persistence'], 'T1037.001': ['Logon Script (Windows)', 'Adversaries may use Windows logon scripts automatically executed at logon initialization to establish persistence'], 'T1037.002': ['Login Hook', 'Adversaries may use a Login Hook to establish persistence executed upon user logon'], 'T1037.003': ['Network Logon Script', 'Adversaries may use network logon scripts automatically executed at logon initialization to establish persistence'], 'T1037.004': ['RC Scripts', 'Adversaries may establish persistence by modifying RC scripts which are executed during a Unix-like system’s startup'], 'T1037.005': ['Startup Items', 'Adversaries may use startup items automatically executed at boot initialization to establish persistence'], 'T1176': ['Browser Extensions', 'Adversaries may abuse Internet browser extensions to establish persistent access to victim systems'], 'T1554': ['Compromise Client Software Binary', 'Adversaries may modify client software binaries to establish persistent access to systems'], 'T1136': ['Create Account', 'Adversaries may create an account to maintain access to victim systems'], 'T1136.001': ['Local Account', 'Adversaries may create a local account to maintain access to victim systems'], 'T1136.002': ['Domain Account', 'Adversaries may create a domain account to maintain access to victim systems'], 'T1136.003': ['Cloud Account', 'Adversaries may create a cloud account to maintain access to victim systems'], 'T1543': ['Create or Modify System Process', 'Adversaries may create or modify system-level processes to repeatedly execute malicious payloads as part of persistence'], 'T1543.001': ['Launch Agent', 'Adversaries may create or modify launch agents to repeatedly execute malicious payloads as part of persistence'], 'T1543.002': ['Systemd Service', 'Adversaries may create or modify systemd services to repeatedly execute malicious payloads as part of persistence'], 'T1543.003': ['Windows Service', 'Adversaries may create or modify Windows services to repeatedly execute malicious payloads as part of persistence'], 'T1543.004': ['Launch Daemon', 'Adversaries may create or modify Launch Daemons to execute malicious payloads as part of persistence'], 'T1546': ['Event Triggered Execution', 'Adversaries may establish persistence and/or elevate privileges using system mechanisms that trigger execution based on specific events'], 'T1546.001': ['Change Default File Association', 'Adversaries may establish persistence by executing malicious content triggered by a file type association'], 'T1546.002': ['Screensaver', 'Adversaries may establish persistence by executing malicious content triggered by user inactivity'], 'T1546.003': ['Windows Management Instrumentation Event Subscription', 'Adversaries may establish persistence and elevate privileges by executing malicious content triggered by a Windows Management Instrumentation (WMI) event subscription']}\n",
            "\n",
            "~~~~~~~~~~~~~~~~~~~~~~~~~~~~~~~~~0~~~~~~~~~~~~~~~~~~~~~~~~~~~~~~~~~~~~~~\n",
            "<IPython.core.display.Markdown object>\n",
            "Tactic check: Impact\n",
            "inside folder tactic: {'T1531': ['Account Access Removal', 'Adversaries may interrupt availability of system and network resources by inhibiting access to accounts utilized by legitimate users'], 'T1485': ['Data Destruction', 'Adversaries may destroy data and files on specific systems or in large numbers on a network to interrupt availability to systems, services, and network resources'], 'T1486': ['Data Encrypted for Impact', 'Adversaries may encrypt data on target systems or on large numbers of systems in a network to interrupt availability to system and network resources'], 'T1565': ['Data Manipulation', 'Adversaries may insert, delete, or manipulate data in order to influence external outcomes or hide activity, thus threatening the integrity of the data'], 'T1565.001': ['Stored Data Manipulation', 'Adversaries may insert, delete, or manipulate data at rest in order to influence external outcomes or hide activity, thus threatening the integrity of the data'], 'T1565.002': ['Transmitted Data Manipulation', 'Adversaries may alter data en route to storage or other systems in order to manipulate external outcomes or hide activity, thus threatening the integrity of the data'], 'T1565.003': ['Runtime Data Manipulation', 'Adversaries may modify systems in order to manipulate the data as it is accessed and displayed to an end user, thus threatening the integrity of the data'], 'T1491': ['Defacement', 'Adversaries may modify visual content available internally or externally to an enterprise network, thus affecting the integrity of the original content'], 'T1491.001': ['Internal Defacement', 'An adversary may deface systems internal to an organization in an attempt to intimidate or mislead users, thus discrediting the integrity of the systems'], 'T1491.002': ['External Defacement', 'An adversary may deface systems external to an organization in an attempt to deliver messaging, intimidate, or otherwise mislead an organization or users'], 'T1561': ['Disk Wipe', 'Adversaries may wipe or corrupt raw disk data on specific systems or in large numbers in a network to interrupt availability to system and network resources'], 'T1561.001': ['Disk Content Wipe', 'Adversaries may erase the contents of storage devices on specific systems or in large numbers in a network to interrupt availability to system and network resources'], 'T1561.002': ['Disk Structure Wipe', 'Adversaries may corrupt or wipe the disk data structures on a hard drive necessary to boot a system; targeting specific critical systems or in large numbers in a network to interrupt availability to system and network resources'], 'T1499': ['Endpoint Denial of Service', 'Adversaries may perform Endpoint Denial of Service (DoS) attacks to degrade or block the availability of services to users'], 'T1499.001': ['OS Exhaustion Flood', \"Adversaries may launch a denial of service (DoS) attack targeting an endpoint's operating system (OS)\"], 'T1499.002': ['Service Exhaustion Flood', 'Adversaries may target the different network services provided by systems to conduct a denial of service (DoS)'], 'T1499.003': ['Application Exhaustion Flood', 'Adversaries may target resource intensive features of applications to cause a denial of service (DoS), denying availability to those applications']}\n",
            "\n",
            "~~~~~~~~~~~~~~~~~~~~~~~~~~~~~~~~~1~~~~~~~~~~~~~~~~~~~~~~~~~~~~~~~~~~~~~~\n",
            "<IPython.core.display.Markdown object>\n",
            "Tactic check: Discovery\n",
            "inside folder tactic: {'T1087': ['Account Discovery', 'Adversaries may attempt to get a listing of valid accounts, usernames, or email addresses on a system or within a compromised environment'], 'T1087.001': ['Local Account', 'Adversaries may attempt to get a listing of local system accounts'], 'T1087.002': ['Domain Account', 'Adversaries may attempt to get a listing of domain accounts'], 'T1087.003': ['Email Account', 'Adversaries may attempt to get a listing of email addresses and accounts'], 'T1087.004': ['Cloud Account', 'Adversaries may attempt to get a listing of cloud accounts'], 'T1010': ['Application Window Discovery', 'Adversaries may attempt to get a listing of open application windows'], 'T1217': ['Browser Information Discovery', 'Adversaries may enumerate information about browsers to learn more about compromised environments'], 'T1580': ['Cloud Infrastructure Discovery', 'An adversary may attempt to discover infrastructure and resources that are available within an infrastructure-as-a-service (IaaS) environment'], 'T1538': ['Cloud Service Dashboard', 'An adversary may use a cloud service dashboard GUI with stolen credentials to gain useful information from an operational cloud environment, such as specific services, resources, and features'], 'T1526': ['Cloud Service Discovery', 'An adversary may attempt to enumerate the cloud services running on a system after gaining access'], 'T1619': ['Cloud Storage Object Discovery', 'Adversaries may enumerate objects in cloud storage infrastructure'], 'T1613': ['Container and Resource Discovery', 'Adversaries may attempt to discover containers and other resources that are available within a containers environment'], 'T1622': ['Debugger Evasion', 'Adversaries may employ various means to detect and avoid debuggers'], 'T1652': ['Device Driver Discovery', 'Adversaries may attempt to enumerate local device drivers on a victim host'], 'T1482': ['Domain Trust Discovery', 'Adversaries may attempt to gather information on domain trust relationships that may be used to identify lateral movement opportunities in Windows multi-domain/forest environments'], 'T1083': ['File and Directory Discovery', 'Adversaries may enumerate files and directories or may search in specific locations of a host or network share for certain information within a file system'], 'T1615': ['Group Policy Discovery', 'Adversaries may gather information on Group Policy settings to identify paths for privilege escalation, security measures applied within a domain, and to discover patterns in domain objects that can be manipulated or used to blend in the environment'], 'T1654': ['Log Enumeration', 'Adversaries may enumerate system and service logs to find useful data'], 'T1046': ['Network Service Discovery', 'Adversaries may attempt to get a listing of services running on remote hosts and local network infrastructure devices, including those that may be vulnerable to remote software exploitation'], 'T1135': ['Network Share Discovery', 'Adversaries may look for folders and drives shared on remote systems as a means of identifying sources of information to gather as a precursor for Collection and to identify potential systems of interest for Lateral Movement']}\n",
            "\n",
            "~~~~~~~~~~~~~~~~~~~~~~~~~~~~~~~~~2~~~~~~~~~~~~~~~~~~~~~~~~~~~~~~~~~~~~~~\n",
            "<IPython.core.display.Markdown object>\n",
            "Tactic check: Execution\n",
            "inside folder tactic: {'T1648': ['Serverless Execution', 'Adversaries may abuse serverless computing, integration, and automation services to execute arbitrary code in cloud environments'], 'T1129': ['Shared Modules', 'Adversaries may execute malicious payloads via loading shared modules'], 'T1072': ['Software Deployment Tools', 'Adversaries may gain access to and use third-party software suites installed within an enterprise network, such as administration, monitoring, and deployment systems, to move laterally through the network'], 'T1569': ['System Services', 'Adversaries may abuse system services or daemons to execute commands or programs'], 'T1569.001': ['Launchctl', 'Adversaries may abuse launchctl to execute commands or programs'], 'T1569.002': ['Service Execution', 'Adversaries may abuse the Windows service control manager to execute malicious commands or payloads'], 'T1204': ['User Execution', 'An adversary may rely upon specific actions by a user in order to gain execution'], 'T1204.001': ['Malicious Link', 'An adversary may rely upon a user clicking a malicious link in order to gain execution'], 'T1204.002': ['Malicious File', 'An adversary may rely upon a user opening a malicious file in order to gain execution'], 'T1204.003': ['Malicious Image', 'Adversaries may rely on a user running a malicious image to facilitate execution'], 'T1047': ['Windows Management Instrumentation', 'Adversaries may abuse Windows Management Instrumentation (WMI) to execute malicious commands and payloads']}\n",
            "\n",
            "~~~~~~~~~~~~~~~~~~~~~~~~~~~~~~~~~3~~~~~~~~~~~~~~~~~~~~~~~~~~~~~~~~~~~~~~\n",
            "<IPython.core.display.Markdown object>\n",
            "Tactic check: Command and Control\n",
            "inside folder tactic: {'T1071': ['Application Layer Protocol', 'Adversaries may communicate using OSI application layer protocols to avoid detection/network filtering by blending in with existing traffic'], 'T1071.001': ['Web Protocols', 'Adversaries may communicate using application layer protocols associated with web traffic to avoid detection/network filtering by blending in with existing traffic'], 'T1071.002': ['File Transfer Protocols', 'Adversaries may communicate using application layer protocols associated with transferring files to avoid detection/network filtering by blending in with existing traffic'], 'T1071.003': ['Mail Protocols', 'Adversaries may communicate using application layer protocols associated with electronic mail delivery to avoid detection/network filtering by blending in with existing traffic'], 'T1071.004': ['DNS', 'Adversaries may communicate using the Domain Name System (DNS) application layer protocol to avoid detection/network filtering by blending in with existing traffic'], 'T1092': ['Communication Through Removable Media', 'Adversaries can perform command and control between compromised hosts on potentially disconnected networks using removable media to transfer commands from system to system'], 'T1659': ['Content Injection', 'Adversaries may gain access and continuously communicate with victims by injecting malicious content into systems through online network traffic'], 'T1132': ['Data Encoding', 'Adversaries may encode data to make the content of command and control traffic more difficult to detect'], 'T1132.001': ['Standard Encoding', 'Adversaries may encode data with a standard data encoding system to make the content of command and control traffic more difficult to detect'], 'T1132.002': ['Non-Standard Encoding', 'Adversaries may encode data with a non-standard data encoding system to make the content of command and control traffic more difficult to detect'], 'T1001': ['Data Obfuscation', 'Adversaries may obfuscate command and control traffic to make it more difficult to detect'], 'T1001.001': ['Junk Data', 'Adversaries may add junk data to protocols used for command and control to make detection more difficult'], 'T1001.002': ['Steganography', 'Adversaries may use steganographic techniques to hide command and control traffic to make detection efforts more difficult'], 'T1001.003': ['Protocol Impersonation', 'Adversaries may impersonate legitimate protocols or web service traffic to disguise command and control activity and thwart analysis efforts'], 'T1568': ['Dynamic Resolution', 'Adversaries may dynamically establish connections to command and control infrastructure to evade common detections and remediations'], 'T1568.001': ['Fast Flux DNS', 'Adversaries may use Fast Flux DNS to hide a command and control channel behind an array of rapidly changing IP addresses linked to a single domain resolution'], 'T1568.002': ['Domain Generation Algorithms', 'Adversaries may make use of Domain Generation Algorithms (DGAs) to dynamically identify a destination domain for command and control traffic rather than relying on a list of static IP addresses or domains']}\n",
            "\n",
            "~~~~~~~~~~~~~~~~~~~~~~~~~~~~~~~~~4~~~~~~~~~~~~~~~~~~~~~~~~~~~~~~~~~~~~~~\n",
            "<IPython.core.display.Markdown object>\n",
            "Tactic check: Privilege Escalation\n",
            "inside folder tactic: {'T1053.003': ['Cron', 'Adversaries may abuse the cron utility to perform task scheduling for initial or recurring execution of malicious code'], 'T1053.005': ['Scheduled Task', 'Adversaries may abuse the Windows Task Scheduler to perform task scheduling for initial or recurring execution of malicious code'], 'T1053.006': ['Systemd Timers', 'Adversaries may abuse systemd timers to perform task scheduling for initial or recurring execution of malicious code'], 'T1053.007': ['Container Orchestration Job', 'Adversaries may abuse task scheduling functionality provided by container orchestration tools such as Kubernetes to schedule deployment of containers configured to execute malicious code'], 'T1078': ['Valid Accounts', 'Adversaries may obtain and abuse credentials of existing accounts as a means of gaining Initial Access, Persistence, Privilege Escalation, or Defense Evasion'], 'T1078.001': ['Default Accounts', 'Adversaries may obtain and abuse credentials of a default account as a means of gaining Initial Access, Persistence, Privilege Escalation, or Defense Evasion'], 'T1078.002': ['Domain Accounts', 'Adversaries may obtain and abuse credentials of a domain account as a means of gaining Initial Access, Persistence, Privilege Escalation, or Defense Evasion'], 'T1078.003': ['Local Accounts', 'Adversaries may obtain and abuse credentials of a local account as a means of gaining Initial Access, Persistence, Privilege Escalation, or Defense Evasion'], 'T1078.004': ['Cloud Accounts', 'Valid accounts in cloud environments may allow adversaries to perform actions to achieve Initial Access, Persistence, Privilege Escalation, or Defense Evasion']}\n",
            "\n",
            "~~~~~~~~~~~~~~~~~~~~~~~~~~~~~~~~~5~~~~~~~~~~~~~~~~~~~~~~~~~~~~~~~~~~~~~~\n",
            "<IPython.core.display.Markdown object>\n",
            "Tactic check: Defense Evasion\n",
            "inside folder tactic: {'T1484.002': ['Domain Trust Modification', 'Adversaries may add new domain trusts or modify the properties of existing domain trusts to evade defenses and/or elevate privileges'], 'T1480': ['Execution Guardrails', 'Adversaries may use execution guardrails to constrain execution or actions based on adversary supplied and environment specific conditions that are expected to be present on the target'], 'T1480.001': ['Environmental Keying', 'Adversaries may environmentally key payloads or other features of malware to evade defenses and constraint execution to a specific target environment'], 'T1211': ['Exploitation for Defense Evasion', 'Adversaries may exploit a system or application vulnerability to bypass security features'], 'T1222': ['File and Directory Permissions Modification', 'Adversaries may modify file or directory permissions/attributes to evade access control lists (ACLs) and access protected files'], 'T1222.001': ['Windows File and Directory Permissions Modification', 'Adversaries may modify file or directory permissions/attributes to evade access control lists (ACLs) and access protected files'], 'T1222.002': ['Linux and Mac File and Directory Permissions Modification', 'Adversaries may modify file or directory permissions/attributes to evade access control lists (ACLs) and access protected files'], 'T1564': ['Hide Artifacts', 'Adversaries may attempt to hide artifacts associated with their behaviors to evade detection'], 'T1564.001': ['Hidden Files and Directories', 'Adversaries may set files and directories to be hidden to evade detection mechanisms'], 'T1564.002': ['Hidden Users', 'Adversaries may use hidden users to hide the presence of user accounts they create or modify'], 'T1564.003': ['Hidden Window', 'Adversaries may use hidden windows to conceal malicious activity from the plain sight of users'], 'T1564.004': ['NTFS File Attributes', 'Adversaries may use NTFS file attributes to hide their malicious data in order to evade detection'], 'T1564.005': ['Hidden File System', 'Adversaries may use a hidden file system to conceal malicious activity from users and security tools'], 'T1564.006': ['Run Virtual Instance', 'Adversaries may carry out malicious operations using a virtual instance to avoid detection'], 'T1564.007': ['VBA Stomping', 'Adversaries may hide malicious Visual Basic for Applications (VBA) payloads embedded within MS Office documents by replacing the VBA source code with benign data'], 'T1564.008': ['Email Hiding Rules', \"Adversaries may use email rules to hide inbound emails in a compromised user's mailbox\"], 'T1564.009': ['Resource Forking', 'Adversaries may abuse resource forks to hide malicious code or executables to evade detection and bypass security applications'], 'T1564.010': ['Process Argument Spoofing', 'Adversaries may attempt to hide process command-line arguments by overwriting process memory'], 'T1564.011': ['Ignore Process Interrupts', 'Adversaries may evade defensive mechanisms by executing commands that hide from process interrupt signals'], 'T1574': ['Hijack Execution Flow', 'Adversaries may execute their own malicious payloads by hijacking the way operating systems run programs']}\n",
            "\n",
            "~~~~~~~~~~~~~~~~~~~~~~~~~~~~~~~~~6~~~~~~~~~~~~~~~~~~~~~~~~~~~~~~~~~~~~~~\n",
            "<IPython.core.display.Markdown object>\n",
            "Tactic check: Credential Access\n",
            "inside folder tactic: {'T1557': ['Adversary-in-the-Middle', 'Adversaries may attempt to position themselves between two or more networked devices using an adversary-in-the-middle (AiTM) technique to support follow-on behaviors such as Network Sniffing, Transmitted Data Manipulation, or replay attacks (Exploitation for Credential Access)'], 'T1557.001': ['LLMNR/NBT-NS Poisoning and SMB Relay', 'By responding to LLMNR/NBT-NS network traffic, adversaries may spoof an authoritative source for name resolution to force communication with an adversary controlled system'], 'T1557.002': ['ARP Cache Poisoning', 'Adversaries may poison Address Resolution Protocol (ARP) caches to position themselves between the communication of two or more networked devices'], 'T1557.003': ['DHCP Spoofing', 'Adversaries may redirect network traffic to adversary-owned systems by spoofing Dynamic Host Configuration Protocol (DHCP) traffic and acting as a malicious DHCP server on the victim network'], 'T1110': ['Brute Force', 'Adversaries may use brute force techniques to gain access to accounts when passwords are unknown or when password hashes are obtained'], 'T1110.001': ['Password Guessing', 'Adversaries with no prior knowledge of legitimate credentials within the system or environment may guess passwords to attempt access to accounts'], 'T1110.002': ['Password Cracking', 'Adversaries may use password cracking to attempt to recover usable credentials, such as plaintext passwords, when credential material such as password hashes are obtained'], 'T1110.003': ['Password Spraying', 'Adversaries may use a single or small list of commonly used passwords against many different accounts to attempt to acquire valid account credentials'], 'T1110.004': ['Credential Stuffing', 'Adversaries may use credentials obtained from breach dumps of unrelated accounts to gain access to target accounts through credential overlap'], 'T1555': ['Credentials from Password Stores', 'Adversaries may search for common password storage locations to obtain user credentials'], 'T1555.001': ['Keychain', 'Adversaries may acquire credentials from Keychain'], 'T1555.002': ['Securityd Memory', 'An adversary may obtain root access (allowing them to read securityd’s memory), then they can scan through memory to find the correct sequence of keys in relatively few tries to decrypt the user’s logon keychain'], 'T1555.003': ['Credentials from Web Browsers', 'Adversaries may acquire credentials from web browsers by reading files specific to the target browser'], 'T1555.004': ['Windows Credential Manager', 'Adversaries may acquire credentials from the Windows Credential Manager'], 'T1555.005': ['Password Managers', 'Adversaries may acquire user credentials from third-party password managers'], 'T1555.006': ['Cloud Secrets Management Stores', 'Adversaries may acquire credentials from cloud-native secret management solutions such as AWS Secrets Manager, GCP Secret Manager, Azure Key Vault, and Terraform Vault'], 'T1212': ['Exploitation for Credential Access', 'Adversaries may exploit software vulnerabilities in an attempt to collect credentials']}\n",
            "\n",
            "~~~~~~~~~~~~~~~~~~~~~~~~~~~~~~~~~7~~~~~~~~~~~~~~~~~~~~~~~~~~~~~~~~~~~~~~\n",
            "<IPython.core.display.Markdown object>\n",
            "Tactic check: Collection\n",
            "inside folder tactic: {'T1557': ['Adversary-in-the-Middle', 'Adversaries may attempt to position themselves between two or more networked devices using an adversary-in-the-middle (AiTM) technique to support follow-on behaviors such as Network Sniffing, Transmitted Data Manipulation, or replay attacks (Exploitation for Credential Access)'], 'T1557.001': ['LLMNR/NBT-NS Poisoning and SMB Relay', 'By responding to LLMNR/NBT-NS network traffic, adversaries may spoof an authoritative source for name resolution to force communication with an adversary controlled system'], 'T1557.002': ['ARP Cache Poisoning', 'Adversaries may poison Address Resolution Protocol (ARP) caches to position themselves between the communication of two or more networked devices'], 'T1557.003': ['DHCP Spoofing', 'Adversaries may redirect network traffic to adversary-owned systems by spoofing Dynamic Host Configuration Protocol (DHCP) traffic and acting as a malicious DHCP server on the victim network'], 'T1560': ['Archive Collected Data', 'An adversary may compress and/or encrypt data that is collected prior to exfiltration'], 'T1560.001': ['Archive via Utility', 'Adversaries may use utilities to compress and/or encrypt collected data prior to exfiltration'], 'T1560.002': ['Archive via Library', 'An adversary may compress or encrypt data that is collected prior to exfiltration using 3rd party libraries'], 'T1560.003': ['Archive via Custom Method', 'An adversary may compress or encrypt data that is collected prior to exfiltration using a custom method'], 'T1123': ['Audio Capture', \"An adversary can leverage a computer's peripheral devices (e\"], 'T1119': ['Automated Collection', 'Once established within a system or network, an adversary may use automated techniques for collecting internal data'], 'T1185': ['Browser Session Hijacking', 'Adversaries may take advantage of security vulnerabilities and inherent functionality in browser software to change content, modify user-behaviors, and intercept information as part of various browser session hijacking techniques'], 'T1115': ['Clipboard Data', 'Adversaries may collect data stored in the clipboard from users copying information within or between applications'], 'T1530': ['Data from Cloud Storage', 'Adversaries may access data from cloud storage'], 'T1602': ['Data from Configuration Repository', 'Adversaries may collect data related to managed devices from configuration repositories'], 'T1602.001': ['SNMP (MIB Dump)', 'Adversaries may target the Management Information Base (MIB) to collect and/or mine valuable information in a network managed using Simple Network Management Protocol (SNMP)'], 'T1602.002': ['Network Device Configuration Dump', 'Adversaries may access network configuration files to collect sensitive data about the device and the network'], 'T1213': ['Data from Information Repositories', 'Adversaries may leverage information repositories to mine valuable information'], 'T1213.001': ['Confluence', 'Adversaries may leverage Confluence repositories to mine valuable information'], 'T1213.002': ['Sharepoint', 'Adversaries may leverage the SharePoint repository as a source to mine valuable information']}\n",
            "\n",
            "~~~~~~~~~~~~~~~~~~~~~~~~~~~~~~~~~8~~~~~~~~~~~~~~~~~~~~~~~~~~~~~~~~~~~~~~\n",
            "<IPython.core.display.Markdown object>\n",
            "Tactic check: Reconnaissance\n",
            "inside folder tactic: {'T1595': ['Active Scanning', 'Adversaries may execute active reconnaissance scans to gather information that can be used during targeting'], 'T1595.001': ['Scanning IP Blocks', 'Adversaries may scan victim IP blocks to gather information that can be used during targeting'], 'T1595.002': ['Vulnerability Scanning', 'Adversaries may scan victims for vulnerabilities that can be used during targeting'], 'T1595.003': ['Wordlist Scanning', 'Adversaries may iteratively probe infrastructure using brute-forcing and crawling techniques'], 'T1592': ['Gather Victim Host Information', \"Adversaries may gather information about the victim's hosts that can be used during targeting\"], 'T1592.001': ['Hardware', \"Adversaries may gather information about the victim's host hardware that can be used during targeting\"], 'T1592.002': ['Software', \"Adversaries may gather information about the victim's host software that can be used during targeting\"], 'T1592.003': ['Firmware', \"Adversaries may gather information about the victim's host firmware that can be used during targeting\"], 'T1592.004': ['Client Configurations', \"Adversaries may gather information about the victim's client configurations that can be used during targeting\"], 'T1589': ['Gather Victim Identity Information', \"Adversaries may gather information about the victim's identity that can be used during targeting\"], 'T1589.001': ['Credentials', 'Adversaries may gather credentials that can be used during targeting'], 'T1589.002': ['Email Addresses', 'Adversaries may gather email addresses that can be used during targeting'], 'T1589.003': ['Employee Names', 'Adversaries may gather employee names that can be used during targeting'], 'T1590': ['Gather Victim Network Information', \"Adversaries may gather information about the victim's networks that can be used during targeting\"], 'T1590.001': ['Domain Properties', \"Adversaries may gather information about the victim's network domain(s) that can be used during targeting\"], 'T1590.002': ['DNS', \"Adversaries may gather information about the victim's DNS that can be used during targeting\"], 'T1590.003': ['Network Trust Dependencies', \"Adversaries may gather information about the victim's network trust dependencies that can be used during targeting\"], 'T1590.004': ['Network Topology', \"Adversaries may gather information about the victim's network topology that can be used during targeting\"], 'T1590.005': ['IP Addresses', \"Adversaries may gather the victim's IP addresses that can be used during targeting\"], 'T1590.006': ['Network Security Appliances', \"Adversaries may gather information about the victim's network security appliances that can be used during targeting\"], 'T1591': ['Gather Victim Org Information', \"Adversaries may gather information about the victim's organization that can be used during targeting\"], 'T1591.001': ['Determine Physical Locations', \"Adversaries may gather the victim's physical location(s) that can be used during targeting\"], 'T1591.002': ['Business Relationships', \"Adversaries may gather information about the victim's business relationships that can be used during targeting\"]}\n",
            "\n",
            "~~~~~~~~~~~~~~~~~~~~~~~~~~~~~~~~~9~~~~~~~~~~~~~~~~~~~~~~~~~~~~~~~~~~~~~~\n",
            "<IPython.core.display.Markdown object>\n",
            "Tactic check: Exfiltration\n",
            "inside folder tactic: {'T1020': ['Automated Exfiltration', 'Adversaries may exfiltrate data, such as sensitive documents, through the use of automated processing after being gathered during Collection'], 'T1020.001': ['Traffic Duplication', 'Adversaries may leverage traffic mirroring in order to automate data exfiltration over compromised infrastructure'], 'T1030': ['Data Transfer Size Limits', 'An adversary may exfiltrate data in fixed size chunks instead of whole files or limit packet sizes below certain thresholds'], 'T1048': ['Exfiltration Over Alternative Protocol', 'Adversaries may steal data by exfiltrating it over a different protocol than that of the existing command and control channel'], 'T1048.001': ['Exfiltration Over Symmetric Encrypted Non-C2 Protocol', 'Adversaries may steal data by exfiltrating it over a symmetrically encrypted network protocol other than that of the existing command and control channel'], 'T1048.002': ['Exfiltration Over Asymmetric Encrypted Non-C2 Protocol', 'Adversaries may steal data by exfiltrating it over an asymmetrically encrypted network protocol other than that of the existing command and control channel'], 'T1048.003': ['Exfiltration Over Unencrypted Non-C2 Protocol', 'Adversaries may steal data by exfiltrating it over an un-encrypted network protocol other than that of the existing command and control channel'], 'T1041': ['Exfiltration Over C2 Channel', 'Adversaries may steal data by exfiltrating it over an existing command and control channel'], 'T1011': ['Exfiltration Over Other Network Medium', 'Adversaries may attempt to exfiltrate data over a different network medium than the command and control channel'], 'T1011.001': ['Exfiltration Over Bluetooth', 'Adversaries may attempt to exfiltrate data over Bluetooth rather than the command and control channel'], 'T1052': ['Exfiltration Over Physical Medium', 'Adversaries may attempt to exfiltrate data via a physical medium, such as a removable drive'], 'T1052.001': ['Exfiltration over USB', 'Adversaries may attempt to exfiltrate data over a USB connected physical device'], 'T1567': ['Exfiltration Over Web Service', 'Adversaries may use an existing, legitimate external Web service to exfiltrate data rather than their primary command and control channel'], 'T1567.001': ['Exfiltration to Code Repository', 'Adversaries may exfiltrate data to a code repository rather than over their primary command and control channel'], 'T1567.002': ['Exfiltration to Cloud Storage', 'Adversaries may exfiltrate data to a cloud storage service rather than over their primary command and control channel'], 'T1567.003': ['Exfiltration to Text Storage Sites', 'Adversaries may exfiltrate data to text storage sites instead of their primary command and control channel'], 'T1567.004': ['Exfiltration Over Webhook', 'Adversaries may exfiltrate data to a webhook endpoint rather than over their primary command and control channel'], 'T1029': ['Scheduled Transfer', 'Adversaries may schedule data exfiltration to be performed only at certain times of day or at certain intervals'], 'T1537': ['Transfer Data to Cloud Account', 'Adversaries may exfiltrate data by transferring the data, including backups of cloud environments, to another cloud account they control on the same service to avoid typical file transfers/downloads and network-based exfiltration detection']}\n",
            "\n",
            "~~~~~~~~~~~~~~~~~~~~~~~~~~~~~~~~~10~~~~~~~~~~~~~~~~~~~~~~~~~~~~~~~~~~~~~~\n",
            "<IPython.core.display.Markdown object>\n",
            "Tactic check: Initial Access\n",
            "inside folder tactic: {'T1659': ['Content Injection', 'Adversaries may gain access and continuously communicate with victims by injecting malicious content into systems through online network traffic'], 'T1189': ['Drive-by Compromise', 'Adversaries may gain access to a system through a user visiting a website over the normal course of browsing'], 'T1190': ['Exploit Public-Facing Application', 'Adversaries may attempt to exploit a weakness in an Internet-facing host or system to initially access a network'], 'T1133': ['External Remote Services', 'Adversaries may leverage external-facing remote services to initially access and/or persist within a network'], 'T1200': ['Hardware Additions', 'Adversaries may introduce computer accessories, networking hardware, or other computing devices into a system or network that can be used as a vector to gain access'], 'T1566': ['Phishing', 'Adversaries may send phishing messages to gain access to victim systems'], 'T1566.001': ['Spearphishing Attachment', 'Adversaries may send spearphishing emails with a malicious attachment in an attempt to gain access to victim systems'], 'T1566.002': ['Spearphishing Link', 'Adversaries may send spearphishing emails with a malicious link in an attempt to gain access to victim systems'], 'T1566.003': ['Spearphishing via Service', 'Adversaries may send spearphishing messages via third-party services in an attempt to gain access to victim systems'], 'T1566.004': ['Spearphishing Voice', 'Adversaries may use voice communications to ultimately gain access to victim systems'], 'T1091': ['Replication Through Removable Media', 'Adversaries may move onto systems, possibly those on disconnected or air-gapped networks, by copying malware to removable media and taking advantage of Autorun features when the media is inserted into a system and executes'], 'T1195': ['Supply Chain Compromise', 'Adversaries may manipulate products or product delivery mechanisms prior to receipt by a final consumer for the purpose of data or system compromise'], 'T1195.001': ['Compromise Software Dependencies and Development Tools', 'Adversaries may manipulate software dependencies and development tools prior to receipt by a final consumer for the purpose of data or system compromise'], 'T1195.002': ['Compromise Software Supply Chain', 'Adversaries may manipulate application software prior to receipt by a final consumer for the purpose of data or system compromise'], 'T1195.003': ['Compromise Hardware Supply Chain', 'Adversaries may manipulate hardware components in products prior to receipt by a final consumer for the purpose of data or system compromise'], 'T1199': ['Trusted Relationship', 'Adversaries may breach or otherwise leverage organizations who have access to intended victims'], 'T1078': ['Valid Accounts', 'Adversaries may obtain and abuse credentials of existing accounts as a means of gaining Initial Access, Persistence, Privilege Escalation, or Defense Evasion'], 'T1078.001': ['Default Accounts', 'Adversaries may obtain and abuse credentials of a default account as a means of gaining Initial Access, Persistence, Privilege Escalation, or Defense Evasion']}\n",
            "\n",
            "~~~~~~~~~~~~~~~~~~~~~~~~~~~~~~~~~11~~~~~~~~~~~~~~~~~~~~~~~~~~~~~~~~~~~~~~\n",
            "<IPython.core.display.Markdown object>\n",
            "Tactic check: Lateral Movement\n",
            "inside folder tactic: {'T1550': ['Use Alternate Authentication Material', 'Adversaries may use alternate authentication material, such as password hashes, Kerberos tickets, and application access tokens, in order to move laterally within an environment and bypass normal system access controls'], 'T1550.001': ['Application Access Token', 'Adversaries may use stolen application access tokens to bypass the typical authentication process and access restricted accounts, information, or services on remote systems'], 'T1550.002': ['Pass the Hash', 'Adversaries may \"pass the hash\" using stolen password hashes to move laterally within an environment, bypassing normal system access controls'], 'T1550.003': ['Pass the Ticket', 'Adversaries may \"pass the ticket\" using stolen Kerberos tickets to move laterally within an environment, bypassing normal system access controls'], 'T1550.004': ['Web Session Cookie', 'Adversaries can use stolen session cookies to authenticate to web applications and services']}\n",
            "\n",
            "~~~~~~~~~~~~~~~~~~~~~~~~~~~~~~~~~12~~~~~~~~~~~~~~~~~~~~~~~~~~~~~~~~~~~~~~\n",
            "<IPython.core.display.Markdown object>\n",
            "Tactic check: Resource Development\n",
            "inside folder tactic: {'T1587.003': ['Digital Certificates', 'Adversaries may create self-signed SSL/TLS certificates that can be used during targeting'], 'T1587.004': ['Exploits', 'Adversaries may develop exploits that can be used during targeting'], 'T1585': ['Establish Accounts', 'Adversaries may create and cultivate accounts with services that can be used during targeting'], 'T1585.001': ['Social Media Accounts', 'Adversaries may create and cultivate social media accounts that can be used during targeting'], 'T1585.002': ['Email Accounts', 'Adversaries may create email accounts that can be used during targeting'], 'T1585.003': ['Cloud Accounts', 'Adversaries may create accounts with cloud providers that can be used during targeting'], 'T1588': ['Obtain Capabilities', 'Adversaries may buy and/or steal capabilities that can be used during targeting'], 'T1588.001': ['Malware', 'Adversaries may buy, steal, or download malware that can be used during targeting'], 'T1588.002': ['Tool', 'Adversaries may buy, steal, or download software tools that can be used during targeting'], 'T1588.003': ['Code Signing Certificates', 'Adversaries may buy and/or steal code signing certificates that can be used during targeting'], 'T1588.004': ['Digital Certificates', 'Adversaries may buy and/or steal SSL/TLS certificates that can be used during targeting'], 'T1588.005': ['Exploits', 'Adversaries may buy, steal, or download exploits that can be used during targeting'], 'T1588.006': ['Vulnerabilities', 'Adversaries may acquire information about vulnerabilities that can be used during targeting'], 'T1608': ['Stage Capabilities', 'Adversaries may upload, install, or otherwise set up capabilities that can be used during targeting'], 'T1608.001': ['Upload Malware', 'Adversaries may upload malware to third-party or adversary controlled infrastructure to make it accessible during targeting'], 'T1608.002': ['Upload Tool', 'Adversaries may upload tools to third-party or adversary controlled infrastructure to make it accessible during targeting'], 'T1608.003': ['Install Digital Certificate', 'Adversaries may install SSL/TLS certificates that can be used during targeting'], 'T1608.004': ['Drive-by Target', 'Adversaries may prepare an operational environment to infect systems that visit a website over the normal course of browsing'], 'T1608.005': ['Link Target', 'Adversaries may put in place resources that are referenced by a link that can be used during targeting'], 'T1608.006': ['SEO Poisoning', 'Adversaries may poison mechanisms that influence search engine optimization (SEO) to further lure staged capabilities towards potential victims']}\n",
            "\n",
            "~~~~~~~~~~~~~~~~~~~~~~~~~~~~~~~~~13~~~~~~~~~~~~~~~~~~~~~~~~~~~~~~~~~~~~~~\n",
            "<IPython.core.display.Markdown object>\n",
            "Tactic check: Reconnaissance_1.json\n",
            "inside folder tactic: {'T1595': ['Active Scanning', 'Adversaries may execute active reconnaissance scans to gather information that can be used during targeting'], 'T1595.001': ['Scanning IP Blocks', 'Adversaries may scan victim IP blocks to gather information that can be used during targeting'], 'T1595.002': ['Vulnerability Scanning', 'Adversaries may scan victims for vulnerabilities that can be used during targeting'], 'T1595.003': ['Wordlist Scanning', 'Adversaries may iteratively probe infrastructure using brute-forcing and crawling techniques'], 'T1592': ['Gather Victim Host Information', \"Adversaries may gather information about the victim's hosts that can be used during targeting\"], 'T1592.001': ['Hardware', \"Adversaries may gather information about the victim's host hardware that can be used during targeting\"], 'T1592.002': ['Software', \"Adversaries may gather information about the victim's host software that can be used during targeting\"], 'T1592.003': ['Firmware', \"Adversaries may gather information about the victim's host firmware that can be used during targeting\"], 'T1592.004': ['Client Configurations', \"Adversaries may gather information about the victim's client configurations that can be used during targeting\"], 'T1589': ['Gather Victim Identity Information', \"Adversaries may gather information about the victim's identity that can be used during targeting\"], 'T1589.001': ['Credentials', 'Adversaries may gather credentials that can be used during targeting'], 'T1589.002': ['Email Addresses', 'Adversaries may gather email addresses that can be used during targeting'], 'T1589.003': ['Employee Names', 'Adversaries may gather employee names that can be used during targeting'], 'T1590': ['Gather Victim Network Information', \"Adversaries may gather information about the victim's networks that can be used during targeting\"], 'T1590.001': ['Domain Properties', \"Adversaries may gather information about the victim's network domain(s) that can be used during targeting\"], 'T1590.002': ['DNS', \"Adversaries may gather information about the victim's DNS that can be used during targeting\"], 'T1590.003': ['Network Trust Dependencies', \"Adversaries may gather information about the victim's network trust dependencies that can be used during targeting\"], 'T1590.004': ['Network Topology', \"Adversaries may gather information about the victim's network topology that can be used during targeting\"], 'T1590.005': ['IP Addresses', \"Adversaries may gather the victim's IP addresses that can be used during targeting\"], 'T1590.006': ['Network Security Appliances', \"Adversaries may gather information about the victim's network security appliances that can be used during targeting\"], 'T1591': ['Gather Victim Org Information', \"Adversaries may gather information about the victim's organization that can be used during targeting\"], 'T1591.001': ['Determine Physical Locations', \"Adversaries may gather the victim's physical location(s) that can be used during targeting\"], 'T1591.002': ['Business Relationships', \"Adversaries may gather information about the victim's business relationships that can be used during targeting\"], 'T1591.003': ['Identify Business Tempo', \"Adversaries may gather information about the victim's business tempo that can be used during targeting\"], 'T1591.004': ['Identify Roles', 'Adversaries may gather information about identities and roles within the victim organization that can be used during targeting'], 'T1598': ['Phishing for Information', 'Adversaries may send phishing messages to elicit sensitive information that can be used during targeting']}\n",
            "\n",
            "~~~~~~~~~~~~~~~~~~~~~~~~~~~~~~~~~14~~~~~~~~~~~~~~~~~~~~~~~~~~~~~~~~~~~~~~\n",
            "<IPython.core.display.Markdown object>\n",
            "index 2 \t Sid: 382\n",
            "Tactic check: Persistence\n",
            "inside folder tactic: {'T1547.014': ['Active Setup', 'Adversaries may achieve persistence by adding a Registry key to the Active Setup of the local machine'], 'T1547.015': ['Login Items', 'Adversaries may add login items to execute upon user login to gain persistence or escalate privileges'], 'T1037': ['Boot or Logon Initialization Scripts', 'Adversaries may use scripts automatically executed at boot or logon initialization to establish persistence'], 'T1037.001': ['Logon Script (Windows)', 'Adversaries may use Windows logon scripts automatically executed at logon initialization to establish persistence'], 'T1037.002': ['Login Hook', 'Adversaries may use a Login Hook to establish persistence executed upon user logon'], 'T1037.003': ['Network Logon Script', 'Adversaries may use network logon scripts automatically executed at logon initialization to establish persistence'], 'T1037.004': ['RC Scripts', 'Adversaries may establish persistence by modifying RC scripts which are executed during a Unix-like system’s startup'], 'T1037.005': ['Startup Items', 'Adversaries may use startup items automatically executed at boot initialization to establish persistence'], 'T1176': ['Browser Extensions', 'Adversaries may abuse Internet browser extensions to establish persistent access to victim systems'], 'T1554': ['Compromise Client Software Binary', 'Adversaries may modify client software binaries to establish persistent access to systems'], 'T1136': ['Create Account', 'Adversaries may create an account to maintain access to victim systems'], 'T1136.001': ['Local Account', 'Adversaries may create a local account to maintain access to victim systems'], 'T1136.002': ['Domain Account', 'Adversaries may create a domain account to maintain access to victim systems'], 'T1136.003': ['Cloud Account', 'Adversaries may create a cloud account to maintain access to victim systems'], 'T1543': ['Create or Modify System Process', 'Adversaries may create or modify system-level processes to repeatedly execute malicious payloads as part of persistence'], 'T1543.001': ['Launch Agent', 'Adversaries may create or modify launch agents to repeatedly execute malicious payloads as part of persistence'], 'T1543.002': ['Systemd Service', 'Adversaries may create or modify systemd services to repeatedly execute malicious payloads as part of persistence'], 'T1543.003': ['Windows Service', 'Adversaries may create or modify Windows services to repeatedly execute malicious payloads as part of persistence'], 'T1543.004': ['Launch Daemon', 'Adversaries may create or modify Launch Daemons to execute malicious payloads as part of persistence'], 'T1546': ['Event Triggered Execution', 'Adversaries may establish persistence and/or elevate privileges using system mechanisms that trigger execution based on specific events'], 'T1546.001': ['Change Default File Association', 'Adversaries may establish persistence by executing malicious content triggered by a file type association'], 'T1546.002': ['Screensaver', 'Adversaries may establish persistence by executing malicious content triggered by user inactivity'], 'T1546.003': ['Windows Management Instrumentation Event Subscription', 'Adversaries may establish persistence and elevate privileges by executing malicious content triggered by a Windows Management Instrumentation (WMI) event subscription']}\n",
            "\n",
            "~~~~~~~~~~~~~~~~~~~~~~~~~~~~~~~~~0~~~~~~~~~~~~~~~~~~~~~~~~~~~~~~~~~~~~~~\n",
            "<IPython.core.display.Markdown object>\n",
            "Tactic check: Impact\n",
            "inside folder tactic: {'T1531': ['Account Access Removal', 'Adversaries may interrupt availability of system and network resources by inhibiting access to accounts utilized by legitimate users'], 'T1485': ['Data Destruction', 'Adversaries may destroy data and files on specific systems or in large numbers on a network to interrupt availability to systems, services, and network resources'], 'T1486': ['Data Encrypted for Impact', 'Adversaries may encrypt data on target systems or on large numbers of systems in a network to interrupt availability to system and network resources'], 'T1565': ['Data Manipulation', 'Adversaries may insert, delete, or manipulate data in order to influence external outcomes or hide activity, thus threatening the integrity of the data'], 'T1565.001': ['Stored Data Manipulation', 'Adversaries may insert, delete, or manipulate data at rest in order to influence external outcomes or hide activity, thus threatening the integrity of the data'], 'T1565.002': ['Transmitted Data Manipulation', 'Adversaries may alter data en route to storage or other systems in order to manipulate external outcomes or hide activity, thus threatening the integrity of the data'], 'T1565.003': ['Runtime Data Manipulation', 'Adversaries may modify systems in order to manipulate the data as it is accessed and displayed to an end user, thus threatening the integrity of the data'], 'T1491': ['Defacement', 'Adversaries may modify visual content available internally or externally to an enterprise network, thus affecting the integrity of the original content'], 'T1491.001': ['Internal Defacement', 'An adversary may deface systems internal to an organization in an attempt to intimidate or mislead users, thus discrediting the integrity of the systems'], 'T1491.002': ['External Defacement', 'An adversary may deface systems external to an organization in an attempt to deliver messaging, intimidate, or otherwise mislead an organization or users'], 'T1561': ['Disk Wipe', 'Adversaries may wipe or corrupt raw disk data on specific systems or in large numbers in a network to interrupt availability to system and network resources'], 'T1561.001': ['Disk Content Wipe', 'Adversaries may erase the contents of storage devices on specific systems or in large numbers in a network to interrupt availability to system and network resources'], 'T1561.002': ['Disk Structure Wipe', 'Adversaries may corrupt or wipe the disk data structures on a hard drive necessary to boot a system; targeting specific critical systems or in large numbers in a network to interrupt availability to system and network resources'], 'T1499': ['Endpoint Denial of Service', 'Adversaries may perform Endpoint Denial of Service (DoS) attacks to degrade or block the availability of services to users'], 'T1499.001': ['OS Exhaustion Flood', \"Adversaries may launch a denial of service (DoS) attack targeting an endpoint's operating system (OS)\"], 'T1499.002': ['Service Exhaustion Flood', 'Adversaries may target the different network services provided by systems to conduct a denial of service (DoS)'], 'T1499.003': ['Application Exhaustion Flood', 'Adversaries may target resource intensive features of applications to cause a denial of service (DoS), denying availability to those applications']}\n",
            "\n",
            "~~~~~~~~~~~~~~~~~~~~~~~~~~~~~~~~~1~~~~~~~~~~~~~~~~~~~~~~~~~~~~~~~~~~~~~~\n",
            "<IPython.core.display.Markdown object>\n",
            "Tactic check: Discovery\n",
            "inside folder tactic: {'T1087': ['Account Discovery', 'Adversaries may attempt to get a listing of valid accounts, usernames, or email addresses on a system or within a compromised environment'], 'T1087.001': ['Local Account', 'Adversaries may attempt to get a listing of local system accounts'], 'T1087.002': ['Domain Account', 'Adversaries may attempt to get a listing of domain accounts'], 'T1087.003': ['Email Account', 'Adversaries may attempt to get a listing of email addresses and accounts'], 'T1087.004': ['Cloud Account', 'Adversaries may attempt to get a listing of cloud accounts'], 'T1010': ['Application Window Discovery', 'Adversaries may attempt to get a listing of open application windows'], 'T1217': ['Browser Information Discovery', 'Adversaries may enumerate information about browsers to learn more about compromised environments'], 'T1580': ['Cloud Infrastructure Discovery', 'An adversary may attempt to discover infrastructure and resources that are available within an infrastructure-as-a-service (IaaS) environment'], 'T1538': ['Cloud Service Dashboard', 'An adversary may use a cloud service dashboard GUI with stolen credentials to gain useful information from an operational cloud environment, such as specific services, resources, and features'], 'T1526': ['Cloud Service Discovery', 'An adversary may attempt to enumerate the cloud services running on a system after gaining access'], 'T1619': ['Cloud Storage Object Discovery', 'Adversaries may enumerate objects in cloud storage infrastructure'], 'T1613': ['Container and Resource Discovery', 'Adversaries may attempt to discover containers and other resources that are available within a containers environment'], 'T1622': ['Debugger Evasion', 'Adversaries may employ various means to detect and avoid debuggers'], 'T1652': ['Device Driver Discovery', 'Adversaries may attempt to enumerate local device drivers on a victim host'], 'T1482': ['Domain Trust Discovery', 'Adversaries may attempt to gather information on domain trust relationships that may be used to identify lateral movement opportunities in Windows multi-domain/forest environments'], 'T1083': ['File and Directory Discovery', 'Adversaries may enumerate files and directories or may search in specific locations of a host or network share for certain information within a file system'], 'T1615': ['Group Policy Discovery', 'Adversaries may gather information on Group Policy settings to identify paths for privilege escalation, security measures applied within a domain, and to discover patterns in domain objects that can be manipulated or used to blend in the environment'], 'T1654': ['Log Enumeration', 'Adversaries may enumerate system and service logs to find useful data'], 'T1046': ['Network Service Discovery', 'Adversaries may attempt to get a listing of services running on remote hosts and local network infrastructure devices, including those that may be vulnerable to remote software exploitation'], 'T1135': ['Network Share Discovery', 'Adversaries may look for folders and drives shared on remote systems as a means of identifying sources of information to gather as a precursor for Collection and to identify potential systems of interest for Lateral Movement']}\n",
            "\n",
            "~~~~~~~~~~~~~~~~~~~~~~~~~~~~~~~~~2~~~~~~~~~~~~~~~~~~~~~~~~~~~~~~~~~~~~~~\n",
            "<IPython.core.display.Markdown object>\n",
            "Tactic check: Execution\n",
            "inside folder tactic: {'T1648': ['Serverless Execution', 'Adversaries may abuse serverless computing, integration, and automation services to execute arbitrary code in cloud environments'], 'T1129': ['Shared Modules', 'Adversaries may execute malicious payloads via loading shared modules'], 'T1072': ['Software Deployment Tools', 'Adversaries may gain access to and use third-party software suites installed within an enterprise network, such as administration, monitoring, and deployment systems, to move laterally through the network'], 'T1569': ['System Services', 'Adversaries may abuse system services or daemons to execute commands or programs'], 'T1569.001': ['Launchctl', 'Adversaries may abuse launchctl to execute commands or programs'], 'T1569.002': ['Service Execution', 'Adversaries may abuse the Windows service control manager to execute malicious commands or payloads'], 'T1204': ['User Execution', 'An adversary may rely upon specific actions by a user in order to gain execution'], 'T1204.001': ['Malicious Link', 'An adversary may rely upon a user clicking a malicious link in order to gain execution'], 'T1204.002': ['Malicious File', 'An adversary may rely upon a user opening a malicious file in order to gain execution'], 'T1204.003': ['Malicious Image', 'Adversaries may rely on a user running a malicious image to facilitate execution'], 'T1047': ['Windows Management Instrumentation', 'Adversaries may abuse Windows Management Instrumentation (WMI) to execute malicious commands and payloads']}\n",
            "\n",
            "~~~~~~~~~~~~~~~~~~~~~~~~~~~~~~~~~3~~~~~~~~~~~~~~~~~~~~~~~~~~~~~~~~~~~~~~\n",
            "<IPython.core.display.Markdown object>\n",
            "Tactic check: Command and Control\n",
            "inside folder tactic: {'T1071': ['Application Layer Protocol', 'Adversaries may communicate using OSI application layer protocols to avoid detection/network filtering by blending in with existing traffic'], 'T1071.001': ['Web Protocols', 'Adversaries may communicate using application layer protocols associated with web traffic to avoid detection/network filtering by blending in with existing traffic'], 'T1071.002': ['File Transfer Protocols', 'Adversaries may communicate using application layer protocols associated with transferring files to avoid detection/network filtering by blending in with existing traffic'], 'T1071.003': ['Mail Protocols', 'Adversaries may communicate using application layer protocols associated with electronic mail delivery to avoid detection/network filtering by blending in with existing traffic'], 'T1071.004': ['DNS', 'Adversaries may communicate using the Domain Name System (DNS) application layer protocol to avoid detection/network filtering by blending in with existing traffic'], 'T1092': ['Communication Through Removable Media', 'Adversaries can perform command and control between compromised hosts on potentially disconnected networks using removable media to transfer commands from system to system'], 'T1659': ['Content Injection', 'Adversaries may gain access and continuously communicate with victims by injecting malicious content into systems through online network traffic'], 'T1132': ['Data Encoding', 'Adversaries may encode data to make the content of command and control traffic more difficult to detect'], 'T1132.001': ['Standard Encoding', 'Adversaries may encode data with a standard data encoding system to make the content of command and control traffic more difficult to detect'], 'T1132.002': ['Non-Standard Encoding', 'Adversaries may encode data with a non-standard data encoding system to make the content of command and control traffic more difficult to detect'], 'T1001': ['Data Obfuscation', 'Adversaries may obfuscate command and control traffic to make it more difficult to detect'], 'T1001.001': ['Junk Data', 'Adversaries may add junk data to protocols used for command and control to make detection more difficult'], 'T1001.002': ['Steganography', 'Adversaries may use steganographic techniques to hide command and control traffic to make detection efforts more difficult'], 'T1001.003': ['Protocol Impersonation', 'Adversaries may impersonate legitimate protocols or web service traffic to disguise command and control activity and thwart analysis efforts'], 'T1568': ['Dynamic Resolution', 'Adversaries may dynamically establish connections to command and control infrastructure to evade common detections and remediations'], 'T1568.001': ['Fast Flux DNS', 'Adversaries may use Fast Flux DNS to hide a command and control channel behind an array of rapidly changing IP addresses linked to a single domain resolution'], 'T1568.002': ['Domain Generation Algorithms', 'Adversaries may make use of Domain Generation Algorithms (DGAs) to dynamically identify a destination domain for command and control traffic rather than relying on a list of static IP addresses or domains']}\n",
            "\n",
            "~~~~~~~~~~~~~~~~~~~~~~~~~~~~~~~~~4~~~~~~~~~~~~~~~~~~~~~~~~~~~~~~~~~~~~~~\n",
            "<IPython.core.display.Markdown object>\n",
            "Tactic check: Privilege Escalation\n",
            "inside folder tactic: {'T1053.003': ['Cron', 'Adversaries may abuse the cron utility to perform task scheduling for initial or recurring execution of malicious code'], 'T1053.005': ['Scheduled Task', 'Adversaries may abuse the Windows Task Scheduler to perform task scheduling for initial or recurring execution of malicious code'], 'T1053.006': ['Systemd Timers', 'Adversaries may abuse systemd timers to perform task scheduling for initial or recurring execution of malicious code'], 'T1053.007': ['Container Orchestration Job', 'Adversaries may abuse task scheduling functionality provided by container orchestration tools such as Kubernetes to schedule deployment of containers configured to execute malicious code'], 'T1078': ['Valid Accounts', 'Adversaries may obtain and abuse credentials of existing accounts as a means of gaining Initial Access, Persistence, Privilege Escalation, or Defense Evasion'], 'T1078.001': ['Default Accounts', 'Adversaries may obtain and abuse credentials of a default account as a means of gaining Initial Access, Persistence, Privilege Escalation, or Defense Evasion'], 'T1078.002': ['Domain Accounts', 'Adversaries may obtain and abuse credentials of a domain account as a means of gaining Initial Access, Persistence, Privilege Escalation, or Defense Evasion'], 'T1078.003': ['Local Accounts', 'Adversaries may obtain and abuse credentials of a local account as a means of gaining Initial Access, Persistence, Privilege Escalation, or Defense Evasion'], 'T1078.004': ['Cloud Accounts', 'Valid accounts in cloud environments may allow adversaries to perform actions to achieve Initial Access, Persistence, Privilege Escalation, or Defense Evasion']}\n",
            "\n",
            "~~~~~~~~~~~~~~~~~~~~~~~~~~~~~~~~~5~~~~~~~~~~~~~~~~~~~~~~~~~~~~~~~~~~~~~~\n",
            "<IPython.core.display.Markdown object>\n",
            "Tactic check: Defense Evasion\n",
            "inside folder tactic: {'T1484.002': ['Domain Trust Modification', 'Adversaries may add new domain trusts or modify the properties of existing domain trusts to evade defenses and/or elevate privileges'], 'T1480': ['Execution Guardrails', 'Adversaries may use execution guardrails to constrain execution or actions based on adversary supplied and environment specific conditions that are expected to be present on the target'], 'T1480.001': ['Environmental Keying', 'Adversaries may environmentally key payloads or other features of malware to evade defenses and constraint execution to a specific target environment'], 'T1211': ['Exploitation for Defense Evasion', 'Adversaries may exploit a system or application vulnerability to bypass security features'], 'T1222': ['File and Directory Permissions Modification', 'Adversaries may modify file or directory permissions/attributes to evade access control lists (ACLs) and access protected files'], 'T1222.001': ['Windows File and Directory Permissions Modification', 'Adversaries may modify file or directory permissions/attributes to evade access control lists (ACLs) and access protected files'], 'T1222.002': ['Linux and Mac File and Directory Permissions Modification', 'Adversaries may modify file or directory permissions/attributes to evade access control lists (ACLs) and access protected files'], 'T1564': ['Hide Artifacts', 'Adversaries may attempt to hide artifacts associated with their behaviors to evade detection'], 'T1564.001': ['Hidden Files and Directories', 'Adversaries may set files and directories to be hidden to evade detection mechanisms'], 'T1564.002': ['Hidden Users', 'Adversaries may use hidden users to hide the presence of user accounts they create or modify'], 'T1564.003': ['Hidden Window', 'Adversaries may use hidden windows to conceal malicious activity from the plain sight of users'], 'T1564.004': ['NTFS File Attributes', 'Adversaries may use NTFS file attributes to hide their malicious data in order to evade detection'], 'T1564.005': ['Hidden File System', 'Adversaries may use a hidden file system to conceal malicious activity from users and security tools'], 'T1564.006': ['Run Virtual Instance', 'Adversaries may carry out malicious operations using a virtual instance to avoid detection'], 'T1564.007': ['VBA Stomping', 'Adversaries may hide malicious Visual Basic for Applications (VBA) payloads embedded within MS Office documents by replacing the VBA source code with benign data'], 'T1564.008': ['Email Hiding Rules', \"Adversaries may use email rules to hide inbound emails in a compromised user's mailbox\"], 'T1564.009': ['Resource Forking', 'Adversaries may abuse resource forks to hide malicious code or executables to evade detection and bypass security applications'], 'T1564.010': ['Process Argument Spoofing', 'Adversaries may attempt to hide process command-line arguments by overwriting process memory'], 'T1564.011': ['Ignore Process Interrupts', 'Adversaries may evade defensive mechanisms by executing commands that hide from process interrupt signals'], 'T1574': ['Hijack Execution Flow', 'Adversaries may execute their own malicious payloads by hijacking the way operating systems run programs']}\n",
            "\n",
            "~~~~~~~~~~~~~~~~~~~~~~~~~~~~~~~~~6~~~~~~~~~~~~~~~~~~~~~~~~~~~~~~~~~~~~~~\n",
            "<IPython.core.display.Markdown object>\n",
            "Tactic check: Credential Access\n",
            "inside folder tactic: {'T1557': ['Adversary-in-the-Middle', 'Adversaries may attempt to position themselves between two or more networked devices using an adversary-in-the-middle (AiTM) technique to support follow-on behaviors such as Network Sniffing, Transmitted Data Manipulation, or replay attacks (Exploitation for Credential Access)'], 'T1557.001': ['LLMNR/NBT-NS Poisoning and SMB Relay', 'By responding to LLMNR/NBT-NS network traffic, adversaries may spoof an authoritative source for name resolution to force communication with an adversary controlled system'], 'T1557.002': ['ARP Cache Poisoning', 'Adversaries may poison Address Resolution Protocol (ARP) caches to position themselves between the communication of two or more networked devices'], 'T1557.003': ['DHCP Spoofing', 'Adversaries may redirect network traffic to adversary-owned systems by spoofing Dynamic Host Configuration Protocol (DHCP) traffic and acting as a malicious DHCP server on the victim network'], 'T1110': ['Brute Force', 'Adversaries may use brute force techniques to gain access to accounts when passwords are unknown or when password hashes are obtained'], 'T1110.001': ['Password Guessing', 'Adversaries with no prior knowledge of legitimate credentials within the system or environment may guess passwords to attempt access to accounts'], 'T1110.002': ['Password Cracking', 'Adversaries may use password cracking to attempt to recover usable credentials, such as plaintext passwords, when credential material such as password hashes are obtained'], 'T1110.003': ['Password Spraying', 'Adversaries may use a single or small list of commonly used passwords against many different accounts to attempt to acquire valid account credentials'], 'T1110.004': ['Credential Stuffing', 'Adversaries may use credentials obtained from breach dumps of unrelated accounts to gain access to target accounts through credential overlap'], 'T1555': ['Credentials from Password Stores', 'Adversaries may search for common password storage locations to obtain user credentials'], 'T1555.001': ['Keychain', 'Adversaries may acquire credentials from Keychain'], 'T1555.002': ['Securityd Memory', 'An adversary may obtain root access (allowing them to read securityd’s memory), then they can scan through memory to find the correct sequence of keys in relatively few tries to decrypt the user’s logon keychain'], 'T1555.003': ['Credentials from Web Browsers', 'Adversaries may acquire credentials from web browsers by reading files specific to the target browser'], 'T1555.004': ['Windows Credential Manager', 'Adversaries may acquire credentials from the Windows Credential Manager'], 'T1555.005': ['Password Managers', 'Adversaries may acquire user credentials from third-party password managers'], 'T1555.006': ['Cloud Secrets Management Stores', 'Adversaries may acquire credentials from cloud-native secret management solutions such as AWS Secrets Manager, GCP Secret Manager, Azure Key Vault, and Terraform Vault'], 'T1212': ['Exploitation for Credential Access', 'Adversaries may exploit software vulnerabilities in an attempt to collect credentials']}\n",
            "\n",
            "~~~~~~~~~~~~~~~~~~~~~~~~~~~~~~~~~7~~~~~~~~~~~~~~~~~~~~~~~~~~~~~~~~~~~~~~\n",
            "<IPython.core.display.Markdown object>\n",
            "Tactic check: Collection\n",
            "inside folder tactic: {'T1557': ['Adversary-in-the-Middle', 'Adversaries may attempt to position themselves between two or more networked devices using an adversary-in-the-middle (AiTM) technique to support follow-on behaviors such as Network Sniffing, Transmitted Data Manipulation, or replay attacks (Exploitation for Credential Access)'], 'T1557.001': ['LLMNR/NBT-NS Poisoning and SMB Relay', 'By responding to LLMNR/NBT-NS network traffic, adversaries may spoof an authoritative source for name resolution to force communication with an adversary controlled system'], 'T1557.002': ['ARP Cache Poisoning', 'Adversaries may poison Address Resolution Protocol (ARP) caches to position themselves between the communication of two or more networked devices'], 'T1557.003': ['DHCP Spoofing', 'Adversaries may redirect network traffic to adversary-owned systems by spoofing Dynamic Host Configuration Protocol (DHCP) traffic and acting as a malicious DHCP server on the victim network'], 'T1560': ['Archive Collected Data', 'An adversary may compress and/or encrypt data that is collected prior to exfiltration'], 'T1560.001': ['Archive via Utility', 'Adversaries may use utilities to compress and/or encrypt collected data prior to exfiltration'], 'T1560.002': ['Archive via Library', 'An adversary may compress or encrypt data that is collected prior to exfiltration using 3rd party libraries'], 'T1560.003': ['Archive via Custom Method', 'An adversary may compress or encrypt data that is collected prior to exfiltration using a custom method'], 'T1123': ['Audio Capture', \"An adversary can leverage a computer's peripheral devices (e\"], 'T1119': ['Automated Collection', 'Once established within a system or network, an adversary may use automated techniques for collecting internal data'], 'T1185': ['Browser Session Hijacking', 'Adversaries may take advantage of security vulnerabilities and inherent functionality in browser software to change content, modify user-behaviors, and intercept information as part of various browser session hijacking techniques'], 'T1115': ['Clipboard Data', 'Adversaries may collect data stored in the clipboard from users copying information within or between applications'], 'T1530': ['Data from Cloud Storage', 'Adversaries may access data from cloud storage'], 'T1602': ['Data from Configuration Repository', 'Adversaries may collect data related to managed devices from configuration repositories'], 'T1602.001': ['SNMP (MIB Dump)', 'Adversaries may target the Management Information Base (MIB) to collect and/or mine valuable information in a network managed using Simple Network Management Protocol (SNMP)'], 'T1602.002': ['Network Device Configuration Dump', 'Adversaries may access network configuration files to collect sensitive data about the device and the network'], 'T1213': ['Data from Information Repositories', 'Adversaries may leverage information repositories to mine valuable information'], 'T1213.001': ['Confluence', 'Adversaries may leverage Confluence repositories to mine valuable information'], 'T1213.002': ['Sharepoint', 'Adversaries may leverage the SharePoint repository as a source to mine valuable information']}\n",
            "\n",
            "~~~~~~~~~~~~~~~~~~~~~~~~~~~~~~~~~8~~~~~~~~~~~~~~~~~~~~~~~~~~~~~~~~~~~~~~\n",
            "<IPython.core.display.Markdown object>\n",
            "Tactic check: Reconnaissance\n",
            "inside folder tactic: {'T1595': ['Active Scanning', 'Adversaries may execute active reconnaissance scans to gather information that can be used during targeting'], 'T1595.001': ['Scanning IP Blocks', 'Adversaries may scan victim IP blocks to gather information that can be used during targeting'], 'T1595.002': ['Vulnerability Scanning', 'Adversaries may scan victims for vulnerabilities that can be used during targeting'], 'T1595.003': ['Wordlist Scanning', 'Adversaries may iteratively probe infrastructure using brute-forcing and crawling techniques'], 'T1592': ['Gather Victim Host Information', \"Adversaries may gather information about the victim's hosts that can be used during targeting\"], 'T1592.001': ['Hardware', \"Adversaries may gather information about the victim's host hardware that can be used during targeting\"], 'T1592.002': ['Software', \"Adversaries may gather information about the victim's host software that can be used during targeting\"], 'T1592.003': ['Firmware', \"Adversaries may gather information about the victim's host firmware that can be used during targeting\"], 'T1592.004': ['Client Configurations', \"Adversaries may gather information about the victim's client configurations that can be used during targeting\"], 'T1589': ['Gather Victim Identity Information', \"Adversaries may gather information about the victim's identity that can be used during targeting\"], 'T1589.001': ['Credentials', 'Adversaries may gather credentials that can be used during targeting'], 'T1589.002': ['Email Addresses', 'Adversaries may gather email addresses that can be used during targeting'], 'T1589.003': ['Employee Names', 'Adversaries may gather employee names that can be used during targeting'], 'T1590': ['Gather Victim Network Information', \"Adversaries may gather information about the victim's networks that can be used during targeting\"], 'T1590.001': ['Domain Properties', \"Adversaries may gather information about the victim's network domain(s) that can be used during targeting\"], 'T1590.002': ['DNS', \"Adversaries may gather information about the victim's DNS that can be used during targeting\"], 'T1590.003': ['Network Trust Dependencies', \"Adversaries may gather information about the victim's network trust dependencies that can be used during targeting\"], 'T1590.004': ['Network Topology', \"Adversaries may gather information about the victim's network topology that can be used during targeting\"], 'T1590.005': ['IP Addresses', \"Adversaries may gather the victim's IP addresses that can be used during targeting\"], 'T1590.006': ['Network Security Appliances', \"Adversaries may gather information about the victim's network security appliances that can be used during targeting\"], 'T1591': ['Gather Victim Org Information', \"Adversaries may gather information about the victim's organization that can be used during targeting\"], 'T1591.001': ['Determine Physical Locations', \"Adversaries may gather the victim's physical location(s) that can be used during targeting\"], 'T1591.002': ['Business Relationships', \"Adversaries may gather information about the victim's business relationships that can be used during targeting\"]}\n",
            "\n",
            "~~~~~~~~~~~~~~~~~~~~~~~~~~~~~~~~~9~~~~~~~~~~~~~~~~~~~~~~~~~~~~~~~~~~~~~~\n",
            "<IPython.core.display.Markdown object>\n",
            "Tactic check: Exfiltration\n",
            "inside folder tactic: {'T1020': ['Automated Exfiltration', 'Adversaries may exfiltrate data, such as sensitive documents, through the use of automated processing after being gathered during Collection'], 'T1020.001': ['Traffic Duplication', 'Adversaries may leverage traffic mirroring in order to automate data exfiltration over compromised infrastructure'], 'T1030': ['Data Transfer Size Limits', 'An adversary may exfiltrate data in fixed size chunks instead of whole files or limit packet sizes below certain thresholds'], 'T1048': ['Exfiltration Over Alternative Protocol', 'Adversaries may steal data by exfiltrating it over a different protocol than that of the existing command and control channel'], 'T1048.001': ['Exfiltration Over Symmetric Encrypted Non-C2 Protocol', 'Adversaries may steal data by exfiltrating it over a symmetrically encrypted network protocol other than that of the existing command and control channel'], 'T1048.002': ['Exfiltration Over Asymmetric Encrypted Non-C2 Protocol', 'Adversaries may steal data by exfiltrating it over an asymmetrically encrypted network protocol other than that of the existing command and control channel'], 'T1048.003': ['Exfiltration Over Unencrypted Non-C2 Protocol', 'Adversaries may steal data by exfiltrating it over an un-encrypted network protocol other than that of the existing command and control channel'], 'T1041': ['Exfiltration Over C2 Channel', 'Adversaries may steal data by exfiltrating it over an existing command and control channel'], 'T1011': ['Exfiltration Over Other Network Medium', 'Adversaries may attempt to exfiltrate data over a different network medium than the command and control channel'], 'T1011.001': ['Exfiltration Over Bluetooth', 'Adversaries may attempt to exfiltrate data over Bluetooth rather than the command and control channel'], 'T1052': ['Exfiltration Over Physical Medium', 'Adversaries may attempt to exfiltrate data via a physical medium, such as a removable drive'], 'T1052.001': ['Exfiltration over USB', 'Adversaries may attempt to exfiltrate data over a USB connected physical device'], 'T1567': ['Exfiltration Over Web Service', 'Adversaries may use an existing, legitimate external Web service to exfiltrate data rather than their primary command and control channel'], 'T1567.001': ['Exfiltration to Code Repository', 'Adversaries may exfiltrate data to a code repository rather than over their primary command and control channel'], 'T1567.002': ['Exfiltration to Cloud Storage', 'Adversaries may exfiltrate data to a cloud storage service rather than over their primary command and control channel'], 'T1567.003': ['Exfiltration to Text Storage Sites', 'Adversaries may exfiltrate data to text storage sites instead of their primary command and control channel'], 'T1567.004': ['Exfiltration Over Webhook', 'Adversaries may exfiltrate data to a webhook endpoint rather than over their primary command and control channel'], 'T1029': ['Scheduled Transfer', 'Adversaries may schedule data exfiltration to be performed only at certain times of day or at certain intervals'], 'T1537': ['Transfer Data to Cloud Account', 'Adversaries may exfiltrate data by transferring the data, including backups of cloud environments, to another cloud account they control on the same service to avoid typical file transfers/downloads and network-based exfiltration detection']}\n",
            "\n",
            "~~~~~~~~~~~~~~~~~~~~~~~~~~~~~~~~~10~~~~~~~~~~~~~~~~~~~~~~~~~~~~~~~~~~~~~~\n",
            "<IPython.core.display.Markdown object>\n"
          ]
        },
        {
          "output_type": "error",
          "ename": "KeyboardInterrupt",
          "evalue": "",
          "traceback": [
            "\u001b[0;31m---------------------------------------------------------------------------\u001b[0m",
            "\u001b[0;31mKeyboardInterrupt\u001b[0m                         Traceback (most recent call last)",
            "\u001b[0;32m<ipython-input-46-667c9c85bb8e>\u001b[0m in \u001b[0;36m<cell line: 1>\u001b[0;34m()\u001b[0m\n\u001b[1;32m     24\u001b[0m       \u001b[0mprint\u001b[0m\u001b[0;34m(\u001b[0m\u001b[0mto_markdown\u001b[0m\u001b[0;34m(\u001b[0m\u001b[0mstr\u001b[0m\u001b[0;34m(\u001b[0m\u001b[0mres\u001b[0m\u001b[0;34m.\u001b[0m\u001b[0mcontent\u001b[0m\u001b[0;34m)\u001b[0m\u001b[0;34m)\u001b[0m\u001b[0;34m)\u001b[0m\u001b[0;34m\u001b[0m\u001b[0;34m\u001b[0m\u001b[0m\n\u001b[1;32m     25\u001b[0m       \u001b[0mcount\u001b[0m \u001b[0;34m+=\u001b[0m \u001b[0;36m1\u001b[0m \u001b[0;31m#######\u001b[0m\u001b[0;34m\u001b[0m\u001b[0;34m\u001b[0m\u001b[0m\n\u001b[0;32m---> 26\u001b[0;31m       \u001b[0mtime\u001b[0m\u001b[0;34m.\u001b[0m\u001b[0msleep\u001b[0m\u001b[0;34m(\u001b[0m\u001b[0;36m20\u001b[0m\u001b[0;34m)\u001b[0m\u001b[0;34m\u001b[0m\u001b[0;34m\u001b[0m\u001b[0m\n\u001b[0m\u001b[1;32m     27\u001b[0m \u001b[0;34m\u001b[0m\u001b[0m\n\u001b[1;32m     28\u001b[0m   \u001b[0;31m# Write to csv\u001b[0m\u001b[0;34m\u001b[0m\u001b[0;34m\u001b[0m\u001b[0m\n",
            "\u001b[0;31mKeyboardInterrupt\u001b[0m: "
          ]
        }
      ]
    },
    {
      "cell_type": "code",
      "source": [
        "#print(to_markdown(res.text).data)\n",
        "\n",
        "print(tg_dict)\n",
        "# print(tg_dict[213][0].data)\n",
        "for key, value in tg_dict.items():\n",
        "  for i in value:\n",
        "    text = clean_response(i)\n",
        "    print(text)"
      ],
      "metadata": {
        "colab": {
          "base_uri": "https://localhost:8080/"
        },
        "id": "jbcWQuDdhZIf",
        "outputId": "473f353c-4e11-46c0-d28d-87294bc225d1"
      },
      "execution_count": null,
      "outputs": [
        {
          "output_type": "stream",
          "name": "stdout",
          "text": [
            "{382: [<IPython.core.display.Markdown object>, <IPython.core.display.Markdown object>, <IPython.core.display.Markdown object>, <IPython.core.display.Markdown object>, <IPython.core.display.Markdown object>, <IPython.core.display.Markdown object>, <IPython.core.display.Markdown object>, <IPython.core.display.Markdown object>, <IPython.core.display.Markdown object>, <IPython.core.display.Markdown object>, <IPython.core.display.Markdown object>]}\n",
            "[ContentBlock(text='[]', type='text')]\n",
            "[ContentBlock(text='{}', type='text')]\n",
            "[ContentBlock(text='[]', type='text')]\n",
            "[ContentBlock(text='{}', type='text')]\n",
            "[ContentBlock(text='{}', type='text')]\n",
            "[ContentBlock(text='[]', type='text')]\n",
            "[ContentBlock(text='[]', type='text')]\n",
            "[ContentBlock(text='{}', type='text')]\n",
            "[ContentBlock(text='{}', type='text')]\n",
            "[ContentBlock(text='{}', type='text')]\n",
            "[ContentBlock(text='[]', type='text')]\n"
          ]
        }
      ]
    }
  ]
}